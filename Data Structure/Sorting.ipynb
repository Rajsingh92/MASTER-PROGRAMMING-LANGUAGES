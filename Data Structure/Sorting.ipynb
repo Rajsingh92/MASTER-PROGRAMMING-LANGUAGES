{
 "cells": [
  {
   "cell_type": "code",
   "execution_count": 1,
   "metadata": {},
   "outputs": [
    {
     "name": "stdout",
     "output_type": "stream",
     "text": [
      "Sorted array\n",
      "11\n",
      "12\n",
      "22\n",
      "25\n",
      "64\n"
     ]
    }
   ],
   "source": [
    "# Python program for implementation of Selection \n",
    "# Sort \n",
    "import sys \n",
    "A = [64, 25, 12, 22, 11] \n",
    "\n",
    "# Traverse through all array elements \n",
    "for i in range(len(A)): \n",
    "\t\n",
    "\t# Find the minimum element in remaining \n",
    "\t# unsorted array \n",
    "\tmin_idx = i \n",
    "\tfor j in range(i+1, len(A)): \n",
    "\t\tif A[min_idx] > A[j]: \n",
    "\t\t\tmin_idx = j \n",
    "\t\t\t\n",
    "\t# Swap the found minimum element with \n",
    "\t# the first element\t\t \n",
    "\tA[i], A[min_idx] = A[min_idx], A[i] \n",
    "\n",
    "# Driver code to test above \n",
    "print (\"Sorted array\") \n",
    "for i in range(len(A)): \n",
    "\tprint(\"%d\" %A[i]), \n"
   ]
  },
  {
   "cell_type": "code",
   "execution_count": 2,
   "metadata": {},
   "outputs": [
    {
     "name": "stdout",
     "output_type": "stream",
     "text": [
      " 5\n",
      " 6\n",
      " 11\n",
      " 12\n",
      " 13\n"
     ]
    }
   ],
   "source": [
    "# Python program for implementation of Insertion Sort \n",
    "\n",
    "# Function to do insertion sort \n",
    "def insertionSort(arr): \n",
    "\n",
    "\t# Traverse through 1 to len(arr) \n",
    "\tfor i in range(1, len(arr)): \n",
    "\n",
    "\t\tkey = arr[i] \n",
    "\n",
    "\t\t# Move elements of arr[0..i-1], that are \n",
    "\t\t# greater than key, to one position ahead \n",
    "\t\t# of their current position \n",
    "\t\tj = i-1\n",
    "\t\twhile j >= 0 and key < arr[j] : \n",
    "\t\t\t\tarr[j + 1] = arr[j] \n",
    "\t\t\t\tj -= 1\n",
    "\t\tarr[j + 1] = key \n",
    "\n",
    "\n",
    "# Driver code to test above \n",
    "arr = [12, 11, 13, 5, 6] \n",
    "insertionSort(arr) \n",
    "for i in range(len(arr)): \n",
    "\tprint (\"% d\" % arr[i]) "
   ]
  },
  {
   "cell_type": "code",
   "execution_count": 3,
   "metadata": {},
   "outputs": [
    {
     "name": "stdout",
     "output_type": "stream",
     "text": [
      "Given array is\n",
      "12 11 13 5 6 7 \n",
      "Sorted array is: \n",
      "5 6 7 11 12 13 \n"
     ]
    }
   ],
   "source": [
    "# Python program for implementation of MergeSort \n",
    "def mergeSort(arr): \n",
    "\tif len(arr) >1: \n",
    "\t\tmid = len(arr)//2 #Finding the mid of the array \n",
    "\t\tL = arr[:mid] # Dividing the array elements \n",
    "\t\tR = arr[mid:] # into 2 halves \n",
    "\n",
    "\t\tmergeSort(L) # Sorting the first half \n",
    "\t\tmergeSort(R) # Sorting the second half \n",
    "\n",
    "\t\ti = j = k = 0\n",
    "\t\t\n",
    "\t\t# Copy data to temp arrays L[] and R[] \n",
    "\t\twhile i < len(L) and j < len(R): \n",
    "\t\t\tif L[i] < R[j]: \n",
    "\t\t\t\tarr[k] = L[i] \n",
    "\t\t\t\ti+=1\n",
    "\t\t\telse: \n",
    "\t\t\t\tarr[k] = R[j] \n",
    "\t\t\t\tj+=1\n",
    "\t\t\tk+=1\n",
    "\t\t\n",
    "\t\t# Checking if any element was left \n",
    "\t\twhile i < len(L): \n",
    "\t\t\tarr[k] = L[i] \n",
    "\t\t\ti+=1\n",
    "\t\t\tk+=1\n",
    "\t\t\n",
    "\t\twhile j < len(R): \n",
    "\t\t\tarr[k] = R[j] \n",
    "\t\t\tj+=1\n",
    "\t\t\tk+=1\n",
    "\n",
    "# Code to print the list \n",
    "def printList(arr): \n",
    "\tfor i in range(len(arr)):\t\t \n",
    "\t\tprint(arr[i],end=\" \") \n",
    "\tprint() \n",
    "\n",
    "# driver code to test the above code \n",
    "if __name__ == '__main__': \n",
    "\tarr = [12, 11, 13, 5, 6, 7] \n",
    "\tprint (\"Given array is\", end=\"\\n\") \n",
    "\tprintList(arr) \n",
    "\tmergeSort(arr) \n",
    "\tprint(\"Sorted array is: \", end=\"\\n\") \n",
    "\tprintList(arr) "
   ]
  },
  {
   "cell_type": "code",
   "execution_count": 4,
   "metadata": {},
   "outputs": [
    {
     "name": "stdout",
     "output_type": "stream",
     "text": [
      "Sorted array is:\n",
      "1\n",
      "5\n",
      "7\n",
      "8\n",
      "9\n",
      "10\n"
     ]
    }
   ],
   "source": [
    "# Python program for implementation of Quicksort Sort \n",
    "\n",
    "# This function takes last element as pivot, places \n",
    "# the pivot element at its correct position in sorted \n",
    "# array, and places all smaller (smaller than pivot) \n",
    "# to left of pivot and all greater elements to right \n",
    "# of pivot \n",
    "def partition(arr,low,high): \n",
    "\ti = ( low-1 )\t\t # index of smaller element \n",
    "\tpivot = arr[high]\t # pivot \n",
    "\n",
    "\tfor j in range(low , high): \n",
    "\n",
    "\t\t# If current element is smaller than the pivot \n",
    "\t\tif arr[j] < pivot: \n",
    "\t\t\n",
    "\t\t\t# increment index of smaller element \n",
    "\t\t\ti = i+1\n",
    "\t\t\tarr[i],arr[j] = arr[j],arr[i] \n",
    "\n",
    "\tarr[i+1],arr[high] = arr[high],arr[i+1] \n",
    "\treturn ( i+1 ) \n",
    "\n",
    "# The main function that implements QuickSort \n",
    "# arr[] --> Array to be sorted, \n",
    "# low --> Starting index, \n",
    "# high --> Ending index \n",
    "\n",
    "# Function to do Quick sort \n",
    "def quickSort(arr,low,high): \n",
    "\tif low < high: \n",
    "\n",
    "\t\t# pi is partitioning index, arr[p] is now \n",
    "\t\t# at right place \n",
    "\t\tpi = partition(arr,low,high) \n",
    "\n",
    "\t\t# Separately sort elements before \n",
    "\t\t# partition and after partition \n",
    "\t\tquickSort(arr, low, pi-1) \n",
    "\t\tquickSort(arr, pi+1, high) \n",
    "\n",
    "# Driver code to test above \n",
    "arr = [10, 7, 8, 9, 1, 5] \n",
    "n = len(arr) \n",
    "quickSort(arr,0,n-1) \n",
    "print (\"Sorted array is:\") \n",
    "for i in range(n): \n",
    "\tprint (\"%d\" %arr[i]), "
   ]
  },
  {
   "cell_type": "code",
   "execution_count": 5,
   "metadata": {},
   "outputs": [
    {
     "name": "stdout",
     "output_type": "stream",
     "text": [
      "Sorted array is:\n",
      "11\n",
      "12\n",
      "22\n",
      "25\n",
      "34\n",
      "64\n",
      "90\n"
     ]
    }
   ],
   "source": [
    "# Python program for implementation of Bubble Sort \n",
    "\n",
    "def bubbleSort(arr): \n",
    "\tn = len(arr) \n",
    "\n",
    "\t# Traverse through all array elements \n",
    "\tfor i in range(n): \n",
    "\n",
    "\t\t# Last i elements are already in place \n",
    "\t\tfor j in range(0, n-i-1): \n",
    "\n",
    "\t\t\t# traverse the array from 0 to n-i-1 \n",
    "\t\t\t# Swap if the element found is greater \n",
    "\t\t\t# than the next element \n",
    "\t\t\tif arr[j] > arr[j+1] : \n",
    "\t\t\t\tarr[j], arr[j+1] = arr[j+1], arr[j] \n",
    "\n",
    "# Driver code to test above \n",
    "arr = [64, 34, 25, 12, 22, 11, 90] \n",
    "\n",
    "bubbleSort(arr) \n",
    "\n",
    "print (\"Sorted array is:\") \n",
    "for i in range(len(arr)): \n",
    "\tprint (\"%d\" %arr[i]), \n"
   ]
  },
  {
   "cell_type": "code",
   "execution_count": null,
   "metadata": {},
   "outputs": [],
   "source": []
  }
 ],
 "metadata": {
  "kernelspec": {
   "display_name": "Python 3",
   "language": "python",
   "name": "python3"
  },
  "language_info": {
   "codemirror_mode": {
    "name": "ipython",
    "version": 3
   },
   "file_extension": ".py",
   "mimetype": "text/x-python",
   "name": "python",
   "nbconvert_exporter": "python",
   "pygments_lexer": "ipython3",
   "version": "3.7.3"
  }
 },
 "nbformat": 4,
 "nbformat_minor": 2
}
