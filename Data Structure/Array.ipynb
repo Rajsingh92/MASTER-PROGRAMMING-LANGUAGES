{
 "cells": [
  {
   "cell_type": "code",
   "execution_count": 1,
   "metadata": {},
   "outputs": [
    {
     "name": "stdout",
     "output_type": "stream",
     "text": [
      "element found at position: 5\n"
     ]
    }
   ],
   "source": [
    "# Python program for searching in \n",
    "# unsorted array \n",
    "\n",
    "def findElement(arr, n, key): \n",
    "\tfor i in range (n): \n",
    "\t\tif (arr[i] == key): \n",
    "\t\t\treturn i \n",
    "\treturn -1\n",
    "\n",
    "arr = [12, 34, 10, 6, 40] \n",
    "key = 40\n",
    "n = len(arr) \n",
    "\n",
    "#search operation \n",
    "index = findElement(arr, n, key) \n",
    "if index != -1: \n",
    "\tprint (\"element found at position: \" + str(index + 1 )) \n",
    "else: \n",
    "\tprint (\"element not found\") \n",
    "\t\n"
   ]
  },
  {
   "cell_type": "code",
   "execution_count": 2,
   "metadata": {},
   "outputs": [
    {
     "name": "stdout",
     "output_type": "stream",
     "text": [
      "Before Inserting: \n",
      "[12, 16, 20, 40, 50, 70]\n",
      "After Inserting: \n",
      "[12, 16, 20, 40, 50, 70, 26]\n"
     ]
    }
   ],
   "source": [
    "# Python program for inserting \n",
    "# an element in an unsorted array \n",
    "\n",
    "# method to insert element \n",
    "def insert(arr, element): \n",
    "\tarr.append(element) \n",
    "\n",
    "# declaring array and key to insert \n",
    "arr = [12, 16, 20, 40, 50, 70] \n",
    "key = 26\n",
    "\n",
    "# array before inserting an element \n",
    "print (\"Before Inserting: \") \n",
    "print (arr) \n",
    "\n",
    "# array after Inserting element \n",
    "insert(arr, key) \n",
    "print(\"After Inserting: \") \n",
    "print (arr) \n",
    "\n"
   ]
  },
  {
   "cell_type": "code",
   "execution_count": 4,
   "metadata": {},
   "outputs": [
    {
     "name": "stdout",
     "output_type": "stream",
     "text": [
      "Array before deletion:\n",
      "[10, 50, 30, 40, 20]\n",
      "Array after deletion\n",
      "[10, 50, 40, 20]\n"
     ]
    }
   ],
   "source": [
    "# Python program to delete an element \n",
    "# from an unsorted array \n",
    "\n",
    "# Declaring array and key to delete \n",
    "arr = [10, 50, 30, 40, 20] \n",
    "key = 30\n",
    "\n",
    "print(\"Array before deletion:\") \n",
    "print(arr) \n",
    "\n",
    "# deletes key if found in the array \n",
    "# otherwise shows error not in list \n",
    "arr.remove(key) \n",
    "print(\"Array after deletion\") \n",
    "print(arr) "
   ]
  },
  {
   "cell_type": "code",
   "execution_count": 5,
   "metadata": {},
   "outputs": [
    {
     "name": "stdout",
     "output_type": "stream",
     "text": [
      " 3  4  5  6  7  1  2 "
     ]
    }
   ],
   "source": [
    "# Python3 program to rotate an array by \n",
    "# d elements \n",
    "# Function to left rotate arr[] of size n by d*/ \n",
    "def leftRotate(arr, d, n): \n",
    "\tfor i in range(d): \n",
    "\t\tleftRotatebyOne(arr, n) \n",
    "\n",
    "# Function to left Rotate arr[] of size n by 1*/ \n",
    "def leftRotatebyOne(arr, n): \n",
    "\ttemp = arr[0] \n",
    "\tfor i in range(n-1): \n",
    "\t\tarr[i] = arr[i + 1] \n",
    "\tarr[n-1] = temp \n",
    "\t\t\n",
    "\n",
    "# utility function to print an array */ \n",
    "def printArray(arr, size): \n",
    "\tfor i in range(size): \n",
    "\t\tprint (\"% d\"% arr[i], end =\" \") \n",
    "\n",
    "\n",
    "# Driver program to test above functions */ \n",
    "arr = [1, 2, 3, 4, 5, 6, 7] \n",
    "leftRotate(arr, 2, 7) \n",
    "printArray(arr, 7) \n",
    "\n"
   ]
  },
  {
   "cell_type": "code",
   "execution_count": 6,
   "metadata": {},
   "outputs": [
    {
     "name": "stdout",
     "output_type": "stream",
     "text": [
      "[1, 2, 3, 4, 5, 6]\n",
      "Reversed list is\n",
      "[6, 5, 4, 3, 2, 1]\n"
     ]
    }
   ],
   "source": [
    "# Iterative python program to reverse an array \n",
    "\n",
    "# Function to reverse A[] from start to end \n",
    "def reverseList(A, start, end): \n",
    "\twhile start < end: \n",
    "\t\tA[start], A[end] = A[end], A[start] \n",
    "\t\tstart += 1\n",
    "\t\tend -= 1\n",
    "\n",
    "# Driver function to test above function \n",
    "A = [1, 2, 3, 4, 5, 6] \n",
    "print(A) \n",
    "reverseList(A, 0, 5) \n",
    "print(\"Reversed list is\") \n",
    "print(A) "
   ]
  },
  {
   "cell_type": "code",
   "execution_count": null,
   "metadata": {},
   "outputs": [],
   "source": []
  }
 ],
 "metadata": {
  "kernelspec": {
   "display_name": "Python 3",
   "language": "python",
   "name": "python3"
  },
  "language_info": {
   "codemirror_mode": {
    "name": "ipython",
    "version": 3
   },
   "file_extension": ".py",
   "mimetype": "text/x-python",
   "name": "python",
   "nbconvert_exporter": "python",
   "pygments_lexer": "ipython3",
   "version": "3.7.3"
  }
 },
 "nbformat": 4,
 "nbformat_minor": 2
}
