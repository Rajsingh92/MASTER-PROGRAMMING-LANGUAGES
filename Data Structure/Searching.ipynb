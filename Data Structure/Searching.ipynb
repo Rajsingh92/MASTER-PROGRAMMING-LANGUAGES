{
 "cells": [
  {
   "cell_type": "code",
   "execution_count": 1,
   "metadata": {},
   "outputs": [
    {
     "name": "stdout",
     "output_type": "stream",
     "text": [
      "Element is present at index 3\n"
     ]
    }
   ],
   "source": [
    "# Python3 code to linearly search x in arr[]. \n",
    "# If x is present then return its location, \n",
    "# otherwise return -1 \n",
    "\n",
    "def search(arr, n, x): \n",
    "\n",
    "\tfor i in range (0, n): \n",
    "\t\tif (arr[i] == x): \n",
    "\t\t\treturn i; \n",
    "\treturn -1; \n",
    "\n",
    "# Driver Code \n",
    "arr = [ 2, 3, 4, 10, 40 ]; \n",
    "x = 10; \n",
    "n = len(arr); \n",
    "result = search(arr, n, x) \n",
    "if(result == -1): \n",
    "\tprint(\"Element is not present in array\") \n",
    "else: \n",
    "\tprint(\"Element is present at index\", result); \n"
   ]
  },
  {
   "cell_type": "code",
   "execution_count": 2,
   "metadata": {},
   "outputs": [
    {
     "name": "stdout",
     "output_type": "stream",
     "text": [
      "Element is present at index  3\n"
     ]
    }
   ],
   "source": [
    "# Python3 code to implement iterative Binary \n",
    "# Search. \n",
    "\n",
    "# It returns location of x in given array arr \n",
    "# if present, else returns -1 \n",
    "def binarySearch(arr, l, r, x): \n",
    "\n",
    "\twhile l <= r: \n",
    "\n",
    "\t\tmid = l + (r - l) // 2; \n",
    "\t\t\n",
    "\t\t# Check if x is present at mid \n",
    "\t\tif arr[mid] == x: \n",
    "\t\t\treturn mid \n",
    "\n",
    "\t\t# If x is greater, ignore left half \n",
    "\t\telif arr[mid] < x: \n",
    "\t\t\tl = mid + 1\n",
    "\n",
    "\t\t# If x is smaller, ignore right half \n",
    "\t\telse: \n",
    "\t\t\tr = mid - 1\n",
    "\t\n",
    "\t# If we reach here, then the element \n",
    "\t# was not present \n",
    "\treturn -1\n",
    "\n",
    "# Driver Code \n",
    "arr = [ 2, 3, 4, 10, 40 ] \n",
    "x = 10\n",
    "\n",
    "# Function call \n",
    "result = binarySearch(arr, 0, len(arr)-1, x) \n",
    "\n",
    "if result != -1: \n",
    "\tprint (\"Element is present at index % d\" % result) \n",
    "else: \n",
    "\tprint (\"Element is not present in array\") \n"
   ]
  },
  {
   "cell_type": "code",
   "execution_count": null,
   "metadata": {},
   "outputs": [],
   "source": []
  }
 ],
 "metadata": {
  "kernelspec": {
   "display_name": "Python 3",
   "language": "python",
   "name": "python3"
  },
  "language_info": {
   "codemirror_mode": {
    "name": "ipython",
    "version": 3
   },
   "file_extension": ".py",
   "mimetype": "text/x-python",
   "name": "python",
   "nbconvert_exporter": "python",
   "pygments_lexer": "ipython3",
   "version": "3.7.3"
  }
 },
 "nbformat": 4,
 "nbformat_minor": 2
}
