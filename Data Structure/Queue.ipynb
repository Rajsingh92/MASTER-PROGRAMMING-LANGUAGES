{
 "cells": [
  {
   "cell_type": "code",
   "execution_count": 1,
   "metadata": {},
   "outputs": [
    {
     "name": "stdout",
     "output_type": "stream",
     "text": [
      "10 enqueued to queue\n",
      "20 enqueued to queue\n",
      "30 enqueued to queue\n",
      "40 enqueued to queue\n",
      "10 dequeued from queue\n",
      "Front item is 20\n",
      "Rear item is 40\n"
     ]
    }
   ],
   "source": [
    "# Python3 program for array implementation of queue \n",
    "\n",
    "# Class Queue to represent a queue \n",
    "class Queue: \n",
    "\n",
    "\t# __init__ function \n",
    "\tdef __init__(self, capacity): \n",
    "\t\tself.front = self.size = 0\n",
    "\t\tself.rear = capacity -1\n",
    "\t\tself.Q = [None]*capacity \n",
    "\t\tself.capacity = capacity \n",
    "\t\n",
    "\t# Queue is full when size becomes \n",
    "\t# equal to the capacity \n",
    "\tdef isFull(self): \n",
    "\t\treturn self.size == self.capacity \n",
    "\t\n",
    "\t# Queue is empty when size is 0 \n",
    "\tdef isEmpty(self): \n",
    "\t\treturn self.size == 0\n",
    "\n",
    "\t# Function to add an item to the queue. \n",
    "\t# It changes rear and size \n",
    "\tdef EnQueue(self, item): \n",
    "\t\tif self.isFull(): \n",
    "\t\t\tprint(\"Full\") \n",
    "\t\t\treturn\n",
    "\t\tself.rear = (self.rear + 1) % (self.capacity) \n",
    "\t\tself.Q[self.rear] = item \n",
    "\t\tself.size = self.size + 1\n",
    "\t\tprint(\"%s enqueued to queue\" %str(item)) \n",
    "\n",
    "\t# Function to remove an item from queue. \n",
    "\t# It changes front and size \n",
    "\tdef DeQueue(self): \n",
    "\t\tif self.isEmpty(): \n",
    "\t\t\tprint(\"Empty\") \n",
    "\t\t\treturn\n",
    "\t\t\n",
    "\t\tprint(\"%s dequeued from queue\" %str(self.Q[self.front])) \n",
    "\t\tself.front = (self.front + 1) % (self.capacity) \n",
    "\t\tself.size = self.size -1\n",
    "\t\t\n",
    "\t# Function to get front of queue \n",
    "\tdef que_front(self): \n",
    "\t\tif self.isEmpty(): \n",
    "\t\t\tprint(\"Queue is empty\") \n",
    "\n",
    "\t\tprint(\"Front item is\", self.Q[self.front]) \n",
    "\t\t\n",
    "\t# Function to get rear of queue \n",
    "\tdef que_rear(self): \n",
    "\t\tif self.isEmpty(): \n",
    "\t\t\tprint(\"Queue is empty\") \n",
    "\t\tprint(\"Rear item is\", self.Q[self.rear]) \n",
    "\n",
    "\n",
    "# Driver Code \n",
    "if __name__ == '__main__': \n",
    "\n",
    "\tqueue = Queue(30) \n",
    "\tqueue.EnQueue(10) \n",
    "\tqueue.EnQueue(20) \n",
    "\tqueue.EnQueue(30) \n",
    "\tqueue.EnQueue(40) \n",
    "\tqueue.DeQueue() \n",
    "\tqueue.que_front() \n",
    "\tqueue.que_rear() \n"
   ]
  },
  {
   "cell_type": "code",
   "execution_count": null,
   "metadata": {},
   "outputs": [],
   "source": []
  }
 ],
 "metadata": {
  "kernelspec": {
   "display_name": "Python 3",
   "language": "python",
   "name": "python3"
  },
  "language_info": {
   "codemirror_mode": {
    "name": "ipython",
    "version": 3
   },
   "file_extension": ".py",
   "mimetype": "text/x-python",
   "name": "python",
   "nbconvert_exporter": "python",
   "pygments_lexer": "ipython3",
   "version": "3.7.3"
  }
 },
 "nbformat": 4,
 "nbformat_minor": 2
}
