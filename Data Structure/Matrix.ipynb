{
 "cells": [
  {
   "cell_type": "code",
   "execution_count": 1,
   "metadata": {},
   "outputs": [
    {
     "name": "stdout",
     "output_type": "stream",
     "text": [
      "n Found at  2 ,  1\n"
     ]
    },
    {
     "data": {
      "text/plain": [
       "1"
      ]
     },
     "execution_count": 1,
     "metadata": {},
     "output_type": "execute_result"
    }
   ],
   "source": [
    "# Python3 program to search an element \n",
    "# in row-wise and column-wise sorted matrix \n",
    "\n",
    "# Searches the element x in mat[][]. If the \n",
    "# element is found, then prints its position \n",
    "# and returns true, otherwise prints \"not found\" \n",
    "# and returns false \n",
    "def search(mat, n, x): \n",
    "\n",
    "\ti = 0\n",
    "\t\n",
    "\t# set indexes for top right element \n",
    "\tj = n - 1\n",
    "\twhile ( i < n and j >= 0 ): \n",
    "\t\n",
    "\t\tif (mat[i][j] == x ): \n",
    "\t\n",
    "\t\t\tprint(\"n Found at \", i, \", \", j) \n",
    "\t\t\treturn 1\n",
    "\t\n",
    "\t\tif (mat[i][j] > x ): \n",
    "\t\t\tj -= 1\n",
    "\t\t\t\n",
    "\t\t# if mat[i][j] < x \n",
    "\t\telse: \n",
    "\t\t\ti += 1\n",
    "\t\n",
    "\tprint(\"Element not found\") \n",
    "\treturn 0 # if (i == n || j == -1 ) \n",
    "\n",
    "# Driver Code \n",
    "mat = [ [10, 20, 30, 40], \n",
    "\t\t[15, 25, 35, 45], \n",
    "\t\t[27, 29, 37, 48], \n",
    "\t\t[32, 33, 39, 50] ] \n",
    "search(mat, 4, 29) "
   ]
  },
  {
   "cell_type": "code",
   "execution_count": 2,
   "metadata": {},
   "outputs": [
    {
     "name": "stdout",
     "output_type": "stream",
     "text": [
      "1 2 3 4 5 6 12 18 17 16 15 14 13 7 8 9 10 11 "
     ]
    }
   ],
   "source": [
    "# Python3 program to print \n",
    "# given matrix in spiral form \n",
    "def spiralPrint(m, n, a) : \n",
    "\tk = 0; l = 0\n",
    "\n",
    "\t''' k - starting row index \n",
    "\t\tm - ending row index \n",
    "\t\tl - starting column index \n",
    "\t\tn - ending column index \n",
    "\t\ti - iterator '''\n",
    "\t\n",
    "\n",
    "\twhile (k < m and l < n) : \n",
    "\t\t\n",
    "\t\t# Print the first row from \n",
    "\t\t# the remaining rows \n",
    "\t\tfor i in range(l, n) : \n",
    "\t\t\tprint(a[k][i], end = \" \") \n",
    "\t\t\t\n",
    "\t\tk += 1\n",
    "\n",
    "\t\t# Print the last column from \n",
    "\t\t# the remaining columns \n",
    "\t\tfor i in range(k, m) : \n",
    "\t\t\tprint(a[i][n - 1], end = \" \") \n",
    "\t\t\t\n",
    "\t\tn -= 1\n",
    "\n",
    "\t\t# Print the last row from \n",
    "\t\t# the remaining rows \n",
    "\t\tif ( k < m) : \n",
    "\t\t\t\n",
    "\t\t\tfor i in range(n - 1, (l - 1), -1) : \n",
    "\t\t\t\tprint(a[m - 1][i], end = \" \") \n",
    "\t\t\t\n",
    "\t\t\tm -= 1\n",
    "\t\t\n",
    "\t\t# Print the first column from \n",
    "\t\t# the remaining columns \n",
    "\t\tif (l < n) : \n",
    "\t\t\tfor i in range(m - 1, k - 1, -1) : \n",
    "\t\t\t\tprint(a[i][l], end = \" \") \n",
    "\t\t\t\n",
    "\t\t\tl += 1\n",
    "\n",
    "# Driver Code \n",
    "a = [ [1, 2, 3, 4, 5, 6], \n",
    "\t[7, 8, 9, 10, 11, 12], \n",
    "\t[13, 14, 15, 16, 17, 18] ] \n",
    "\t\t\n",
    "R = 3; C = 6\n",
    "spiralPrint(R, C, a)"
   ]
  },
  {
   "cell_type": "code",
   "execution_count": null,
   "metadata": {},
   "outputs": [],
   "source": []
  }
 ],
 "metadata": {
  "kernelspec": {
   "display_name": "Python 3",
   "language": "python",
   "name": "python3"
  },
  "language_info": {
   "codemirror_mode": {
    "name": "ipython",
    "version": 3
   },
   "file_extension": ".py",
   "mimetype": "text/x-python",
   "name": "python",
   "nbconvert_exporter": "python",
   "pygments_lexer": "ipython3",
   "version": "3.7.3"
  }
 },
 "nbformat": 4,
 "nbformat_minor": 2
}
