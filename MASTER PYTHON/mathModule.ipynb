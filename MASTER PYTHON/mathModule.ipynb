{
 "cells": [
  {
   "cell_type": "markdown",
   "metadata": {},
   "source": [
    "#### ceil(x)\tReturns the smallest integer greater than or equal to x.\n",
    "#### copysign(x, y)\tReturns x with the sign of y\n",
    "#### fabs(x)\tReturns the absolute value of x\n",
    "#### factorial(x)\tReturns the factorial of x\n",
    "#### floor(x)\tReturns the largest integer less than or equal to x\n",
    "#### fmod(x, y)\tReturns the remainder when x is divided by y\n",
    "#### frexp(x)\tReturns the mantissa and exponent of x as the pair (m, e)\n",
    "#### fsum(iterable)\tReturns an accurate floating point sum of values in the iterable\n",
    "#### isfinite(x)\tReturns True if x is neither an infinity nor a NaN (Not a Number)\n",
    "#### isinf(x)\tReturns True if x is a positive or negative infinity\n",
    "#### isnan(x)\tReturns True if x is a NaN\n",
    "#### ldexp(x, i)\tReturns x * (2**i)\n",
    "#### modf(x)\tReturns the fractional and integer parts of x\n",
    "#### trunc(x)\tReturns the truncated integer value of x\n",
    "#### exp(x)\tReturns e**x\n",
    "#### expm1(x)\tReturns e**x - 1\n",
    "#### log(x[, base])\tReturns the logarithm of x to the base (defaults to e)\n",
    "#### log1p(x)\tReturns the natural logarithm of 1+x\n",
    "#### log2(x)\tReturns the base-2 logarithm of x\n",
    "#### log10(x)\tReturns the base-10 logarithm of x\n",
    "#### pow(x, y)\tReturns x raised to the power y\n",
    "#### sqrt(x)\tReturns the square root of x\n",
    "#### acos(x)\tReturns the arc cosine of x\n",
    "#### asin(x)\tReturns the arc sine of x\n",
    "#### atan(x)\tReturns the arc tangent of x\n",
    "#### atan2(y, x)\tReturns atan(y / x)\n",
    "#### cos(x)\tReturns the cosine of x\n",
    "#### hypot(x, y)\tReturns the Euclidean norm, sqrt(x*x + y*y)\n",
    "#### sin(x)\tReturns the sine of x\n",
    "#### tan(x)\tReturns the tangent of x\n",
    "#### degrees(x)\tConverts angle x from radians to degrees\n",
    "#### radians(x)\tConverts angle x from degrees to radians\n",
    "#### acosh(x)\tReturns the inverse hyperbolic cosine of x\n",
    "#### asinh(x)\tReturns the inverse hyperbolic sine of x\n",
    "#### atanh(x)\tReturns the inverse hyperbolic tangent of x\n",
    "#### cosh(x)\tReturns the hyperbolic cosine of x\n",
    "#### sinh(x)\tReturns the hyperbolic cosine of x\n",
    "#### tanh(x)\tReturns the hyperbolic tangent of x\n",
    "#### erf(x)\tReturns the error function at x\n",
    "#### erfc(x)\tReturns the complementary error function at x\n",
    "#### gamma(x)\tReturns the Gamma function at x\n",
    "#### lgamma(x)\tReturns the natural logarithm of the absolute value of the Gamma function at x\n",
    "#### pi\tMathematical constant, the ratio of circumference of a circle to it's diameter (3.14159...)\n",
    "#### e\tmathematical constant e (2.71828...)"
   ]
  },
  {
   "cell_type": "code",
   "execution_count": 1,
   "metadata": {},
   "outputs": [],
   "source": [
    "import math"
   ]
  },
  {
   "cell_type": "code",
   "execution_count": 2,
   "metadata": {},
   "outputs": [
    {
     "data": {
      "text/plain": [
       "3.141592653589793"
      ]
     },
     "execution_count": 2,
     "metadata": {},
     "output_type": "execute_result"
    }
   ],
   "source": [
    "math.pi"
   ]
  },
  {
   "cell_type": "code",
   "execution_count": 3,
   "metadata": {},
   "outputs": [
    {
     "data": {
      "text/plain": [
       "2.718281828459045"
      ]
     },
     "execution_count": 3,
     "metadata": {},
     "output_type": "execute_result"
    }
   ],
   "source": [
    "math.e"
   ]
  },
  {
   "cell_type": "code",
   "execution_count": 4,
   "metadata": {},
   "outputs": [
    {
     "data": {
      "text/plain": [
       "5"
      ]
     },
     "execution_count": 4,
     "metadata": {},
     "output_type": "execute_result"
    }
   ],
   "source": [
    "math.ceil(4.5867)"
   ]
  },
  {
   "cell_type": "code",
   "execution_count": 5,
   "metadata": {},
   "outputs": [
    {
     "data": {
      "text/plain": [
       "4"
      ]
     },
     "execution_count": 5,
     "metadata": {},
     "output_type": "execute_result"
    }
   ],
   "source": [
    "math.floor(4.5687)"
   ]
  },
  {
   "cell_type": "code",
   "execution_count": 6,
   "metadata": {},
   "outputs": [
    {
     "data": {
      "text/plain": [
       "1.7320508075688772"
      ]
     },
     "execution_count": 6,
     "metadata": {},
     "output_type": "execute_result"
    }
   ],
   "source": [
    "math.sqrt(3)"
   ]
  },
  {
   "cell_type": "code",
   "execution_count": 7,
   "metadata": {},
   "outputs": [
    {
     "data": {
      "text/plain": [
       "16.0"
      ]
     },
     "execution_count": 7,
     "metadata": {},
     "output_type": "execute_result"
    }
   ],
   "source": [
    "math.pow(2,4)"
   ]
  },
  {
   "cell_type": "code",
   "execution_count": 10,
   "metadata": {},
   "outputs": [
    {
     "name": "stdout",
     "output_type": "stream",
     "text": [
      "['__doc__', '__loader__', '__name__', '__package__', '__spec__', 'acos', 'acosh', 'asin', 'asinh', 'atan', 'atan2', 'atanh', 'ceil', 'copysign', 'cos', 'cosh', 'degrees', 'e', 'erf', 'erfc', 'exp', 'expm1', 'fabs', 'factorial', 'floor', 'fmod', 'frexp', 'fsum', 'gamma', 'gcd', 'hypot', 'inf', 'isclose', 'isfinite', 'isinf', 'isnan', 'ldexp', 'lgamma', 'log', 'log10', 'log1p', 'log2', 'modf', 'nan', 'pi', 'pow', 'radians', 'remainder', 'sin', 'sinh', 'sqrt', 'tan', 'tanh', 'tau', 'trunc']\n"
     ]
    }
   ],
   "source": [
    "print(dir(math))"
   ]
  },
  {
   "cell_type": "code",
   "execution_count": 11,
   "metadata": {},
   "outputs": [
    {
     "name": "stdout",
     "output_type": "stream",
     "text": [
      "Help on built-in function ceil in module math:\n",
      "\n",
      "ceil(x, /)\n",
      "    Return the ceiling of x as an Integral.\n",
      "    \n",
      "    This is the smallest integer >= x.\n",
      "\n"
     ]
    }
   ],
   "source": [
    "help(math.ceil)"
   ]
  },
  {
   "cell_type": "code",
   "execution_count": null,
   "metadata": {},
   "outputs": [],
   "source": []
  }
 ],
 "metadata": {
  "kernelspec": {
   "display_name": "Python 3",
   "language": "python",
   "name": "python3"
  },
  "language_info": {
   "codemirror_mode": {
    "name": "ipython",
    "version": 3
   },
   "file_extension": ".py",
   "mimetype": "text/x-python",
   "name": "python",
   "nbconvert_exporter": "python",
   "pygments_lexer": "ipython3",
   "version": "3.7.3"
  }
 },
 "nbformat": 4,
 "nbformat_minor": 2
}
