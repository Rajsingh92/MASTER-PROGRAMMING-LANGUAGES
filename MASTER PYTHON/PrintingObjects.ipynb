{
 "cells": [
  {
   "cell_type": "code",
   "execution_count": 1,
   "metadata": {},
   "outputs": [
    {
     "ename": "SyntaxError",
     "evalue": "unexpected character after line continuation character (<ipython-input-1-a5ec7a0347f2>, line 12)",
     "output_type": "error",
     "traceback": [
      "\u001b[1;36m  File \u001b[1;32m\"<ipython-input-1-a5ec7a0347f2>\"\u001b[1;36m, line \u001b[1;32m12\u001b[0m\n\u001b[1;33m    return \"From str method of Test: a is %s,\" \\\u001b[0m\n\u001b[1;37m                                                 ^\u001b[0m\n\u001b[1;31mSyntaxError\u001b[0m\u001b[1;31m:\u001b[0m unexpected character after line continuation character\n"
     ]
    }
   ],
   "source": [
    "#this can be achieved by using __repr__ or __str__ methods.\n",
    "\n",
    "class Test: \n",
    "\tdef __init__(self, a, b): \n",
    "\t\tself.a = a \n",
    "\t\tself.b = b \n",
    "\n",
    "\tdef __repr__(self): \n",
    "\t\treturn \"Test a:%s b:%s\" % (self.a, self.b) \n",
    "\n",
    "\tdef __str__(self): \n",
    "\t\treturn \"From str method of Test: a is %s,\" \\ \n",
    "\t\t\t\"b is %s\" % (self.a, self.b) \n",
    "\n",
    "# Driver Code\t\t \n",
    "t = Test(1234, 5678) \n",
    "print(t) # This calls __str__() \n",
    "print([t]) # This calls __repr__() "
   ]
  },
  {
   "cell_type": "code",
   "execution_count": 2,
   "metadata": {},
   "outputs": [
    {
     "name": "stdout",
     "output_type": "stream",
     "text": [
      "Test a:1234 b:5678\n"
     ]
    }
   ],
   "source": [
    "#If no __str__ method is defined, print t (or print str(t)) uses __repr__\n",
    "class Test2: \n",
    "\tdef __init__(self, a, b): \n",
    "\t\tself.a = a \n",
    "\t\tself.b = b \n",
    "\n",
    "\tdef __repr__(self): \n",
    "\t\treturn \"Test a:%s b:%s\" % (self.a, self.b) \n",
    "\n",
    "# Driver Code\t\t \n",
    "t = Test2(1234, 5678) \n",
    "print(t) "
   ]
  },
  {
   "cell_type": "code",
   "execution_count": 3,
   "metadata": {},
   "outputs": [
    {
     "name": "stdout",
     "output_type": "stream",
     "text": [
      "<__main__.Test object at 0x0000003A240856D8>\n"
     ]
    }
   ],
   "source": [
    "#If no __repr__ method is defined then the default is used.\n",
    "class Test: \n",
    "\tdef __init__(self, a, b): \n",
    "\t\tself.a = a \n",
    "\t\tself.b = b \n",
    "\n",
    "# Driver Code\t\t \n",
    "t = Test(1234, 5678) \n",
    "print(t) "
   ]
  },
  {
   "cell_type": "code",
   "execution_count": null,
   "metadata": {},
   "outputs": [],
   "source": []
  }
 ],
 "metadata": {
  "kernelspec": {
   "display_name": "Python 3",
   "language": "python",
   "name": "python3"
  },
  "language_info": {
   "codemirror_mode": {
    "name": "ipython",
    "version": 3
   },
   "file_extension": ".py",
   "mimetype": "text/x-python",
   "name": "python",
   "nbconvert_exporter": "python",
   "pygments_lexer": "ipython3",
   "version": "3.7.3"
  }
 },
 "nbformat": 4,
 "nbformat_minor": 2
}
