{
 "cells": [
  {
   "cell_type": "code",
   "execution_count": 2,
   "metadata": {},
   "outputs": [
    {
     "name": "stdout",
     "output_type": "stream",
     "text": [
      "<class 'int'>\n",
      "<class 'list'>\n",
      "<class 'tuple'>\n",
      "<class 'dict'>\n"
     ]
    }
   ],
   "source": [
    "print(type(1))\n",
    "print(type([]))\n",
    "print(type(()))\n",
    "print(type({}))"
   ]
  },
  {
   "cell_type": "code",
   "execution_count": 1,
   "metadata": {},
   "outputs": [
    {
     "name": "stdout",
     "output_type": "stream",
     "text": [
      "Noida, UP\n"
     ]
    }
   ],
   "source": [
    "# Class for Computer Science Student \n",
    "class CSStudent: \n",
    "\t\n",
    "\t# Class Variable \n",
    "\tstream = 'cse'\t\n",
    "\t\n",
    "\t# The init method or constructor \n",
    "\tdef __init__(self, roll): \n",
    "\t\t\n",
    "\t\t# Instance Variable \n",
    "\t\tself.roll = roll\t\t\t \n",
    "\n",
    "\t# We can define instance variables inside normal methods also.\n",
    "\tdef setAddress(self, address): \n",
    "\t\tself.address = address \n",
    "\t\n",
    "\t# Retrieves instance variable\t \n",
    "\tdef getAddress(self):\t \n",
    "\t\treturn self.address \n",
    "\n",
    "# Driver Code \n",
    "a = CSStudent(101) \n",
    "a.setAddress(\"Noida, UP\") \n",
    "print(a.getAddress()) "
   ]
  },
  {
   "cell_type": "code",
   "execution_count": 2,
   "metadata": {},
   "outputs": [
    {
     "name": "stdout",
     "output_type": "stream",
     "text": [
      "Initially\n",
      "a.stream = cse\n",
      "b.stream = cse\n",
      "\n",
      "After changing a.stream\n",
      "a.stream = ece\n",
      "b.stream = cse\n"
     ]
    }
   ],
   "source": [
    "\n",
    "#You can delete an attribute, an object, or a class using the del keyword.\n",
    "\n",
    "\n",
    "# Class for Computer Science Student \n",
    "class CSStudent: \n",
    "\tstream = 'cse'\t # Class Variable \n",
    "\tdef __init__(self, name, roll): \n",
    "\t\tself.name = name \n",
    "\t\tself.roll = roll \n",
    "\n",
    "# Driver program to test the functionality \n",
    "# Creating objects of CSStudent class \n",
    "a = CSStudent(\"Geek\", 1) \n",
    "b = CSStudent(\"Nerd\", 2) \n",
    "\n",
    "print(\"Initially\")\n",
    "print(\"a.stream =\", a.stream)\n",
    "print(\"b.stream =\", b.stream )\n",
    "\n",
    "# This thing doesn't change class(static) variable \n",
    "# Instead creates instance variable for the object \n",
    "# 'a' that shadows class member. \n",
    "a.stream = \"ece\"\n",
    "\n",
    "print(\"\\nAfter changing a.stream\")\n",
    "print(\"a.stream =\", a.stream)\n",
    "print(\"b.stream =\", b.stream )"
   ]
  },
  {
   "cell_type": "code",
   "execution_count": 3,
   "metadata": {},
   "outputs": [
    {
     "name": "stdout",
     "output_type": "stream",
     "text": [
      "a.tream = cse\n",
      "\n",
      "Class variable changes to mec\n",
      "\n",
      "Value of variable steam for each object\n",
      "a.stream = mec\n",
      "b.stream = mec\n"
     ]
    }
   ],
   "source": [
    "# Program to show how to make changes to the \n",
    "# class variable in Python \n",
    "\n",
    "# Class for Computer Science Student \n",
    "class CSStudent: \n",
    "\tstream = 'cse'\t # Class Variable \n",
    "\tdef __init__(self, name, roll): \n",
    "\t\tself.name = name \n",
    "\t\tself.roll = roll \n",
    "\n",
    "# New object for further implementation \n",
    "a = CSStudent(\"check\", 3) \n",
    "print(\"a.tream =\", a.stream) \n",
    "\n",
    "# Correct way to change the value of class variable \n",
    "CSStudent.stream = \"mec\"\n",
    "print(\"\\nClass variable changes to mec\")\n",
    "\n",
    "# New object for further implementation \n",
    "b = CSStudent(\"carter\", 4) \n",
    "\n",
    "print(\"\\nValue of variable steam for each object\")\n",
    "print(\"a.stream =\", a.stream)\n",
    "print(\"b.stream =\", b.stream )"
   ]
  },
  {
   "cell_type": "code",
   "execution_count": null,
   "metadata": {},
   "outputs": [],
   "source": []
  }
 ],
 "metadata": {
  "kernelspec": {
   "display_name": "Python 3",
   "language": "python",
   "name": "python3"
  },
  "language_info": {
   "codemirror_mode": {
    "name": "ipython",
    "version": 3
   },
   "file_extension": ".py",
   "mimetype": "text/x-python",
   "name": "python",
   "nbconvert_exporter": "python",
   "pygments_lexer": "ipython3",
   "version": "3.7.3"
  }
 },
 "nbformat": 4,
 "nbformat_minor": 2
}
