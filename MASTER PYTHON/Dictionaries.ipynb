{
 "cells": [
  {
   "cell_type": "code",
   "execution_count": 8,
   "id": "979213eb",
   "metadata": {},
   "outputs": [],
   "source": [
    "import pprint"
   ]
  },
  {
   "cell_type": "code",
   "execution_count": 9,
   "id": "ecdfb0cd",
   "metadata": {},
   "outputs": [
    {
     "name": "stdout",
     "output_type": "stream",
     "text": [
      "{'Boston': 'Red Sox',\n",
      " 'Colorado': 'Rockies',\n",
      " 'Milwaukee': 'Brewers',\n",
      " 'Minnesota': 'Twins',\n",
      " 'Seattle': 'Mariners'}\n"
     ]
    }
   ],
   "source": [
    "MLB_team = {\n",
    "    'Colorado' : 'Rockies',\n",
    "    'Boston'   : 'Red Sox',\n",
    "    'Minnesota': 'Twins',\n",
    "    'Milwaukee': 'Brewers',\n",
    "    'Seattle'  : 'Mariners'\n",
    "}\n",
    "pprint.pprint(MLB_team)"
   ]
  },
  {
   "cell_type": "code",
   "execution_count": 10,
   "id": "e86e97be",
   "metadata": {},
   "outputs": [
    {
     "name": "stdout",
     "output_type": "stream",
     "text": [
      "{'Boston': 'Red Sox',\n",
      " 'Colorado': 'Rockies',\n",
      " 'Milwaukee': 'Brewers',\n",
      " 'Minnesota': 'Twins',\n",
      " 'Seattle': 'Mariners'}\n"
     ]
    }
   ],
   "source": [
    "MLB_team = dict([\n",
    "    ('Colorado', 'Rockies'),\n",
    "    ('Boston', 'Red Sox'),\n",
    "    ('Minnesota', 'Twins'),\n",
    "    ('Milwaukee', 'Brewers'),\n",
    "    ('Seattle', 'Mariners')\n",
    "])\n",
    "\n",
    "pprint.pprint(MLB_team)"
   ]
  },
  {
   "cell_type": "code",
   "execution_count": 11,
   "id": "6efe25ae",
   "metadata": {},
   "outputs": [
    {
     "name": "stdout",
     "output_type": "stream",
     "text": [
      "{'Boston': 'Red Sox',\n",
      " 'Colorado': 'Rockies',\n",
      " 'Milwaukee': 'Brewers',\n",
      " 'Minnesota': 'Twins',\n",
      " 'Seattle': 'Mariners'}\n"
     ]
    }
   ],
   "source": [
    "# If the key values are simple strings\n",
    "MLB_team = dict(\n",
    "    Colorado='Rockies',\n",
    "    Boston='Red Sox',\n",
    "    Minnesota='Twins',\n",
    "    Milwaukee='Brewers',\n",
    "    Seattle='Mariners'\n",
    ")\n",
    "\n",
    "pprint.pprint(MLB_team)"
   ]
  },
  {
   "cell_type": "code",
   "execution_count": 47,
   "id": "192114b4",
   "metadata": {},
   "outputs": [
    {
     "name": "stdout",
     "output_type": "stream",
     "text": [
      "{'Boston': 'Red Sox',\n",
      " 'Colorado': 'Rockies',\n",
      " 'Milwaukee': 'Brewers',\n",
      " 'Minnesota': 'Twins',\n",
      " 'Seattle': 'Mariners'}\n"
     ]
    }
   ],
   "source": [
    "# if you specify a key a second time during the initial creation of a dictionary, the second occurrence will override the first:\n",
    "MLB_team = {\n",
    "    'Colorado' : 'Rockies',\n",
    "    'Boston'   : 'Red Sox',\n",
    "    'Minnesota': 'Timberwolves',\n",
    "    'Milwaukee': 'Brewers',\n",
    "    'Seattle'  : 'Mariners',\n",
    "    'Minnesota': 'Twins'\n",
    "}\n",
    "pprint.pprint(MLB_team)"
   ]
  },
  {
   "cell_type": "code",
   "execution_count": 14,
   "id": "e926557c",
   "metadata": {},
   "outputs": [
    {
     "name": "stdout",
     "output_type": "stream",
     "text": [
      "Rockies\n"
     ]
    }
   ],
   "source": [
    "print(MLB_team['Colorado'])"
   ]
  },
  {
   "cell_type": "code",
   "execution_count": 17,
   "id": "37868430",
   "metadata": {},
   "outputs": [
    {
     "ename": "KeyError",
     "evalue": "'unknown_key'",
     "output_type": "error",
     "traceback": [
      "\u001b[1;31m---------------------------------------------------------------------------\u001b[0m",
      "\u001b[1;31mKeyError\u001b[0m                                  Traceback (most recent call last)",
      "\u001b[1;32mC:\\Users\\RAJRAJ~1\\AppData\\Local\\Temp/ipykernel_19604/4168417144.py\u001b[0m in \u001b[0;36m<module>\u001b[1;34m\u001b[0m\n\u001b[1;32m----> 1\u001b[1;33m \u001b[0mprint\u001b[0m\u001b[1;33m(\u001b[0m\u001b[0mMLB_team\u001b[0m\u001b[1;33m[\u001b[0m\u001b[1;34m'unknown_key'\u001b[0m\u001b[1;33m]\u001b[0m\u001b[1;33m)\u001b[0m\u001b[1;33m\u001b[0m\u001b[1;33m\u001b[0m\u001b[0m\n\u001b[0m",
      "\u001b[1;31mKeyError\u001b[0m: 'unknown_key'"
     ]
    }
   ],
   "source": [
    "print(MLB_team['unknown_key'])"
   ]
  },
  {
   "cell_type": "code",
   "execution_count": 15,
   "id": "81c5d896",
   "metadata": {},
   "outputs": [
    {
     "name": "stdout",
     "output_type": "stream",
     "text": [
      "Rockies\n"
     ]
    }
   ],
   "source": [
    "print(MLB_team.get('Colorado'))"
   ]
  },
  {
   "cell_type": "code",
   "execution_count": 16,
   "id": "62cf11f1",
   "metadata": {},
   "outputs": [
    {
     "name": "stdout",
     "output_type": "stream",
     "text": [
      "None\n"
     ]
    }
   ],
   "source": [
    "# If <key> is not found, it returns None\n",
    "print(MLB_team.get('unknown_key'))"
   ]
  },
  {
   "cell_type": "code",
   "execution_count": 46,
   "id": "9bbac0ca",
   "metadata": {},
   "outputs": [
    {
     "name": "stdout",
     "output_type": "stream",
     "text": [
      "-1\n"
     ]
    }
   ],
   "source": [
    "print(MLB_team.get('unknown_key', -1))"
   ]
  },
  {
   "cell_type": "code",
   "execution_count": 48,
   "id": "aa3bdabd",
   "metadata": {},
   "outputs": [
    {
     "name": "stdout",
     "output_type": "stream",
     "text": [
      "Colorado Rockies\n",
      "Boston Red Sox\n",
      "Minnesota Twins\n",
      "Milwaukee Brewers\n",
      "Seattle Mariners\n"
     ]
    }
   ],
   "source": [
    "for x in MLB_team:\n",
    "  print(x, MLB_team[x])"
   ]
  },
  {
   "cell_type": "code",
   "execution_count": 60,
   "id": "8b63a96f",
   "metadata": {},
   "outputs": [
    {
     "data": {
      "text/plain": [
       "dict_items([('Colorado', 'Rockies'), ('Boston', 'Red Sox'), ('Minnesota', 'Twins'), ('Milwaukee', 'Brewers'), ('Seattle', 'Mariners'), ('color', 'White')])"
      ]
     },
     "execution_count": 60,
     "metadata": {},
     "output_type": "execute_result"
    }
   ],
   "source": [
    "MLB_team.items()"
   ]
  },
  {
   "cell_type": "code",
   "execution_count": 61,
   "id": "dd6f6cb9",
   "metadata": {},
   "outputs": [
    {
     "data": {
      "text/plain": [
       "[('Colorado', 'Rockies'),\n",
       " ('Boston', 'Red Sox'),\n",
       " ('Minnesota', 'Twins'),\n",
       " ('Milwaukee', 'Brewers'),\n",
       " ('Seattle', 'Mariners'),\n",
       " ('color', 'White')]"
      ]
     },
     "execution_count": 61,
     "metadata": {},
     "output_type": "execute_result"
    }
   ],
   "source": [
    "# d.items() returns a list of tuples containing the key-value pairs in d\n",
    "list(MLB_team.items())"
   ]
  },
  {
   "cell_type": "code",
   "execution_count": 59,
   "id": "7b1e4cd9",
   "metadata": {},
   "outputs": [
    {
     "name": "stdout",
     "output_type": "stream",
     "text": [
      "Colorado Rockies\n",
      "Boston Red Sox\n",
      "Minnesota Twins\n",
      "Milwaukee Brewers\n",
      "Seattle Mariners\n",
      "color White\n"
     ]
    }
   ],
   "source": [
    "for x, y in MLB_team.items():\n",
    "  print(x, y)"
   ]
  },
  {
   "cell_type": "code",
   "execution_count": 62,
   "id": "08b4a566",
   "metadata": {},
   "outputs": [
    {
     "data": {
      "text/plain": [
       "dict_keys(['Colorado', 'Boston', 'Minnesota', 'Milwaukee', 'Seattle', 'color'])"
      ]
     },
     "execution_count": 62,
     "metadata": {},
     "output_type": "execute_result"
    }
   ],
   "source": [
    "MLB_team.keys()"
   ]
  },
  {
   "cell_type": "code",
   "execution_count": 63,
   "id": "b4eacf5b",
   "metadata": {},
   "outputs": [
    {
     "data": {
      "text/plain": [
       "['Colorado', 'Boston', 'Minnesota', 'Milwaukee', 'Seattle', 'color']"
      ]
     },
     "execution_count": 63,
     "metadata": {},
     "output_type": "execute_result"
    }
   ],
   "source": [
    "list(MLB_team.keys())"
   ]
  },
  {
   "cell_type": "code",
   "execution_count": 65,
   "id": "562fc4ae",
   "metadata": {},
   "outputs": [
    {
     "name": "stdout",
     "output_type": "stream",
     "text": [
      "{'Boston': 'Red Sox',\n",
      " 'Colorado': 'Rockies',\n",
      " 'Milwaukee': 'Brewers',\n",
      " 'Minnesota': 'Twins'}\n"
     ]
    }
   ],
   "source": [
    "# d.popitem() removes the last key-value pair added from d and returns it as a tuple:\n",
    "MLB_team.popitem()\n",
    "pprint.pprint(MLB_team)"
   ]
  },
  {
   "cell_type": "code",
   "execution_count": null,
   "id": "7445e7a2",
   "metadata": {},
   "outputs": [],
   "source": []
  },
  {
   "cell_type": "code",
   "execution_count": null,
   "id": "4e8e0634",
   "metadata": {},
   "outputs": [],
   "source": []
  },
  {
   "cell_type": "code",
   "execution_count": 40,
   "id": "bbaa9a3e",
   "metadata": {},
   "outputs": [
    {
     "data": {
      "text/plain": [
       "False"
      ]
     },
     "execution_count": 40,
     "metadata": {},
     "output_type": "execute_result"
    }
   ],
   "source": [
    "'Toronto' in MLB_team"
   ]
  },
  {
   "cell_type": "code",
   "execution_count": 41,
   "id": "33115369",
   "metadata": {},
   "outputs": [
    {
     "data": {
      "text/plain": [
       "True"
      ]
     },
     "execution_count": 41,
     "metadata": {},
     "output_type": "execute_result"
    }
   ],
   "source": [
    "'Toronto' not in MLB_team"
   ]
  },
  {
   "cell_type": "code",
   "execution_count": 42,
   "id": "9cec4724",
   "metadata": {},
   "outputs": [
    {
     "data": {
      "text/plain": [
       "False"
      ]
     },
     "execution_count": 42,
     "metadata": {},
     "output_type": "execute_result"
    }
   ],
   "source": [
    "# short-circuit evaluation\n",
    "'Toronto' in MLB_team and MLB_team['Toronto']"
   ]
  },
  {
   "cell_type": "code",
   "execution_count": 18,
   "id": "8e289f4b",
   "metadata": {},
   "outputs": [
    {
     "name": "stdout",
     "output_type": "stream",
     "text": [
      "{'Boston': 'Red Sox',\n",
      " 'Colorado': 'Rockies',\n",
      " 'Kansas City': 'Royals',\n",
      " 'Milwaukee': 'Brewers',\n",
      " 'Minnesota': 'Twins',\n",
      " 'Seattle': 'Mariners'}\n"
     ]
    }
   ],
   "source": [
    "MLB_team['Kansas City'] = 'Royals'\n",
    "pprint.pprint(MLB_team)"
   ]
  },
  {
   "cell_type": "code",
   "execution_count": 19,
   "id": "1e695698",
   "metadata": {},
   "outputs": [
    {
     "name": "stdout",
     "output_type": "stream",
     "text": [
      "{'Boston': 'Red Sox',\n",
      " 'Colorado': 'Rockies',\n",
      " 'Kansas City': 'Royals',\n",
      " 'Milwaukee': 'Brewers',\n",
      " 'Minnesota': 'Twins',\n",
      " 'Seattle': 'Seahawks'}\n"
     ]
    }
   ],
   "source": [
    "MLB_team['Seattle'] = 'Seahawks'\n",
    "pprint.pprint(MLB_team)"
   ]
  },
  {
   "cell_type": "code",
   "execution_count": 54,
   "id": "cc530541",
   "metadata": {},
   "outputs": [
    {
     "name": "stdout",
     "output_type": "stream",
     "text": [
      "{'Boston': 'Red Sox',\n",
      " 'Colorado': 'Rockies',\n",
      " 'Milwaukee': 'Brewers',\n",
      " 'Minnesota': 'Twins',\n",
      " 'Seattle': 'Mariners',\n",
      " 'color': 'White'}\n"
     ]
    }
   ],
   "source": [
    "MLB_team.update({\"color\": \"White\"})\n",
    "pprint.pprint(MLB_team)"
   ]
  },
  {
   "cell_type": "code",
   "execution_count": 72,
   "id": "3e499dcc",
   "metadata": {},
   "outputs": [
    {
     "ename": "TypeError",
     "evalue": "pop expected at least 1 argument, got 0",
     "output_type": "error",
     "traceback": [
      "\u001b[1;31m---------------------------------------------------------------------------\u001b[0m",
      "\u001b[1;31mTypeError\u001b[0m                                 Traceback (most recent call last)",
      "\u001b[1;32mC:\\Users\\RAJRAJ~1\\AppData\\Local\\Temp/ipykernel_19604/235490611.py\u001b[0m in \u001b[0;36m<module>\u001b[1;34m\u001b[0m\n\u001b[0;32m      1\u001b[0m \u001b[1;31m# If <key> is present in d, d.pop(<key>) removes <key> and returns its associated value:\u001b[0m\u001b[1;33m\u001b[0m\u001b[1;33m\u001b[0m\u001b[1;33m\u001b[0m\u001b[0m\n\u001b[1;32m----> 2\u001b[1;33m \u001b[0mk\u001b[0m \u001b[1;33m=\u001b[0m \u001b[0mMLB_team\u001b[0m\u001b[1;33m.\u001b[0m\u001b[0mpop\u001b[0m\u001b[1;33m(\u001b[0m\u001b[1;33m)\u001b[0m\u001b[1;33m\u001b[0m\u001b[1;33m\u001b[0m\u001b[0m\n\u001b[0m\u001b[0;32m      3\u001b[0m \u001b[0mprint\u001b[0m\u001b[1;33m(\u001b[0m\u001b[0mk\u001b[0m\u001b[1;33m)\u001b[0m\u001b[1;33m\u001b[0m\u001b[1;33m\u001b[0m\u001b[0m\n",
      "\u001b[1;31mTypeError\u001b[0m: pop expected at least 1 argument, got 0"
     ]
    }
   ],
   "source": [
    "# If <key> is present in d, d.pop(<key>) removes <key> and returns its associated value:\n",
    "k = MLB_team.pop()\n",
    "print(k)"
   ]
  },
  {
   "cell_type": "code",
   "execution_count": 20,
   "id": "f002f569",
   "metadata": {},
   "outputs": [
    {
     "name": "stdout",
     "output_type": "stream",
     "text": [
      "{'Boston': 'Red Sox',\n",
      " 'Colorado': 'Rockies',\n",
      " 'Kansas City': 'Royals',\n",
      " 'Milwaukee': 'Brewers',\n",
      " 'Minnesota': 'Twins'}\n"
     ]
    }
   ],
   "source": [
    "del MLB_team['Seattle']\n",
    "pprint.pprint(MLB_team)"
   ]
  },
  {
   "cell_type": "code",
   "execution_count": 37,
   "id": "39e46f77",
   "metadata": {},
   "outputs": [
    {
     "name": "stdout",
     "output_type": "stream",
     "text": [
      "{'age': 51,\n",
      " 'children': ['Ralph', 'Betty', 'Joey'],\n",
      " 'fname': 'Joe',\n",
      " 'lname': 'Fonebone',\n",
      " 'pets': {'cat': 'Sox', 'dog': 'Fido'},\n",
      " 'spouse': 'Edna'}\n"
     ]
    }
   ],
   "source": [
    "person = {}\n",
    "person['fname'] = 'Joe'\n",
    "person['lname'] = 'Fonebone'\n",
    "person['age'] = 51\n",
    "person['spouse'] = 'Edna'\n",
    "person['children'] = ['Ralph', 'Betty', 'Joey']\n",
    "person['pets'] = {'dog': 'Fido', 'cat': 'Sox'}\n",
    "\n",
    "pprint.pprint(person)"
   ]
  },
  {
   "cell_type": "code",
   "execution_count": 38,
   "id": "c3215196",
   "metadata": {},
   "outputs": [
    {
     "data": {
      "text/plain": [
       "'Joey'"
      ]
     },
     "execution_count": 38,
     "metadata": {},
     "output_type": "execute_result"
    }
   ],
   "source": [
    "person['children'][-1]"
   ]
  },
  {
   "cell_type": "code",
   "execution_count": 39,
   "id": "7a03d187",
   "metadata": {},
   "outputs": [
    {
     "data": {
      "text/plain": [
       "'Sox'"
      ]
     },
     "execution_count": 39,
     "metadata": {},
     "output_type": "execute_result"
    }
   ],
   "source": [
    "person['pets']['cat']"
   ]
  },
  {
   "cell_type": "code",
   "execution_count": 44,
   "id": "a4af064f",
   "metadata": {},
   "outputs": [
    {
     "data": {
      "text/plain": [
       "5"
      ]
     },
     "execution_count": 44,
     "metadata": {},
     "output_type": "execute_result"
    }
   ],
   "source": [
    "len(MLB_team)"
   ]
  },
  {
   "cell_type": "code",
   "execution_count": 45,
   "id": "3f3f1ebf",
   "metadata": {},
   "outputs": [
    {
     "data": {
      "text/plain": [
       "0"
      ]
     },
     "execution_count": 45,
     "metadata": {},
     "output_type": "execute_result"
    }
   ],
   "source": [
    "MLB_team.clear()\n",
    "len(MLB_team)"
   ]
  },
  {
   "cell_type": "code",
   "execution_count": 55,
   "id": "c8c5bb71",
   "metadata": {},
   "outputs": [
    {
     "data": {
      "text/plain": [
       "{0: 0, 1: 1, 2: 4, 3: 9, 4: 16, 5: 25, 6: 36, 7: 49, 8: 64, 9: 81}"
      ]
     },
     "execution_count": 55,
     "metadata": {},
     "output_type": "execute_result"
    }
   ],
   "source": [
    "{x:x**2 for x in range(10)}"
   ]
  },
  {
   "cell_type": "code",
   "execution_count": null,
   "id": "52bd24f9",
   "metadata": {},
   "outputs": [],
   "source": []
  },
  {
   "cell_type": "code",
   "execution_count": null,
   "id": "0fc85c93",
   "metadata": {},
   "outputs": [],
   "source": []
  },
  {
   "cell_type": "code",
   "execution_count": 21,
   "id": "6f4ca966",
   "metadata": {},
   "outputs": [
    {
     "name": "stdout",
     "output_type": "stream",
     "text": [
      "{0: 'a', 1: 'b', 2: 'c', 3: 'd'}\n"
     ]
    }
   ],
   "source": [
    "# an object of any immutable type can be used as a dictionary key. \n",
    "# a dictionary key must be of a type that is immutable.\n",
    "\n",
    "d = {0: 'a', 1: 'b', 2: 'c', 3: 'd'}\n",
    "pprint.pprint(d)"
   ]
  },
  {
   "cell_type": "code",
   "execution_count": 22,
   "id": "d5d18cda",
   "metadata": {},
   "outputs": [
    {
     "data": {
      "text/plain": [
       "'a'"
      ]
     },
     "execution_count": 22,
     "metadata": {},
     "output_type": "execute_result"
    }
   ],
   "source": [
    "d[0]"
   ]
  },
  {
   "cell_type": "code",
   "execution_count": 29,
   "id": "2773d57c",
   "metadata": {},
   "outputs": [
    {
     "name": "stdout",
     "output_type": "stream",
     "text": [
      "{True: 'ccc', 2.78: 'bbb', 42: 'aaa'}\n"
     ]
    }
   ],
   "source": [
    "foo = {42: 'aaa', 2.78: 'bbb', True: 'ccc'}\n",
    "pprint.pprint(foo)"
   ]
  },
  {
   "cell_type": "code",
   "execution_count": 30,
   "id": "8aa644ce",
   "metadata": {},
   "outputs": [
    {
     "data": {
      "text/plain": [
       "'ccc'"
      ]
     },
     "execution_count": 30,
     "metadata": {},
     "output_type": "execute_result"
    }
   ],
   "source": [
    "foo[True]"
   ]
  },
  {
   "cell_type": "code",
   "execution_count": 31,
   "id": "4f0cc49f",
   "metadata": {},
   "outputs": [
    {
     "name": "stdout",
     "output_type": "stream",
     "text": [
      "{<built-in function bin>: 1,\n",
      " <built-in function hex>: 2,\n",
      " <built-in function oct>: 3,\n",
      " <class 'bool'>: 3,\n",
      " <class 'float'>: 2,\n",
      " <class 'int'>: 1}\n"
     ]
    }
   ],
   "source": [
    "d = {int: 1, float: 2, bool: 3, bin: 1, hex: 2, oct: 3}\n",
    "pprint.pprint(d)"
   ]
  },
  {
   "cell_type": "code",
   "execution_count": 32,
   "id": "bdbcba65",
   "metadata": {},
   "outputs": [
    {
     "data": {
      "text/plain": [
       "2"
      ]
     },
     "execution_count": 32,
     "metadata": {},
     "output_type": "execute_result"
    }
   ],
   "source": [
    "d[float]"
   ]
  },
  {
   "cell_type": "code",
   "execution_count": 34,
   "id": "6ec0c356",
   "metadata": {},
   "outputs": [
    {
     "name": "stdout",
     "output_type": "stream",
     "text": [
      "{(1, 1): 'a', (1, 2): 'b', (2, 1): 'c', (2, 2): 'd'}\n"
     ]
    }
   ],
   "source": [
    "d = {(1, 1): 'a', (1, 2): 'b', (2, 1): 'c', (2, 2): 'd'}\n",
    "pprint.pprint(d)"
   ]
  },
  {
   "cell_type": "code",
   "execution_count": 35,
   "id": "188f4e0c",
   "metadata": {},
   "outputs": [
    {
     "data": {
      "text/plain": [
       "'c'"
      ]
     },
     "execution_count": 35,
     "metadata": {},
     "output_type": "execute_result"
    }
   ],
   "source": [
    "d[(2,1)]"
   ]
  },
  {
   "cell_type": "code",
   "execution_count": 36,
   "id": "2c97ab53",
   "metadata": {},
   "outputs": [
    {
     "ename": "TypeError",
     "evalue": "unhashable type: 'list'",
     "output_type": "error",
     "traceback": [
      "\u001b[1;31m---------------------------------------------------------------------------\u001b[0m",
      "\u001b[1;31mTypeError\u001b[0m                                 Traceback (most recent call last)",
      "\u001b[1;32mC:\\Users\\RAJRAJ~1\\AppData\\Local\\Temp/ipykernel_19604/2904657492.py\u001b[0m in \u001b[0;36m<module>\u001b[1;34m\u001b[0m\n\u001b[0;32m      1\u001b[0m \u001b[1;31m# neither a list nor another dictionary can serve as a dictionary key, because lists and dictionaries are mutable:\u001b[0m\u001b[1;33m\u001b[0m\u001b[1;33m\u001b[0m\u001b[1;33m\u001b[0m\u001b[0m\n\u001b[1;32m----> 2\u001b[1;33m \u001b[0md\u001b[0m \u001b[1;33m=\u001b[0m \u001b[1;33m{\u001b[0m\u001b[1;33m[\u001b[0m\u001b[1;36m1\u001b[0m\u001b[1;33m,\u001b[0m \u001b[1;36m1\u001b[0m\u001b[1;33m]\u001b[0m\u001b[1;33m:\u001b[0m \u001b[1;34m'a'\u001b[0m\u001b[1;33m,\u001b[0m \u001b[1;33m[\u001b[0m\u001b[1;36m1\u001b[0m\u001b[1;33m,\u001b[0m \u001b[1;36m2\u001b[0m\u001b[1;33m]\u001b[0m\u001b[1;33m:\u001b[0m \u001b[1;34m'b'\u001b[0m\u001b[1;33m,\u001b[0m \u001b[1;33m[\u001b[0m\u001b[1;36m2\u001b[0m\u001b[1;33m,\u001b[0m \u001b[1;36m1\u001b[0m\u001b[1;33m]\u001b[0m\u001b[1;33m:\u001b[0m \u001b[1;34m'c'\u001b[0m\u001b[1;33m,\u001b[0m \u001b[1;33m[\u001b[0m\u001b[1;36m2\u001b[0m\u001b[1;33m,\u001b[0m \u001b[1;36m2\u001b[0m\u001b[1;33m]\u001b[0m\u001b[1;33m:\u001b[0m \u001b[1;34m'd'\u001b[0m\u001b[1;33m}\u001b[0m\u001b[1;33m\u001b[0m\u001b[1;33m\u001b[0m\u001b[0m\n\u001b[0m",
      "\u001b[1;31mTypeError\u001b[0m: unhashable type: 'list'"
     ]
    }
   ],
   "source": [
    "# neither a list nor another dictionary can serve as a dictionary key, because lists and dictionaries are mutable:\n",
    "d = {[1, 1]: 'a', [1, 2]: 'b', [2, 1]: 'c', [2, 2]: 'd'}"
   ]
  },
  {
   "cell_type": "code",
   "execution_count": null,
   "id": "cd3483ae",
   "metadata": {},
   "outputs": [],
   "source": []
  },
  {
   "cell_type": "code",
   "execution_count": 49,
   "id": "f6e3400c",
   "metadata": {},
   "outputs": [
    {
     "data": {
      "text/plain": [
       "[10, 10, 10]"
      ]
     },
     "execution_count": 49,
     "metadata": {},
     "output_type": "execute_result"
    }
   ],
   "source": [
    "d = {'a': 10, 'b': 10, 'c': 10}\n",
    "list(d.values())"
   ]
  },
  {
   "cell_type": "code",
   "execution_count": 50,
   "id": "bb3a498d",
   "metadata": {},
   "outputs": [
    {
     "name": "stdout",
     "output_type": "stream",
     "text": [
      "{'brand': 'Ford', 'model': 'Mustang', 'year': 1964}\n"
     ]
    }
   ],
   "source": [
    "thisdict = {\n",
    "  \"brand\": \"Ford\",\n",
    "  \"model\": \"Mustang\",\n",
    "  \"year\": 1964\n",
    "}\n",
    "mydict = thisdict.copy()\n",
    "print(mydict)"
   ]
  },
  {
   "cell_type": "code",
   "execution_count": 51,
   "id": "43627ffa",
   "metadata": {},
   "outputs": [
    {
     "name": "stdout",
     "output_type": "stream",
     "text": [
      "{'brand': 'Ford', 'model': 'Mustang', 'year': 1964}\n"
     ]
    }
   ],
   "source": [
    "#Another way to make a copy is to use the built-in function dict().\n",
    "mydict = dict(thisdict)\n",
    "print(mydict)"
   ]
  },
  {
   "cell_type": "code",
   "execution_count": 56,
   "id": "b892e644",
   "metadata": {},
   "outputs": [
    {
     "data": {
      "text/plain": [
       "{'a': 10, 'b': 200, 'c': 30, 'd': 400}"
      ]
     },
     "execution_count": 56,
     "metadata": {},
     "output_type": "execute_result"
    }
   ],
   "source": [
    "d1 = {'a': 10, 'b': 20, 'c': 30}\n",
    "d2 = {'b': 200, 'd': 400}\n",
    "\n",
    "d1.update(d2)\n",
    "d1"
   ]
  },
  {
   "cell_type": "code",
   "execution_count": 57,
   "id": "d5ffc480",
   "metadata": {},
   "outputs": [
    {
     "data": {
      "text/plain": [
       "{'a': 10, 'b': 200, 'c': 30, 'd': 400}"
      ]
     },
     "execution_count": 57,
     "metadata": {},
     "output_type": "execute_result"
    }
   ],
   "source": [
    "d1 = {'a': 10, 'b': 20, 'c': 30}\n",
    "d1.update([('b', 200), ('d', 400)])\n",
    "d1"
   ]
  },
  {
   "cell_type": "code",
   "execution_count": 58,
   "id": "54506e5e",
   "metadata": {},
   "outputs": [
    {
     "data": {
      "text/plain": [
       "{'a': 10, 'b': 200, 'c': 30, 'd': 400}"
      ]
     },
     "execution_count": 58,
     "metadata": {},
     "output_type": "execute_result"
    }
   ],
   "source": [
    "d1 = {'a': 10, 'b': 20, 'c': 30}\n",
    "d1.update(b=200, d=400)\n",
    "d1"
   ]
  },
  {
   "cell_type": "code",
   "execution_count": null,
   "id": "f9b5bd7a",
   "metadata": {},
   "outputs": [],
   "source": []
  },
  {
   "cell_type": "code",
   "execution_count": 66,
   "id": "32894950",
   "metadata": {},
   "outputs": [
    {
     "data": {
      "text/plain": [
       "5"
      ]
     },
     "execution_count": 66,
     "metadata": {},
     "output_type": "execute_result"
    }
   ],
   "source": [
    "# Dictionary Unpacking\n",
    "# We use two operators * (for tuples) and ** (for dictionaries).\n",
    "\n",
    "def add(a=0, b=0):\n",
    "     return a + b\n",
    "\n",
    "d = {'a': 2, 'b': 3}\n",
    "add(**d)"
   ]
  },
  {
   "cell_type": "code",
   "execution_count": 67,
   "id": "5b474bc7",
   "metadata": {},
   "outputs": [
    {
     "data": {
      "text/plain": [
       "{'pepper': 0.2, 'onion': 0.55, 'apple': 0.4, 'orange': 0.35}"
      ]
     },
     "execution_count": 67,
     "metadata": {},
     "output_type": "execute_result"
    }
   ],
   "source": [
    "fruit_prices = {'apple': 0.40, 'orange': 0.35}\n",
    "vegetable_prices = {'pepper': 0.20, 'onion': 0.55}\n",
    "# How to use the unpacking operator **\n",
    "{**vegetable_prices, **fruit_prices}"
   ]
  },
  {
   "cell_type": "code",
   "execution_count": 68,
   "id": "4b545135",
   "metadata": {},
   "outputs": [
    {
     "name": "stdout",
     "output_type": "stream",
     "text": [
      "pepper -> 0.2\n",
      "onion -> 0.55\n",
      "apple -> 0.4\n",
      "orange -> 0.35\n"
     ]
    }
   ],
   "source": [
    "# You can use this feature to iterate through multiple dictionaries\n",
    "for k, v in {**vegetable_prices, **fruit_prices}.items():\n",
    "    print(k, '->', v)"
   ]
  },
  {
   "cell_type": "code",
   "execution_count": 69,
   "id": "a53ac2a3",
   "metadata": {},
   "outputs": [
    {
     "data": {
      "text/plain": [
       "{'pepper': 0.25, 'onion': 0.55, 'apple': 0.4, 'orange': 0.35}"
      ]
     },
     "execution_count": 69,
     "metadata": {},
     "output_type": "execute_result"
    }
   ],
   "source": [
    "# you’re trying to merge have repeated or common keys, then the values of the right-most dictionary will prevail:\n",
    "vegetable_prices = {'pepper': 0.20, 'onion': 0.55}\n",
    "fruit_prices = {'apple': 0.40, 'orange': 0.35, 'pepper': .25}\n",
    "{**vegetable_prices, **fruit_prices}\n"
   ]
  },
  {
   "cell_type": "code",
   "execution_count": 70,
   "id": "2119a109",
   "metadata": {},
   "outputs": [
    {
     "name": "stdout",
     "output_type": "stream",
     "text": [
      "('apple', 0.4)\n",
      "('orange', 0.35)\n",
      "('banana', 0.25)\n",
      "('apple', 0.4)\n",
      "('orange', 0.35)\n",
      "('banana', 0.25)\n",
      "('apple', 0.4)\n",
      "('orange', 0.35)\n",
      "('banana', 0.25)\n"
     ]
    }
   ],
   "source": [
    "# This is performed in cyclic fashion, so it’s up to you to stop the cycle\n",
    "from itertools import cycle\n",
    "prices = {'apple': 0.40, 'orange': 0.35, 'banana': 0.25}\n",
    "times = 3  # Define how many times you need to iterate through prices\n",
    "total_items = times * len(prices)\n",
    "for item in cycle(prices.items()):\n",
    "    if not total_items:\n",
    "        break\n",
    "    total_items -= 1\n",
    "    print(item)"
   ]
  },
  {
   "cell_type": "code",
   "execution_count": 71,
   "id": "4f957ca0",
   "metadata": {},
   "outputs": [
    {
     "name": "stdout",
     "output_type": "stream",
     "text": [
      "('apple', 0.4)\n",
      "('orange', 0.35)\n",
      "('banana', 0.25)\n",
      "('pepper', 0.2)\n",
      "('onion', 0.55)\n",
      "('tomato', 0.42)\n"
     ]
    }
   ],
   "source": [
    "# iterates over the next iterable and so on, until all of them are exhausted\n",
    "from itertools import chain\n",
    "fruit_prices = {'apple': 0.40, 'orange': 0.35, 'banana': 0.25}\n",
    "vegetable_prices = {'pepper': 0.20, 'onion': 0.55, 'tomato': 0.42}\n",
    "for item in chain(fruit_prices.items(), vegetable_prices.items()):\n",
    "    print(item)"
   ]
  },
  {
   "cell_type": "code",
   "execution_count": null,
   "id": "5c80b4b1",
   "metadata": {},
   "outputs": [],
   "source": []
  },
  {
   "cell_type": "code",
   "execution_count": 73,
   "id": "5df38daa",
   "metadata": {},
   "outputs": [
    {
     "data": {
      "text/plain": [
       "{'color': 'blue', 'fruit': 'apple', 'pet': 'dog'}"
      ]
     },
     "execution_count": 73,
     "metadata": {},
     "output_type": "execute_result"
    }
   ],
   "source": [
    "objects = ['blue', 'apple', 'dog']\n",
    "categories = ['color', 'fruit', 'pet']\n",
    "a_dict = {key: value for key, value in zip(categories, objects)}\n",
    "a_dict"
   ]
  },
  {
   "cell_type": "code",
   "execution_count": 74,
   "id": "ab7012ed",
   "metadata": {},
   "outputs": [
    {
     "data": {
      "text/plain": [
       "{'apple': 5600.0, 'banana': 5000.0}"
      ]
     },
     "execution_count": 74,
     "metadata": {},
     "output_type": "execute_result"
    }
   ],
   "source": [
    "incomes = {'apple': 5600.00, 'orange': 3500.00, 'banana': 5000.00}\n",
    "non_citric = {k: incomes[k] for k in incomes.keys() - {'orange'}}\n",
    "non_citric"
   ]
  },
  {
   "cell_type": "code",
   "execution_count": 75,
   "id": "aafbb85a",
   "metadata": {},
   "outputs": [
    {
     "data": {
      "text/plain": [
       "{'apple': 5600.0, 'banana': 5000.0, 'orange': 3500.0}"
      ]
     },
     "execution_count": 75,
     "metadata": {},
     "output_type": "execute_result"
    }
   ],
   "source": [
    "incomes = {'apple': 5600.00, 'orange': 3500.00, 'banana': 5000.00}\n",
    "sorted_income = {k: incomes[k] for k in sorted(incomes)}\n",
    "sorted_income"
   ]
  },
  {
   "cell_type": "code",
   "execution_count": 76,
   "id": "d93c85b2",
   "metadata": {},
   "outputs": [
    {
     "name": "stdout",
     "output_type": "stream",
     "text": [
      "orange -> 3500.0\n",
      "banana -> 5000.0\n",
      "apple -> 5600.0\n"
     ]
    }
   ],
   "source": [
    "incomes = {'apple': 5600.00, 'orange': 3500.00, 'banana': 5000.00}\n",
    "def by_value(item):\n",
    "    return item[1]\n",
    "\n",
    "for k, v in sorted(incomes.items(), key=by_value):\n",
    "    print(k, '->', v)"
   ]
  },
  {
   "cell_type": "code",
   "execution_count": 77,
   "id": "93906cfe",
   "metadata": {},
   "outputs": [
    {
     "name": "stdout",
     "output_type": "stream",
     "text": [
      "orange -> 3500.0\n",
      "banana -> 5000.0\n",
      "apple -> 5600.0\n"
     ]
    }
   ],
   "source": [
    "incomes = {'apple': 5600.00, 'orange': 3500.00, 'banana': 5000.00}\n",
    "for key in sorted(incomes, reverse=True):\n",
    "    print(key, '->', incomes[key])"
   ]
  },
  {
   "cell_type": "code",
   "execution_count": 78,
   "id": "7b8e8f41",
   "metadata": {},
   "outputs": [
    {
     "name": "stdout",
     "output_type": "stream",
     "text": [
      "Dictionary length: 3\n",
      "('pet', 'dog') removed\n",
      "Dictionary length: 2\n",
      "('fruit', 'apple') removed\n",
      "Dictionary length: 1\n",
      "('color', 'blue') removed\n",
      "Dictionary length: 0\n",
      "The dictionary has no item now...\n"
     ]
    }
   ],
   "source": [
    "a_dict = {'color': 'blue', 'fruit': 'apple', 'pet': 'dog'}\n",
    "\n",
    "while True:\n",
    "    try:\n",
    "        print(f'Dictionary length: {len(a_dict)}')\n",
    "        item = a_dict.popitem()\n",
    "        # Do something with item here...\n",
    "        print(f'{item} removed')\n",
    "    except KeyError:\n",
    "        print('The dictionary has no item now...')\n",
    "        break"
   ]
  },
  {
   "cell_type": "code",
   "execution_count": 79,
   "id": "df5b3c60",
   "metadata": {},
   "outputs": [
    {
     "data": {
      "text/plain": [
       "{'apple': 0.38, 'orange': 0.33, 'banana': 0.24}"
      ]
     },
     "execution_count": 79,
     "metadata": {},
     "output_type": "execute_result"
    }
   ],
   "source": [
    "prices = {'apple': 0.40, 'orange': 0.35, 'banana': 0.25}\n",
    "def discount(current_price):\n",
    "    return (current_price[0], round(current_price[1] * 0.95, 2))\n",
    "\n",
    "new_prices = dict(map(discount, prices.items()))\n",
    "new_prices"
   ]
  },
  {
   "cell_type": "code",
   "execution_count": 80,
   "id": "4820509a",
   "metadata": {},
   "outputs": [
    {
     "data": {
      "text/plain": [
       "['orange', 'banana']"
      ]
     },
     "execution_count": 80,
     "metadata": {},
     "output_type": "execute_result"
    }
   ],
   "source": [
    "prices = {'apple': 0.40, 'orange': 0.35, 'banana': 0.25}\n",
    "def has_low_price(price):\n",
    "    return prices[price] < 0.4\n",
    "\n",
    "low_price = list(filter(has_low_price, prices.keys()))\n",
    "low_price"
   ]
  },
  {
   "cell_type": "code",
   "execution_count": 81,
   "id": "2692ef97",
   "metadata": {},
   "outputs": [
    {
     "name": "stdout",
     "output_type": "stream",
     "text": [
      "pepper -> 0.2\n",
      "onion -> 0.55\n",
      "apple -> 0.4\n",
      "orange -> 0.35\n"
     ]
    }
   ],
   "source": [
    "from collections import ChainMap\n",
    "fruit_prices = {'apple': 0.40, 'orange': 0.35}\n",
    "vegetable_prices = {'pepper': 0.20, 'onion': 0.55}\n",
    "chained_dict = ChainMap(fruit_prices, vegetable_prices)\n",
    "chained_dict  # A ChainMap object\n",
    "\n",
    "for key in chained_dict:\n",
    "    print(key, '->', chained_dict[key])"
   ]
  },
  {
   "cell_type": "code",
   "execution_count": null,
   "id": "9a4103e5",
   "metadata": {},
   "outputs": [],
   "source": []
  },
  {
   "cell_type": "code",
   "execution_count": null,
   "id": "01f2e254",
   "metadata": {},
   "outputs": [],
   "source": []
  },
  {
   "cell_type": "code",
   "execution_count": null,
   "id": "9cf4b54d",
   "metadata": {},
   "outputs": [],
   "source": []
  },
  {
   "cell_type": "code",
   "execution_count": null,
   "id": "7d42b5af",
   "metadata": {},
   "outputs": [],
   "source": []
  },
  {
   "cell_type": "code",
   "execution_count": null,
   "id": "e84e727a",
   "metadata": {},
   "outputs": [],
   "source": []
  }
 ],
 "metadata": {
  "kernelspec": {
   "display_name": "Python 3 (ipykernel)",
   "language": "python",
   "name": "python3"
  },
  "language_info": {
   "codemirror_mode": {
    "name": "ipython",
    "version": 3
   },
   "file_extension": ".py",
   "mimetype": "text/x-python",
   "name": "python",
   "nbconvert_exporter": "python",
   "pygments_lexer": "ipython3",
   "version": "3.9.6"
  }
 },
 "nbformat": 4,
 "nbformat_minor": 5
}
