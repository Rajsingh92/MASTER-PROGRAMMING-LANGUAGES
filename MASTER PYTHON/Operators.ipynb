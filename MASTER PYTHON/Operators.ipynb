{
 "cells": [
  {
   "cell_type": "code",
   "execution_count": 1,
   "id": "ec4a938a",
   "metadata": {},
   "outputs": [
    {
     "name": "stdout",
     "output_type": "stream",
     "text": [
      "300 300 300\n"
     ]
    }
   ],
   "source": [
    "a = b = c = 300\n",
    "print(a, b, c)"
   ]
  },
  {
   "cell_type": "code",
   "execution_count": 5,
   "id": "c27a5813",
   "metadata": {},
   "outputs": [
    {
     "name": "stdout",
     "output_type": "stream",
     "text": [
      "2429504311632\n",
      "2429504312240\n"
     ]
    }
   ],
   "source": [
    "# With the statement m = 300, Python creates an integer object with the value 300 and sets m as a reference to it. \n",
    "# n is then similarly assigned to an integer object with value 300—but not the same object.\n",
    "m = 300\n",
    "n = 300\n",
    "print(id(m))\n",
    "print(id(n))"
   ]
  },
  {
   "cell_type": "code",
   "execution_count": 6,
   "id": "80f43f23",
   "metadata": {},
   "outputs": [
    {
     "name": "stdout",
     "output_type": "stream",
     "text": [
      "2429435145424\n",
      "2429435145424\n"
     ]
    }
   ],
   "source": [
    "# For purposes of optimization, the interpreter creates objects for the integers in the range [-5, 256] at startup, \n",
    "# and then reuses them during program execution. Thus, when you assign separate variables to an integer value in this range, \n",
    "# they will actually reference the same object.\n",
    "m = 30\n",
    "n = 30\n",
    "print(id(m))\n",
    "print(id(n))"
   ]
  },
  {
   "cell_type": "code",
   "execution_count": 2,
   "id": "bf98dd31",
   "metadata": {},
   "outputs": [
    {
     "name": "stdout",
     "output_type": "stream",
     "text": [
      "1 2 3\n"
     ]
    }
   ],
   "source": [
    "a, b, c = 1, 2, 3\n",
    "print(a, b, c)"
   ]
  },
  {
   "cell_type": "code",
   "execution_count": null,
   "id": "af0307fb",
   "metadata": {},
   "outputs": [],
   "source": []
  },
  {
   "cell_type": "markdown",
   "id": "2e31574f",
   "metadata": {},
   "source": [
    "# Arithmetic Operator"
   ]
  },
  {
   "cell_type": "code",
   "execution_count": 15,
   "id": "df5fc0bf",
   "metadata": {},
   "outputs": [
    {
     "name": "stdout",
     "output_type": "stream",
     "text": [
      "addtion of numbers: 13\n",
      "subtraction of numbers: 5\n",
      "Multiplication of number: 36\n",
      "Division(float) of numbers: 2.25\n",
      "Division(floor) of number: 2\n",
      "Modulo of both number : 1\n"
     ]
    }
   ],
   "source": [
    "a = 9\n",
    "b = 4\n",
    "\n",
    "add = a + b \n",
    "print(\"addtion of numbers:\",add)\n",
    "\n",
    "sub = a - b \n",
    "print(\"subtraction of numbers:\",sub)\n",
    "\n",
    "mul = a * b \n",
    "print(\"Multiplication of number:\",mul)\n",
    "\n",
    "div1 = a / b \n",
    "print(\"Division(float) of numbers:\",div1)\n",
    "\n",
    "div2 = a // b \n",
    "print(\"Division(floor) of number:\",div2)\n",
    "\n",
    "mod = a % b \n",
    "print(\"Modulo of both number :\",mod)"
   ]
  },
  {
   "cell_type": "code",
   "execution_count": 16,
   "id": "a8e5bcc7",
   "metadata": {},
   "outputs": [
    {
     "data": {
      "text/plain": [
       "9"
      ]
     },
     "execution_count": 16,
     "metadata": {},
     "output_type": "execute_result"
    }
   ],
   "source": [
    "+a"
   ]
  },
  {
   "cell_type": "code",
   "execution_count": 17,
   "id": "cd700e08",
   "metadata": {},
   "outputs": [
    {
     "data": {
      "text/plain": [
       "-4"
      ]
     },
     "execution_count": 17,
     "metadata": {},
     "output_type": "execute_result"
    }
   ],
   "source": [
    "-b"
   ]
  },
  {
   "cell_type": "code",
   "execution_count": 18,
   "id": "c2d4a0d4",
   "metadata": {},
   "outputs": [
    {
     "data": {
      "text/plain": [
       "6561"
      ]
     },
     "execution_count": 18,
     "metadata": {},
     "output_type": "execute_result"
    }
   ],
   "source": [
    "a ** b"
   ]
  },
  {
   "cell_type": "code",
   "execution_count": 19,
   "id": "d21e1ce8",
   "metadata": {},
   "outputs": [
    {
     "name": "stdout",
     "output_type": "stream",
     "text": [
      "2.5\n",
      "2\n",
      "-3\n",
      "-3\n",
      "2\n"
     ]
    }
   ],
   "source": [
    "# When the result of floor division (//) is positive, it is as though the fractional portion is truncated off, \n",
    "# leaving only the integer portion. When the result is negative, the result is rounded down to the next smallest \n",
    "# (greater negative) integer:\n",
    "\n",
    "print(10 / 4)\n",
    "print(10 // 4)\n",
    "print(10 // -4)\n",
    "print(-10 // 4)\n",
    "print(-10 // -4)"
   ]
  },
  {
   "cell_type": "markdown",
   "id": "7ef66d3e",
   "metadata": {},
   "source": [
    "# Relational Operators"
   ]
  },
  {
   "cell_type": "code",
   "execution_count": 20,
   "id": "08231b0f",
   "metadata": {},
   "outputs": [
    {
     "name": "stdout",
     "output_type": "stream",
     "text": [
      "False\n",
      "True\n",
      "False\n",
      "True\n",
      "False\n",
      "True\n"
     ]
    }
   ],
   "source": [
    "a = 1\n",
    "b = 2\n",
    "\n",
    "\n",
    "print(a > b) \n",
    "print(a < b)  \n",
    "print(a == b) \n",
    "print(a != b) \n",
    "print(a >= b) \n",
    "print(a <= b) "
   ]
  },
  {
   "cell_type": "code",
   "execution_count": 22,
   "id": "eef59264",
   "metadata": {},
   "outputs": [
    {
     "data": {
      "text/plain": [
       "3.3000000000000003"
      ]
     },
     "execution_count": 22,
     "metadata": {},
     "output_type": "execute_result"
    }
   ],
   "source": [
    "x = 1.1 + 2.2\n",
    "x"
   ]
  },
  {
   "cell_type": "code",
   "execution_count": 23,
   "id": "123a8c99",
   "metadata": {},
   "outputs": [
    {
     "data": {
      "text/plain": [
       "False"
      ]
     },
     "execution_count": 23,
     "metadata": {},
     "output_type": "execute_result"
    }
   ],
   "source": [
    "# value stored internally for a float object may not be precisely what you’d think it would be. For that reason, \n",
    "# it is poor practice to compare floating-point values for exact equality. \n",
    "\n",
    "x = 1.1 + 2.2\n",
    "x == 3.3"
   ]
  },
  {
   "cell_type": "code",
   "execution_count": 24,
   "id": "8d177f1b",
   "metadata": {},
   "outputs": [
    {
     "data": {
      "text/plain": [
       "True"
      ]
     },
     "execution_count": 24,
     "metadata": {},
     "output_type": "execute_result"
    }
   ],
   "source": [
    "# The preferred way to determine whether two floating-point values are “equal” is to compute whether they are \n",
    "# close to one another, given some tolerance\n",
    "\n",
    "tolerance = 0.00001\n",
    "x = 1.1 + 2.2\n",
    "abs(x - 3.3) < tolerance"
   ]
  },
  {
   "cell_type": "markdown",
   "id": "ff4baa32",
   "metadata": {},
   "source": [
    "# Logical operators"
   ]
  },
  {
   "cell_type": "code",
   "execution_count": 25,
   "id": "4bc836e3",
   "metadata": {},
   "outputs": [
    {
     "name": "stdout",
     "output_type": "stream",
     "text": [
      "True\n",
      "False\n",
      "False\n",
      "False\n"
     ]
    }
   ],
   "source": [
    "print(True and True)\n",
    "print(False and False)\n",
    "print(True and False)\n",
    "print(False and True)"
   ]
  },
  {
   "cell_type": "code",
   "execution_count": 26,
   "id": "a5e3d9e0",
   "metadata": {},
   "outputs": [
    {
     "name": "stdout",
     "output_type": "stream",
     "text": [
      "True\n",
      "False\n",
      "True\n",
      "True\n"
     ]
    }
   ],
   "source": [
    "print(True or True)\n",
    "print(False or False)\n",
    "print(True or False)\n",
    "print(False or True)"
   ]
  },
  {
   "cell_type": "code",
   "execution_count": 27,
   "id": "675346d3",
   "metadata": {},
   "outputs": [
    {
     "name": "stdout",
     "output_type": "stream",
     "text": [
      "False\n",
      "True\n"
     ]
    }
   ],
   "source": [
    "print(not True)\n",
    "print(not False)"
   ]
  },
  {
   "cell_type": "code",
   "execution_count": null,
   "id": "ddfe65f7",
   "metadata": {},
   "outputs": [],
   "source": []
  },
  {
   "cell_type": "markdown",
   "id": "14885ae9",
   "metadata": {},
   "source": [
    "# Bitwise operators"
   ]
  },
  {
   "cell_type": "code",
   "execution_count": 28,
   "id": "b4e55a44",
   "metadata": {},
   "outputs": [
    {
     "name": "stdout",
     "output_type": "stream",
     "text": [
      "0\n",
      "3\n",
      "-2\n",
      "3\n",
      "0\n",
      "4\n"
     ]
    }
   ],
   "source": [
    "a = 1  #0001\n",
    "b = 2  #0010\n",
    "\n",
    "#  bitwise AND \n",
    "print(a & b)   #0000\n",
    "\n",
    "# bitwise OR  \n",
    "print(a | b)  #0011\n",
    "\n",
    "#  bitwise NOT \n",
    "print(~a)    \n",
    "\n",
    "#  bitwise XOR \n",
    "print(a ^ b)   #0011\n",
    "\n",
    "# bitwise right shift\n",
    "print(a >> 2)  #0000\n",
    "\n",
    "# bitwise left shift \n",
    "print(a << 2)   #0100"
   ]
  },
  {
   "cell_type": "markdown",
   "id": "ab2f8dd9",
   "metadata": {},
   "source": [
    "# Assignment operators"
   ]
  },
  {
   "cell_type": "code",
   "execution_count": 29,
   "id": "5f4114ad",
   "metadata": {},
   "outputs": [
    {
     "name": "stdout",
     "output_type": "stream",
     "text": [
      "5\n",
      "8\n",
      "5\n",
      "15\n",
      "5.0\n",
      "2.0\n",
      "0.0\n",
      "0.0\n"
     ]
    }
   ],
   "source": [
    "# In python a += b doesn’t always behave the same way as a = a + b\n",
    "x = 5\n",
    "print(x)\n",
    "x += 3\n",
    "print(x)\n",
    "x -= 3\n",
    "print(x)\n",
    "x *= 3\n",
    "print(x)\n",
    "x /= 3\n",
    "print(x)\n",
    "x %= 3 \n",
    "print(x)\n",
    "x //= 3\n",
    "print(x)\n",
    "x **= 3\n",
    "print(x)"
   ]
  },
  {
   "cell_type": "markdown",
   "id": "288c605c",
   "metadata": {},
   "source": [
    "## Identity operators :  to check if two values are located on the same part of the memory\n",
    "### is :         True if the operands are identical \n",
    "### is not    :  True if the operands are not identical "
   ]
  },
  {
   "cell_type": "code",
   "execution_count": 30,
   "id": "49d2abfb",
   "metadata": {},
   "outputs": [
    {
     "name": "stdout",
     "output_type": "stream",
     "text": [
      "False\n",
      "True\n",
      "False\n"
     ]
    }
   ],
   "source": [
    "a1 = 1\n",
    "b1 = 1\n",
    "a2 = 'rajsingh'\n",
    "b2 = 'rajsingh'\n",
    "a3 = [1,2,3] \n",
    "b3 = [1,2,3] \n",
    "\n",
    "\n",
    "print(a1 is not b1) \n",
    "\n",
    "\n",
    "print(a2 is b2) \n",
    "\n",
    "# lists are mutable.\n",
    "print(a3 is b3) \n"
   ]
  },
  {
   "cell_type": "code",
   "execution_count": 39,
   "id": "934f23f3",
   "metadata": {},
   "outputs": [
    {
     "name": "stdout",
     "output_type": "stream",
     "text": [
      "1001 1001\n"
     ]
    },
    {
     "data": {
      "text/plain": [
       "True"
      ]
     },
     "execution_count": 39,
     "metadata": {},
     "output_type": "execute_result"
    }
   ],
   "source": [
    "x = 1001\n",
    "y = 1000 + 1\n",
    "print(x, y)\n",
    "x == y"
   ]
  },
  {
   "cell_type": "code",
   "execution_count": 40,
   "id": "e4488003",
   "metadata": {},
   "outputs": [
    {
     "data": {
      "text/plain": [
       "False"
      ]
     },
     "execution_count": 40,
     "metadata": {},
     "output_type": "execute_result"
    }
   ],
   "source": [
    "# when you make an assignment like x = y, Python merely creates a second reference to the same object\n",
    "x is y"
   ]
  },
  {
   "cell_type": "code",
   "execution_count": null,
   "id": "1c9c75cc",
   "metadata": {},
   "outputs": [],
   "source": []
  },
  {
   "cell_type": "markdown",
   "id": "4ea643d8",
   "metadata": {},
   "source": [
    "## Membership operators\n",
    "### in   :         True if value is found in the sequence\n",
    "### not in   :     True if value is not found in the sequence"
   ]
  },
  {
   "cell_type": "code",
   "execution_count": 31,
   "id": "49b2edac",
   "metadata": {},
   "outputs": [
    {
     "name": "stdout",
     "output_type": "stream",
     "text": [
      "True\n",
      "True\n",
      "False\n",
      "True\n",
      "False\n"
     ]
    }
   ],
   "source": [
    "x = 'Raj singh Rajpoot'\n",
    "y = {1:'a',2:'b'} \n",
    "\n",
    "\n",
    "print('R' in x) \n",
    "\n",
    "print('raj' not in x) \n",
    "\n",
    "print('Raj' not in x) \n",
    "\n",
    "print(1 in y) \n",
    "\n",
    "print('b' in y) "
   ]
  },
  {
   "cell_type": "markdown",
   "id": "a8e3c275",
   "metadata": {},
   "source": [
    "# Any / All"
   ]
  },
  {
   "cell_type": "code",
   "execution_count": 32,
   "id": "3a0359f8",
   "metadata": {},
   "outputs": [
    {
     "name": "stdout",
     "output_type": "stream",
     "text": [
      "False\n",
      "True\n"
     ]
    }
   ],
   "source": [
    "# Returns true if any of the items is True. It returns False if empty or all are false\n",
    "print (any([False, False, False, False])) \n",
    "\n",
    "print (any([False, True, False, False])) "
   ]
  },
  {
   "cell_type": "code",
   "execution_count": 33,
   "id": "a099c36d",
   "metadata": {},
   "outputs": [
    {
     "name": "stdout",
     "output_type": "stream",
     "text": [
      "True\n",
      "False\n",
      "False\n"
     ]
    }
   ],
   "source": [
    "# Returns true if all of the items are True \n",
    "print (all([True, True, True, True])) \n",
    "\n",
    "print (all([False, True, True, False])) \n",
    "\n",
    "print (all([False, False, False])) "
   ]
  },
  {
   "cell_type": "markdown",
   "id": "f6ca94dc",
   "metadata": {},
   "source": [
    "# Chained Comparison Operators"
   ]
  },
  {
   "cell_type": "raw",
   "id": "dedfe34b",
   "metadata": {},
   "source": [
    "x1 op1 x2 op2 x3 … xn-1 opn xn\n",
    "or \n",
    "x1 op1 x2 and x2 op2 x3 and … xn-1 opn xn"
   ]
  },
  {
   "cell_type": "code",
   "execution_count": 34,
   "id": "8093467d",
   "metadata": {},
   "outputs": [
    {
     "data": {
      "text/plain": [
       "True"
      ]
     },
     "execution_count": 34,
     "metadata": {},
     "output_type": "execute_result"
    }
   ],
   "source": [
    "1 < 2 < 3"
   ]
  },
  {
   "cell_type": "code",
   "execution_count": 35,
   "id": "1458d940",
   "metadata": {},
   "outputs": [
    {
     "data": {
      "text/plain": [
       "True"
      ]
     },
     "execution_count": 35,
     "metadata": {},
     "output_type": "execute_result"
    }
   ],
   "source": [
    "1<2 and 2<3"
   ]
  },
  {
   "cell_type": "markdown",
   "id": "5fd2aec9",
   "metadata": {},
   "source": [
    "# Ternary Condition"
   ]
  },
  {
   "cell_type": "code",
   "execution_count": 36,
   "id": "9cdaea82",
   "metadata": {},
   "outputs": [
    {
     "data": {
      "text/plain": [
       "['zero', 1, 'zero', 3]"
      ]
     },
     "execution_count": 36,
     "metadata": {},
     "output_type": "execute_result"
    }
   ],
   "source": [
    "# <expression_if_true> if <condition> else <expression_if_false>\n",
    "\n",
    "[a if a else 'zero' for a in [0, 1, 0, 3]] "
   ]
  },
  {
   "cell_type": "markdown",
   "id": "ecf993bd",
   "metadata": {},
   "source": [
    "# Operator Precedence"
   ]
  },
  {
   "cell_type": "code",
   "execution_count": 37,
   "id": "fb654c91",
   "metadata": {},
   "outputs": [
    {
     "data": {
      "text/plain": [
       "810"
      ]
     },
     "execution_count": 37,
     "metadata": {},
     "output_type": "execute_result"
    }
   ],
   "source": [
    "2 * 3 ** 4 * 5"
   ]
  },
  {
   "cell_type": "code",
   "execution_count": 38,
   "id": "45a02333",
   "metadata": {},
   "outputs": [
    {
     "data": {
      "text/plain": [
       "6973568802"
      ]
     },
     "execution_count": 38,
     "metadata": {},
     "output_type": "execute_result"
    }
   ],
   "source": [
    "2 * 3 ** (4 * 5)"
   ]
  },
  {
   "cell_type": "markdown",
   "id": "7f14aa6f",
   "metadata": {},
   "source": [
    "# Evaluation of Non-Boolean Values in Boolean Context"
   ]
  },
  {
   "cell_type": "raw",
   "id": "a598a637",
   "metadata": {},
   "source": [
    "Numeric Value\n",
    "    A zero value is false.\n",
    "    A non-zero value is true."
   ]
  },
  {
   "cell_type": "code",
   "execution_count": 47,
   "id": "3998978c",
   "metadata": {},
   "outputs": [
    {
     "name": "stdout",
     "output_type": "stream",
     "text": [
      "False False False\n",
      "True True True\n"
     ]
    }
   ],
   "source": [
    "print(bool(0), bool(0.0), bool(0.0+0j))\n",
    "\n",
    "print(bool(-3), bool(3.14159), bool(1.0+1j))"
   ]
  },
  {
   "cell_type": "raw",
   "id": "28cd4796",
   "metadata": {},
   "source": [
    "String\n",
    "    An empty string is false.\n",
    "    A non-empty string is true."
   ]
  },
  {
   "cell_type": "code",
   "execution_count": 48,
   "id": "f517997f",
   "metadata": {},
   "outputs": [
    {
     "name": "stdout",
     "output_type": "stream",
     "text": [
      "False False False\n",
      "True True True\n"
     ]
    }
   ],
   "source": [
    "print(bool(''), bool(\"\"), bool(\"\"\"\"\"\"))\n",
    "\n",
    "print(bool('foo'), bool(\" \"), bool(''' '''))"
   ]
  },
  {
   "cell_type": "code",
   "execution_count": 49,
   "id": "12b67745",
   "metadata": {},
   "outputs": [
    {
     "name": "stdout",
     "output_type": "stream",
     "text": [
      "<class 'list'>\n",
      "False\n",
      "<class 'list'>\n",
      "True\n"
     ]
    }
   ],
   "source": [
    "print(type([]))\n",
    "print(bool([]))\n",
    "\n",
    "\n",
    "print(type([1, 2, 3]))\n",
    "print(bool([1, 2, 3]))"
   ]
  },
  {
   "cell_type": "code",
   "execution_count": 46,
   "id": "301abeac",
   "metadata": {},
   "outputs": [
    {
     "data": {
      "text/plain": [
       "False"
      ]
     },
     "execution_count": 46,
     "metadata": {},
     "output_type": "execute_result"
    }
   ],
   "source": [
    "# None is always false:\n",
    "bool(None)"
   ]
  },
  {
   "cell_type": "code",
   "execution_count": 50,
   "id": "1844d48e",
   "metadata": {},
   "outputs": [
    {
     "name": "stdout",
     "output_type": "stream",
     "text": [
      "True\n",
      "False\n"
     ]
    }
   ],
   "source": [
    "x = 3\n",
    "print(bool(x))\n",
    "\n",
    "y = 0.0\n",
    "print(bool(y))"
   ]
  },
  {
   "cell_type": "code",
   "execution_count": 51,
   "id": "115acb26",
   "metadata": {},
   "outputs": [
    {
     "name": "stdout",
     "output_type": "stream",
     "text": [
      "3\n",
      "4.4\n"
     ]
    }
   ],
   "source": [
    "x = 3\n",
    "y = 4\n",
    "print(x or y)\n",
    "\n",
    "\n",
    "x = 0.0\n",
    "y = 4.4\n",
    "print(x or y)"
   ]
  },
  {
   "cell_type": "code",
   "execution_count": 52,
   "id": "8ae292f5",
   "metadata": {},
   "outputs": [
    {
     "name": "stdout",
     "output_type": "stream",
     "text": [
      "4\n",
      "0.0\n"
     ]
    }
   ],
   "source": [
    "x = 3\n",
    "y = 4\n",
    "print(x and y)\n",
    "\n",
    "x = 0.0\n",
    "y = 4.4\n",
    "print(x and y)"
   ]
  },
  {
   "cell_type": "markdown",
   "id": "b0b9e701",
   "metadata": {},
   "source": [
    "# Short-Circuit Evaluation"
   ]
  },
  {
   "cell_type": "code",
   "execution_count": 54,
   "id": "fdbd9fbf",
   "metadata": {},
   "outputs": [
    {
     "data": {
      "text/plain": [
       "False"
      ]
     },
     "execution_count": 54,
     "metadata": {},
     "output_type": "execute_result"
    }
   ],
   "source": [
    "a = 0\n",
    "b = 1\n",
    "a != 0 and (b / a) > 0"
   ]
  },
  {
   "cell_type": "code",
   "execution_count": 55,
   "id": "ab3db7e6",
   "metadata": {},
   "outputs": [
    {
     "data": {
      "text/plain": [
       "'foo bar'"
      ]
     },
     "execution_count": 55,
     "metadata": {},
     "output_type": "execute_result"
    }
   ],
   "source": [
    "string = 'foo bar'\n",
    "s = string or '<default_value>'\n",
    "s"
   ]
  },
  {
   "cell_type": "code",
   "execution_count": 56,
   "id": "a620b863",
   "metadata": {},
   "outputs": [
    {
     "data": {
      "text/plain": [
       "'<default_value>'"
      ]
     },
     "execution_count": 56,
     "metadata": {},
     "output_type": "execute_result"
    }
   ],
   "source": [
    "string = ''\n",
    "s = string or '<default_value>'\n",
    "s"
   ]
  },
  {
   "cell_type": "code",
   "execution_count": null,
   "id": "7ca70982",
   "metadata": {},
   "outputs": [],
   "source": []
  },
  {
   "cell_type": "code",
   "execution_count": 1,
   "id": "0a67a347",
   "metadata": {},
   "outputs": [],
   "source": [
    "x = \"hello\"\n",
    "\n",
    "#if condition returns True, then nothing happens:\n",
    "assert x == \"hello\""
   ]
  },
  {
   "cell_type": "code",
   "execution_count": 2,
   "id": "838036c7",
   "metadata": {},
   "outputs": [
    {
     "ename": "AssertionError",
     "evalue": "",
     "output_type": "error",
     "traceback": [
      "\u001b[1;31m---------------------------------------------------------------------------\u001b[0m",
      "\u001b[1;31mAssertionError\u001b[0m                            Traceback (most recent call last)",
      "\u001b[1;32mC:\\Users\\RAJRAJ~1\\AppData\\Local\\Temp/ipykernel_18192/170199094.py\u001b[0m in \u001b[0;36m<module>\u001b[1;34m\u001b[0m\n\u001b[0;32m      1\u001b[0m \u001b[1;31m#if condition returns False, AssertionError is raised:\u001b[0m\u001b[1;33m\u001b[0m\u001b[1;33m\u001b[0m\u001b[1;33m\u001b[0m\u001b[0m\n\u001b[1;32m----> 2\u001b[1;33m \u001b[1;32massert\u001b[0m \u001b[0mx\u001b[0m \u001b[1;33m==\u001b[0m \u001b[1;34m\"goodbye\"\u001b[0m\u001b[1;33m\u001b[0m\u001b[1;33m\u001b[0m\u001b[0m\n\u001b[0m",
      "\u001b[1;31mAssertionError\u001b[0m: "
     ]
    }
   ],
   "source": [
    "#if condition returns False, AssertionError is raised:\n",
    "assert x == \"goodbye\""
   ]
  },
  {
   "cell_type": "code",
   "execution_count": null,
   "id": "3aedba1f",
   "metadata": {},
   "outputs": [],
   "source": []
  }
 ],
 "metadata": {
  "kernelspec": {
   "display_name": "Python 3 (ipykernel)",
   "language": "python",
   "name": "python3"
  },
  "language_info": {
   "codemirror_mode": {
    "name": "ipython",
    "version": 3
   },
   "file_extension": ".py",
   "mimetype": "text/x-python",
   "name": "python",
   "nbconvert_exporter": "python",
   "pygments_lexer": "ipython3",
   "version": "3.9.6"
  }
 },
 "nbformat": 4,
 "nbformat_minor": 5
}
