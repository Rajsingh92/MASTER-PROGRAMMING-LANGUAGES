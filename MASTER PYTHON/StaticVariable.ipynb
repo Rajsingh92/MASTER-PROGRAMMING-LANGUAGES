{
 "cells": [
  {
   "cell_type": "code",
   "execution_count": 1,
   "metadata": {},
   "outputs": [
    {
     "name": "stdout",
     "output_type": "stream",
     "text": [
      "cse\n",
      "cse\n",
      "Geek\n",
      "Nerd\n",
      "1\n",
      "2\n",
      "cse\n"
     ]
    }
   ],
   "source": [
    "#Class or static variables are shared by all objects. Instance or non-static variables are different for different objects (every object has a copy of it).\n",
    "\n",
    "# Python program to show that the variables with a value \n",
    "# assigned in class declaration, are class variables \n",
    "\n",
    "# Class for Computer Science Student \n",
    "class CSStudent: \n",
    "\tstream = 'cse'\t\t\t\t # Class Variable \n",
    "\tdef __init__(self,name,roll): \n",
    "\t\tself.name = name\t\t # Instance Variable \n",
    "\t\tself.roll = roll\t\t # Instance Variable \n",
    "\n",
    "# Objects of CSStudent class \n",
    "a = CSStudent('Geek', 1) \n",
    "b = CSStudent('Nerd', 2) \n",
    "\n",
    "print(a.stream) # prints \"cse\" \n",
    "print(b.stream) # prints \"cse\" \n",
    "print(a.name) # prints \"Geek\" \n",
    "print(b.name) # prints \"Nerd\" \n",
    "print(a.roll) # prints \"1\" \n",
    "print(b.roll) # prints \"2\" \n",
    "\n",
    "# Class variables can be accessed using class \n",
    "# name also \n",
    "print(CSStudent.stream) # prints \"cse\" "
   ]
  },
  {
   "cell_type": "code",
   "execution_count": null,
   "metadata": {},
   "outputs": [],
   "source": []
  }
 ],
 "metadata": {
  "kernelspec": {
   "display_name": "Python 3",
   "language": "python",
   "name": "python3"
  },
  "language_info": {
   "codemirror_mode": {
    "name": "ipython",
    "version": 3
   },
   "file_extension": ".py",
   "mimetype": "text/x-python",
   "name": "python",
   "nbconvert_exporter": "python",
   "pygments_lexer": "ipython3",
   "version": "3.7.3"
  }
 },
 "nbformat": 4,
 "nbformat_minor": 2
}
