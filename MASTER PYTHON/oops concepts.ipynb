{
 "cells": [
  {
   "cell_type": "code",
   "execution_count": 1,
   "metadata": {},
   "outputs": [
    {
     "name": "stdout",
     "output_type": "stream",
     "text": [
      "Inside constructor\n",
      "Id of object referred by mob1 reference variable is : 1004295068136\n",
      "Id of object referred by mob2 reference variable is : 1004295068136\n"
     ]
    }
   ],
   "source": [
    "class Mobile:\n",
    "    def __init__(self, price, brand):\n",
    "        print (\"Inside constructor\")\n",
    "        self.price = price\n",
    "        self.brand = brand\n",
    "\n",
    "mob1=Mobile(1000, \"Apple\")\n",
    "mob2=mob1\n",
    "print (\"Id of object referred by mob1 reference variable is :\", id(mob1))\n",
    "print (\"Id of object referred by mob2 reference variable is :\", id(mob2))\n",
    "#mob1 and mob2 are reference variables to the same object"
   ]
  },
  {
   "cell_type": "markdown",
   "metadata": {},
   "source": [
    "if we change the attribute of an object through one reference variable, it immediately reflects in other reference variable"
   ]
  },
  {
   "cell_type": "code",
   "execution_count": 2,
   "metadata": {},
   "outputs": [
    {
     "name": "stdout",
     "output_type": "stream",
     "text": [
      "Price of mobile 1 : 1000\n",
      "Price of mobile 1 : 3000\n",
      "Price of mobile 2 : 3000\n"
     ]
    }
   ],
   "source": [
    "class Mobile:\n",
    "    def __init__(self, price, brand):\n",
    "        self.price = price\n",
    "        self.brand = brand\n",
    "\n",
    "mob1=Mobile(1000, \"Apple\")\n",
    "print(\"Price of mobile 1 :\", mob1.price)\n",
    "\n",
    "mob2=mob1\n",
    "mob2.price=3000\n",
    "\n",
    "print(\"Price of mobile 1 :\", mob1.price)\n",
    "print(\"Price of mobile 2 :\", mob2.price)"
   ]
  },
  {
   "cell_type": "markdown",
   "metadata": {},
   "source": [
    "if value of an object's attribute is changed, it is changed for all the references to that object as well."
   ]
  },
  {
   "cell_type": "markdown",
   "metadata": {},
   "source": [
    "we can make one reference variable refer to another object. Now any change made through this reference variable will not affect the old object"
   ]
  },
  {
   "cell_type": "code",
   "execution_count": 3,
   "metadata": {},
   "outputs": [
    {
     "name": "stdout",
     "output_type": "stream",
     "text": [
      "Mobile Id Price\n",
      "mob1 1004295069424 1000\n",
      "mob2 1004295069368 3000\n"
     ]
    }
   ],
   "source": [
    "class Mobile:\n",
    "    def __init__(self, price, brand):\n",
    "        self.price = price\n",
    "        self.brand = brand\n",
    "\n",
    "mob1=Mobile(1000, \"Apple\")\n",
    "\n",
    "mob2=mob1\n",
    "mob2=Mobile(2000, \"Samsung\")\n",
    "mob2.price=3000\n",
    "\n",
    "print(\"Mobile\", \"Id\",\"Price\")\n",
    "print(\"mob1\", id(mob1), mob1.price)\n",
    "print(\"mob2\", id(mob2), mob2.price)"
   ]
  },
  {
   "cell_type": "markdown",
   "metadata": {},
   "source": [
    "An object can have multiple reference variables"
   ]
  },
  {
   "cell_type": "markdown",
   "metadata": {},
   "source": [
    "We can create objects without reference variable as well"
   ]
  },
  {
   "cell_type": "markdown",
   "metadata": {},
   "source": [
    "When we put a double underscore in front of the attribute name, python will internally change its name to _Classname__attribute\\\n",
    "If we try to assign a value to a private variable, we end up creating a new attribute in python."
   ]
  },
  {
   "cell_type": "code",
   "execution_count": 5,
   "metadata": {},
   "outputs": [
    {
     "name": "stdout",
     "output_type": "stream",
     "text": [
      "The balance is  1000\n"
     ]
    }
   ],
   "source": [
    "class Customer:\n",
    "    def __init__(self, cust_id, name, age, wallet_balance):\n",
    "        self.cust_id = cust_id\n",
    "        self.name = name\n",
    "        self.age = age\n",
    "        self.__wallet_balance = wallet_balance\n",
    "\n",
    "    def update_balance(self, amount):\n",
    "        if amount < 1000 and amount > 0:\n",
    "            self.__wallet_balance += amount\n",
    "\n",
    "    def show_balance(self):\n",
    "        print (\"The balance is \",self.__wallet_balance)\n",
    "\n",
    "c1=Customer(100, \"Gopal\", 24, 1000)\n",
    "c1.__wallet_balance = 10000000000\n",
    "c1.show_balance()"
   ]
  },
  {
   "cell_type": "markdown",
   "metadata": {},
   "source": [
    " Those methods which are meant to set a value to a private variable are called setter methods and methods meant to access private variable values are called getter methods."
   ]
  },
  {
   "cell_type": "markdown",
   "metadata": {},
   "source": [
    "All setter methods must accept the value to be updated as a parameter and all getter methods must not have any parameter and they must return the value.\n",
    "\n",
    "Setter methods are called as mutator methods ( as they change or mutate the value ) and the getter methods are called accessor methods ( as they access the values )"
   ]
  },
  {
   "cell_type": "code",
   "execution_count": 6,
   "metadata": {},
   "outputs": [
    {
     "name": "stdout",
     "output_type": "stream",
     "text": [
      "120\n"
     ]
    }
   ],
   "source": [
    "class Customer:\n",
    "    def __init__(self, id, name, age, wallet_balance):\n",
    "        self.id = id\n",
    "        self.name = name\n",
    "        self.age = age\n",
    "        self.__wallet_balance = wallet_balance\n",
    "\n",
    "    def set_wallet_balance(self, amount):\n",
    "        if amount < 1000 and amount>  0:\n",
    "            self.__wallet_balance = amount\n",
    "\n",
    "    def get_wallet_balance(self):\n",
    "        return self.__wallet_balance\n",
    "\n",
    "c1=Customer(100, \"Gopal\", 24, 1000)\n",
    "c1.set_wallet_balance(120)\n",
    "print(c1.get_wallet_balance())"
   ]
  },
  {
   "cell_type": "markdown",
   "metadata": {},
   "source": [
    "When we pass an object to a parameter, the parameter name becomes a reference variable."
   ]
  },
  {
   "cell_type": "code",
   "execution_count": 1,
   "metadata": {},
   "outputs": [
    {
     "name": "stdout",
     "output_type": "stream",
     "text": [
      "Id of object in driver code 660752279984\n",
      "Id of object inside function 660752279984\n",
      "Price of mob1  3000\n"
     ]
    }
   ],
   "source": [
    "class Mobile:\n",
    "    def __init__(self, price, brand):\n",
    "        self.price = price\n",
    "        self.brand = brand\n",
    "\n",
    "    def change_price(mobile_obj):\n",
    "        print (\"Id of object inside function\", id(mobile_obj))\n",
    "        mobile_obj.price=3000\n",
    "\n",
    "mob1=Mobile(1000, \"Apple\")\n",
    "print (\"Id of object in driver code\", id(mob1))\n",
    "\n",
    "mob1.change_price()\n",
    "print (\"Price of mob1 \", mob1.price)"
   ]
  },
  {
   "cell_type": "markdown",
   "metadata": {},
   "source": [
    "In python, everything is an object. Hence when we pass a list to a function and when we modify the list, the changes are reflected outside the function as well."
   ]
  },
  {
   "cell_type": "code",
   "execution_count": 2,
   "metadata": {},
   "outputs": [
    {
     "name": "stdout",
     "output_type": "stream",
     "text": [
      "List and its id before method call [100, 200, 300] 660751505864\n",
      "Id of list received in method 660751505864\n",
      "Id of list after element modification in method 660751505864\n",
      "List and its id after method call  [100, 500, 300] 660751505864\n"
     ]
    }
   ],
   "source": [
    "def change_function(data):\n",
    "    print (\"Id of list received in method\", id(data))\n",
    "    data[1] = 500\n",
    "    print (\"Id of list after element modification in method\", id(data))\n",
    "\n",
    "value = [100, 200, 300]\n",
    "print (\"List and its id before method call\", value, id(value))\n",
    "change_function(value)\n",
    "print (\"List and its id after method call \", value, id(value))"
   ]
  },
  {
   "cell_type": "code",
   "execution_count": 3,
   "metadata": {},
   "outputs": [
    {
     "name": "stdout",
     "output_type": "stream",
     "text": [
      "List and its id before method call [100, 200, 300] 660752256328\n",
      "Id of list received in method 660752256328\n",
      "Id of list after list assignment in method 660751505864\n",
      "List and its id after method call  [100, 200, 300] 660752256328\n"
     ]
    }
   ],
   "source": [
    "def change_function(data):\n",
    "    print (\"Id of list received in method\", id(data))\n",
    "    data = [200, 300, 400]\n",
    "    print (\"Id of list after list assignment in method\", id(data))\n",
    "\n",
    "value = [100, 200, 300]\n",
    "print (\"List and its id before method call\", value, id(value))\n",
    "\n",
    "change_function(value)\n",
    "print (\"List and its id after method call \", value, id(value))"
   ]
  },
  {
   "cell_type": "markdown",
   "metadata": {},
   "source": [
    "For changes to reflect outside the function, the object must be mutable object. All objects created through custom classes are mutable objects. If the objects are immutable, the changes don't reflect outside the function. This is because any changes made to a immutable object creates a new object."
   ]
  },
  {
   "cell_type": "code",
   "execution_count": 4,
   "metadata": {},
   "outputs": [
    {
     "name": "stdout",
     "output_type": "stream",
     "text": [
      "Object ID before modification  660754473960\n",
      "Object ID after modification  660754475584\n",
      "hello\n"
     ]
    }
   ],
   "source": [
    "def change(strng):\n",
    "    print(\"Object ID before modification \",id(strng))\n",
    "    strng=strng.upper()\n",
    "    print(\"Object ID after modification \",id(strng))\n",
    "\n",
    "s1=\"hello\"\n",
    "change(s1)\n",
    "print(s1)"
   ]
  },
  {
   "cell_type": "code",
   "execution_count": null,
   "metadata": {},
   "outputs": [],
   "source": []
  },
  {
   "cell_type": "markdown",
   "metadata": {},
   "source": [
    " self refers to the current object being executed."
   ]
  },
  {
   "cell_type": "code",
   "execution_count": 5,
   "metadata": {},
   "outputs": [
    {
     "name": "stdout",
     "output_type": "stream",
     "text": [
      "Id of self in constructor 660754514328\n",
      "Id of mob1 in driver code 660754514328\n",
      "Id of self in constructor 660752279984\n",
      "Id of mob2 in driver code 660752279984\n"
     ]
    }
   ],
   "source": [
    "class Mobile:\n",
    "    def __init__(self, price, brand):\n",
    "        print(\"Id of self in constructor\", id(self))\n",
    "        self.price = price\n",
    "        self.brand = brand\n",
    "\n",
    "mob1=Mobile(1000, \"Apple\")\n",
    "print(\"Id of mob1 in driver code\", id(mob1))\n",
    "\n",
    "mob2=Mobile(1000, \"Apple\")\n",
    "print(\"Id of mob2 in driver code\", id(mob2))"
   ]
  },
  {
   "cell_type": "markdown",
   "metadata": {},
   "source": [
    "Attributes can be created only by using the self variable and the dot operator. Without self we are only creating a local variable and not an attribute."
   ]
  },
  {
   "cell_type": "code",
   "execution_count": 6,
   "metadata": {},
   "outputs": [
    {
     "name": "stdout",
     "output_type": "stream",
     "text": [
      "Inside the Mobile constructor\n",
      "None\n"
     ]
    }
   ],
   "source": [
    "class Mobile:\n",
    "    def __init__(self):\n",
    "        print (\"Inside the Mobile constructor\")\n",
    "        self.brand = None\n",
    "        brand = \"Apple\" #This is a local variable.\n",
    "        #Variables without self are local and they dont\n",
    "        #affect the attributes.\n",
    "\n",
    "        #Local varaibles cannot be accessed outside the init\n",
    "        #Using self creates attributes which are\n",
    "        #accessible in other methods as well\n",
    "\n",
    "mob1=Mobile()\n",
    "print(mob1.brand)#This does not print Apple\n",
    "#This prints None because brand=Apple creates\n",
    "#a local variable and it does not affect the attribute"
   ]
  },
  {
   "cell_type": "code",
   "execution_count": 7,
   "metadata": {},
   "outputs": [
    {
     "name": "stdout",
     "output_type": "stream",
     "text": [
      "Apple 1000\n",
      "Samsung 2000\n",
      "Samsung 3000\n"
     ]
    }
   ],
   "source": [
    "class Mobile:\n",
    "    def __init__(self,brand,price):\n",
    "        self.brand = brand\n",
    "        self.price = price\n",
    "\n",
    "mob1=Mobile(\"Apple\", 1000)\n",
    "mob2=Mobile(\"Samsung\", 2000)\n",
    "mob3=Mobile(\"Apple\", 3000)\n",
    "\n",
    "\n",
    "list_of_mobiles=[mob1, mob2, mob3]\n",
    "\n",
    "mob3.brand=\"Samsung\"\n",
    "\n",
    "for mobile in list_of_mobiles:\n",
    "    print (mobile.brand, mobile.price)"
   ]
  },
  {
   "cell_type": "code",
   "execution_count": 8,
   "metadata": {},
   "outputs": [
    {
     "name": "stdout",
     "output_type": "stream",
     "text": [
      "Samsung 5000\n"
     ]
    }
   ],
   "source": [
    "class Mobile:\n",
    "    def __init__(self,brand,price):\n",
    "        self.brand = brand\n",
    "        self.price = price\n",
    "\n",
    "mob1=Mobile(\"Apple\", 1000)\n",
    "mob2=Mobile(\"Samsung\", 5000)\n",
    "mob3=Mobile(\"Apple\", 3000)\n",
    "\n",
    "mob_dict={\n",
    "          \"m1\":mob1,\n",
    "          \"m2\":mob2,\n",
    "          \"m3\":mob3\n",
    "          }\n",
    "\n",
    "for key,value in mob_dict.items():\n",
    "    if value.price > 3000:\n",
    "        print (value.brand,value.price)"
   ]
  },
  {
   "cell_type": "code",
   "execution_count": 9,
   "metadata": {},
   "outputs": [
    {
     "name": "stdout",
     "output_type": "stream",
     "text": [
      "Apple mobile with price 20000 is available after discount at 20000.0\n",
      "Apple mobile with price 30000 is available after discount at 15000.0\n",
      "Samsung mobile with price 5000 is available after discount at 2500.0\n",
      "Samsung mobile with price 6000 is available after discount at 6000.0\n"
     ]
    }
   ],
   "source": [
    "class Mobile:\n",
    "    def __init__(self, price, brand):\n",
    "        self.price = price\n",
    "        self.brand = brand\n",
    "        self.discount = 0\n",
    "\n",
    "    def purchase(self):\n",
    "        total = self.price - self.price * self.discount / 100\n",
    "        print (self.brand, \"mobile with price\", self.price, \"is available after discount at\", total)\n",
    "\n",
    "def enable_discount(list_of_mobiles):\n",
    "    for mobile in list_of_mobiles:\n",
    "        mobile.discount=50\n",
    "\n",
    "def disable_discount(list_of_mobiles):\n",
    "    for mobile in list_of_mobiles:\n",
    "        mobile.discount=0\n",
    "\n",
    "mob1=Mobile(20000, \"Apple\")\n",
    "mob2=Mobile(30000, \"Apple\")\n",
    "mob3=Mobile(5000, \"Samsung\")\n",
    "mob4=Mobile(6000, \"Samsung\")\n",
    "\n",
    "list_of_mobiles=[mob1,mob2,mob3,mob4]\n",
    "\n",
    "mob1.purchase()\n",
    "\n",
    "enable_discount(list_of_mobiles)\n",
    "\n",
    "mob2.purchase()\n",
    "mob3.purchase()\n",
    "\n",
    "disable_discount(list_of_mobiles)\n",
    "\n",
    "mob4.purchase()"
   ]
  },
  {
   "cell_type": "markdown",
   "metadata": {},
   "source": [
    "We can create shared attributes by placing them directly inside the class and not inside the constructor. And since this attribute is not owned by any one object, we don’t need the self to create this attribute. Such variables which are created at a class level are called static variables"
   ]
  },
  {
   "cell_type": "code",
   "execution_count": 10,
   "metadata": {},
   "outputs": [
    {
     "name": "stdout",
     "output_type": "stream",
     "text": [
      "Apple mobile with price 20000 is available after discount at 10000.0\n",
      "Apple mobile with price 30000 is available after discount at 15000.0\n",
      "Samsung mobile with price 5000 is available after discount at 5000.0\n"
     ]
    }
   ],
   "source": [
    "class Mobile:\n",
    "    discount = 50\n",
    "    def __init__(self, price, brand):\n",
    "        self.price = price\n",
    "        self.brand = brand\n",
    "\n",
    "    def purchase(self):\n",
    "        total = self.price - self.price * Mobile.discount / 100\n",
    "        print (self.brand, \"mobile with price\", self.price, \"is available after discount at\", total)\n",
    "\n",
    "def enable_discount():\n",
    "    Mobile.discount = 50\n",
    "\n",
    "def disable_discount():\n",
    "    Mobile.discount = 0\n",
    "\n",
    "mob1=Mobile(20000, \"Apple\")\n",
    "mob2=Mobile(30000, \"Apple\")\n",
    "mob3=Mobile(5000, \"Samsung\")\n",
    "\n",
    "enable_discount()\n",
    "mob1.purchase()\n",
    "mob2.purchase()\n",
    "\n",
    "disable_discount()\n",
    "mob3.purchase()"
   ]
  },
  {
   "cell_type": "code",
   "execution_count": 11,
   "metadata": {},
   "outputs": [
    {
     "name": "stdout",
     "output_type": "stream",
     "text": [
      "50\n"
     ]
    }
   ],
   "source": [
    "class Mobile:\n",
    "    __discount = 50\n",
    "    def __init__(self, price, brand):\n",
    "        self.price = price\n",
    "        self.brand = brand\n",
    "\n",
    "    def purchase(self):\n",
    "        total = self.price - self.price * Mobile.__discount / 100\n",
    "        print (\"Total is \",total)\n",
    "\n",
    "    def get_discount(self):\n",
    "        return Mobile.__discount\n",
    "\n",
    "    def set_discount(self,discount):\n",
    "        Mobile.__discount = discount\n",
    "\n",
    "mob1=Mobile(20000, \"Apple\")\n",
    "mob2=Mobile(30000, \"Apple\")\n",
    "mob3=Mobile(5000, \"Samsung\")\n",
    "\n",
    "print (mob1.get_discount())"
   ]
  },
  {
   "cell_type": "markdown",
   "metadata": {},
   "source": [
    "Since static variable is object independent, we need a way to access the getter setter methods without an object. This is possible by creating static methods. Static methods are those methods which can be accessed without an object. They are accessed using the class name.\n",
    "\n",
    "There are two rules in creating such static methods:\n",
    "\n",
    "The methods should not have self\n",
    "@staticmethod must be written on top of it"
   ]
  },
  {
   "cell_type": "code",
   "execution_count": 12,
   "metadata": {},
   "outputs": [
    {
     "name": "stdout",
     "output_type": "stream",
     "text": [
      "50\n"
     ]
    }
   ],
   "source": [
    "class Mobile:\n",
    "    __discount = 50\n",
    "    def __init__(self, price, brand):\n",
    "        self.price = price\n",
    "        self.brand = brand\n",
    "\n",
    "    def purchase(self):\n",
    "        total = self.price - self.price * Mobile.__discount / 100\n",
    "        print (\"Total is \",total)\n",
    "\n",
    "    @staticmethod\n",
    "    def get_discount():\n",
    "        return Mobile.__discount\n",
    "\n",
    "    @staticmethod\n",
    "    def set_discount(discount):\n",
    "        Mobile.__discount = discount\n",
    "\n",
    "print (Mobile.get_discount())"
   ]
  },
  {
   "cell_type": "code",
   "execution_count": 13,
   "metadata": {},
   "outputs": [
    {
     "name": "stdout",
     "output_type": "stream",
     "text": [
      "mobile_id for mob1 is 1000\n",
      "mobile_id for mob2 is 1001\n",
      "mobile_id for mob3 is 1002\n",
      "Current value of counter is 1003\n"
     ]
    }
   ],
   "source": [
    "class Mobile:\n",
    "    counter = 1000\n",
    "    def __init__(self, price, brand):\n",
    "        self.price = price\n",
    "        self.brand = brand\n",
    "        self.mobile_id = Mobile.counter\n",
    "        Mobile.counter += 1\n",
    "\n",
    "mob1=Mobile(20000, \"Apple\")\n",
    "mob2=Mobile(30000, \"Apple\")\n",
    "mob3=Mobile(5000, \"Samsung\")\n",
    "\n",
    "print(\"mobile_id for mob1 is\", mob1.mobile_id)\n",
    "print(\"mobile_id for mob2 is\", mob2.mobile_id)\n",
    "print(\"mobile_id for mob3 is\", mob3.mobile_id)\n",
    "\n",
    "print(\"Current value of counter is\", Mobile.counter)"
   ]
  },
  {
   "cell_type": "markdown",
   "metadata": {},
   "source": [
    "# Aggregation"
   ]
  },
  {
   "cell_type": "code",
   "execution_count": 14,
   "metadata": {},
   "outputs": [
    {
     "name": "stdout",
     "output_type": "stream",
     "text": [
      "Jack 24 1234\n",
      "123 5th Lane 56001\n",
      "Jack 24 1234\n",
      "567 6th Lane 82006\n"
     ]
    }
   ],
   "source": [
    "class Customer:\n",
    "    def __init__(self, name, age, phone_no, address):\n",
    "        self.name = name\n",
    "        self.age = age\n",
    "        self.phone_no = phone_no\n",
    "        self.address = address\n",
    "\n",
    "    def view_details(self):\n",
    "        print (self.name, self.age, self.phone_no)\n",
    "        print (self.address.door_no, self.address.street, self.address.pincode)\n",
    "\n",
    "    def update_details(self, add):\n",
    "        self.address = add\n",
    "\n",
    "class Address:\n",
    "    def __init__(self, door_no, street, pincode):\n",
    "        self.door_no = door_no\n",
    "        self.street = street\n",
    "        self.pincode = pincode\n",
    "\n",
    "    def update_address(self):\n",
    "        pass\n",
    "\n",
    "add1=Address(123, \"5th Lane\", 56001)\n",
    "add2=Address(567, \"6th Lane\", 82006)\n",
    "cus1=Customer(\"Jack\", 24, 1234, add1)\n",
    "\n",
    "cus1.view_details()\n",
    "\n",
    "cus1.update_details(add2)\n",
    "\n",
    "cus1.view_details()"
   ]
  },
  {
   "cell_type": "markdown",
   "metadata": {},
   "source": [
    "We have already seen that private variables cannot be accessed outside the class. This is true even in aggregation. The owning class cannot access the private attributes of the aggregated class directly."
   ]
  },
  {
   "cell_type": "code",
   "execution_count": 15,
   "metadata": {},
   "outputs": [
    {
     "name": "stdout",
     "output_type": "stream",
     "text": [
      "Jack 24 1234\n"
     ]
    },
    {
     "ename": "AttributeError",
     "evalue": "'Address' object has no attribute '_Customer__door_no'",
     "output_type": "error",
     "traceback": [
      "\u001b[1;31m---------------------------------------------------------------------------\u001b[0m",
      "\u001b[1;31mAttributeError\u001b[0m                            Traceback (most recent call last)",
      "\u001b[1;32m<ipython-input-15-1bd19e1f451c>\u001b[0m in \u001b[0;36m<module>\u001b[1;34m\u001b[0m\n\u001b[0;32m     22\u001b[0m \u001b[0mcus1\u001b[0m\u001b[1;33m=\u001b[0m\u001b[0mCustomer\u001b[0m\u001b[1;33m(\u001b[0m\u001b[1;34m\"Jack\"\u001b[0m\u001b[1;33m,\u001b[0m \u001b[1;36m24\u001b[0m\u001b[1;33m,\u001b[0m \u001b[1;36m1234\u001b[0m\u001b[1;33m,\u001b[0m \u001b[0madd1\u001b[0m\u001b[1;33m)\u001b[0m\u001b[1;33m\u001b[0m\u001b[1;33m\u001b[0m\u001b[0m\n\u001b[0;32m     23\u001b[0m \u001b[1;33m\u001b[0m\u001b[0m\n\u001b[1;32m---> 24\u001b[1;33m \u001b[0mcus1\u001b[0m\u001b[1;33m.\u001b[0m\u001b[0mview_details\u001b[0m\u001b[1;33m(\u001b[0m\u001b[1;33m)\u001b[0m\u001b[1;33m\u001b[0m\u001b[1;33m\u001b[0m\u001b[0m\n\u001b[0m",
      "\u001b[1;32m<ipython-input-15-1bd19e1f451c>\u001b[0m in \u001b[0;36mview_details\u001b[1;34m(self)\u001b[0m\n\u001b[0;32m      8\u001b[0m     \u001b[1;32mdef\u001b[0m \u001b[0mview_details\u001b[0m\u001b[1;33m(\u001b[0m\u001b[0mself\u001b[0m\u001b[1;33m)\u001b[0m\u001b[1;33m:\u001b[0m\u001b[1;33m\u001b[0m\u001b[1;33m\u001b[0m\u001b[0m\n\u001b[0;32m      9\u001b[0m         \u001b[0mprint\u001b[0m \u001b[1;33m(\u001b[0m\u001b[0mself\u001b[0m\u001b[1;33m.\u001b[0m\u001b[0mname\u001b[0m\u001b[1;33m,\u001b[0m \u001b[0mself\u001b[0m\u001b[1;33m.\u001b[0m\u001b[0mage\u001b[0m\u001b[1;33m,\u001b[0m \u001b[0mself\u001b[0m\u001b[1;33m.\u001b[0m\u001b[0mphone_no\u001b[0m\u001b[1;33m)\u001b[0m\u001b[1;33m\u001b[0m\u001b[1;33m\u001b[0m\u001b[0m\n\u001b[1;32m---> 10\u001b[1;33m         \u001b[0mprint\u001b[0m \u001b[1;33m(\u001b[0m\u001b[0mself\u001b[0m\u001b[1;33m.\u001b[0m\u001b[0maddress\u001b[0m\u001b[1;33m.\u001b[0m\u001b[0m__door_no\u001b[0m\u001b[1;33m,\u001b[0m \u001b[0mself\u001b[0m\u001b[1;33m.\u001b[0m\u001b[0maddress\u001b[0m\u001b[1;33m.\u001b[0m\u001b[0m__street\u001b[0m\u001b[1;33m,\u001b[0m \u001b[0mself\u001b[0m\u001b[1;33m.\u001b[0m\u001b[0maddress\u001b[0m\u001b[1;33m.\u001b[0m\u001b[0m__pincode\u001b[0m\u001b[1;33m)\u001b[0m\u001b[1;33m\u001b[0m\u001b[1;33m\u001b[0m\u001b[0m\n\u001b[0m\u001b[0;32m     11\u001b[0m \u001b[1;33m\u001b[0m\u001b[0m\n\u001b[0;32m     12\u001b[0m \u001b[1;32mclass\u001b[0m \u001b[0mAddress\u001b[0m\u001b[1;33m:\u001b[0m\u001b[1;33m\u001b[0m\u001b[1;33m\u001b[0m\u001b[0m\n",
      "\u001b[1;31mAttributeError\u001b[0m: 'Address' object has no attribute '_Customer__door_no'"
     ]
    }
   ],
   "source": [
    "class Customer:\n",
    "    def __init__(self, name, age, phone_no, address):\n",
    "        self.name = name\n",
    "        self.age = age\n",
    "        self.phone_no = phone_no\n",
    "        self.address = address\n",
    "\n",
    "    def view_details(self):\n",
    "        print (self.name, self.age, self.phone_no)\n",
    "        print (self.address.__door_no, self.address.__street, self.address.__pincode)\n",
    "\n",
    "class Address:\n",
    "    def __init__(self, door_no, street, pincode):\n",
    "        self.__door_no = door_no\n",
    "        self.__street = street\n",
    "        self.__pincode = pincode\n",
    "\n",
    "    def update_address(self):\n",
    "        pass\n",
    "\n",
    "add1=Address(123, \"5th Lane\", 56001)\n",
    "cus1=Customer(\"Jack\", 24, 1234, add1)\n",
    "\n",
    "cus1.view_details()"
   ]
  },
  {
   "cell_type": "markdown",
   "metadata": {},
   "source": [
    "Once we have appropriate accessor and mutator methods we can start accessing the private variables of the aggregated class using those methods."
   ]
  },
  {
   "cell_type": "code",
   "execution_count": 16,
   "metadata": {},
   "outputs": [
    {
     "name": "stdout",
     "output_type": "stream",
     "text": [
      "Jack 24 1234\n",
      "123 5th Lane 56001\n"
     ]
    }
   ],
   "source": [
    "class Customer:\n",
    "    def __init__(self, name, age, phone_no, address):\n",
    "        self.name = name\n",
    "        self.age = age\n",
    "        self.phone_no = phone_no\n",
    "        self.address = address\n",
    "    def view_details(self):\n",
    "        print (self.name, self.age, self.phone_no)\n",
    "        print (self.address.get_door_no(), self.address.get_street(), self.address.get_pincode())\n",
    "class Address:\n",
    "    def __init__(self, door_no, street, pincode):\n",
    "        self.__door_no = door_no\n",
    "        self.__street = street\n",
    "        self.__pincode = pincode\n",
    "    def get_door_no(self):\n",
    "        return self.__door_no\n",
    "    def get_street(self):\n",
    "        return self.__street\n",
    "    def get_pincode(self):\n",
    "        return self.__pincode\n",
    "    def set_door_no(self, value):\n",
    "        self.__door_no = value\n",
    "    def set_street(self, value):\n",
    "        self.__street = value\n",
    "    def set_pincode(self, value):\n",
    "        self.__pincode = value\n",
    "    def update_address(self):\n",
    "        pass\n",
    "add1=Address(123, \"5th Lane\", 56001)\n",
    "cus1=Customer(\"Jack\", 24, 1234, add1)\n",
    "cus1.view_details()"
   ]
  },
  {
   "cell_type": "markdown",
   "metadata": {},
   "source": [
    "# Weaker relationship"
   ]
  },
  {
   "cell_type": "code",
   "execution_count": 17,
   "metadata": {},
   "outputs": [
    {
     "name": "stdout",
     "output_type": "stream",
     "text": [
      "Paying by card\n"
     ]
    }
   ],
   "source": [
    "class Customer:\n",
    "    def __init__(self, name, age, phone_no):\n",
    "        self.name = name\n",
    "        self.age = age\n",
    "        self.phone_no = phone_no\n",
    "\n",
    "    def purchase(self, payment):\n",
    "        if payment.type == \"card\":\n",
    "            print (\"Paying by card\")\n",
    "        elif payment.type == \"e-wallet\":\n",
    "            print (\"Paying by wallet\")\n",
    "        else:\n",
    "            print (\"Paying by cash\")\n",
    "\n",
    "class Payment:\n",
    "    def __init__(self, type):\n",
    "        self.type = type\n",
    "\n",
    "payment1=Payment(\"card\")\n",
    "c=Customer(\"Jack\",23,1234)\n",
    "\n",
    "c.purchase(payment1)"
   ]
  },
  {
   "cell_type": "markdown",
   "metadata": {},
   "source": [
    "Apart from an object being passed as a parameter to the method, we can also create an object locally inside a method. This again is a weaker dependency which does not reflect in the class diagram."
   ]
  },
  {
   "cell_type": "code",
   "execution_count": 18,
   "metadata": {},
   "outputs": [
    {
     "name": "stdout",
     "output_type": "stream",
     "text": [
      "500\n"
     ]
    }
   ],
   "source": [
    "#Object creation\n",
    "class Customer:\n",
    "    def __init__(self, name,cust_type,bill):\n",
    "        self.name = name\n",
    "        self.bill = bill\n",
    "        self.cust_type=cust_type\n",
    "\n",
    "    def calulate_bill(self):\n",
    "        tax1=Tax(self.cust_type)\n",
    "        final_bill=self.bill*tax1.tax_details(self.cust_type)\n",
    "        return final_bill\n",
    "\n",
    "\n",
    "class Tax:\n",
    "    def __init__(self,cust_type):\n",
    "        self.cust_type=cust_type\n",
    "\n",
    "    def tax_details(self,cust_type):\n",
    "        if(cust_type==\"Student\"):\n",
    "            return 5\n",
    "        else:\n",
    "            return 10\n",
    "\n",
    "\n",
    "cust1=Customer(\"Maddy\",\"Student\",100)\n",
    "print(cust1.calulate_bill())"
   ]
  },
  {
   "cell_type": "markdown",
   "metadata": {},
   "source": [
    "From a code perspective, a child class inherits:\n",
    "\n",
    "Constructor\n",
    "Non Private Attributes\n",
    "Non Private Methods"
   ]
  },
  {
   "cell_type": "markdown",
   "metadata": {},
   "source": [
    "Unlike other languages, private variables get inherited in Python."
   ]
  },
  {
   "cell_type": "code",
   "execution_count": 19,
   "metadata": {},
   "outputs": [
    {
     "name": "stdout",
     "output_type": "stream",
     "text": [
      "Inside phone constructor\n",
      "Buying a phone\n"
     ]
    }
   ],
   "source": [
    "class Phone:\n",
    "    def __init__(self, price, brand, camera):\n",
    "        print (\"Inside phone constructor\")\n",
    "        self.__price = price\n",
    "        self.brand = brand\n",
    "        self.camera = camera\n",
    "\n",
    "    def buy(self):\n",
    "        print (\"Buying a phone\")\n",
    "\n",
    "    def return_phone(self):\n",
    "        print (\"Returning a phone\")\n",
    "\n",
    "class FeaturePhone(Phone):\n",
    "    pass\n",
    "\n",
    "class SmartPhone(Phone):\n",
    "    pass\n",
    "\n",
    "s=SmartPhone(20000, \"Apple\", 13)\n",
    "\n",
    "s.buy()"
   ]
  },
  {
   "cell_type": "code",
   "execution_count": 20,
   "metadata": {},
   "outputs": [
    {
     "name": "stdout",
     "output_type": "stream",
     "text": [
      "Inside phone constructor\n",
      "Buying a smartphone\n"
     ]
    }
   ],
   "source": [
    "class Phone:\n",
    "    def __init__(self, price, brand, camera):\n",
    "        print (\"Inside phone constructor\")\n",
    "        self.__price = price\n",
    "        self.brand = brand\n",
    "        self.camera = camera\n",
    "\n",
    "    def buy(self):\n",
    "        print (\"Buying a phone\")\n",
    "\n",
    "    def return_phone(self):\n",
    "        print (\"Returning a phone\")\n",
    "\n",
    "class FeaturePhone(Phone):\n",
    "    pass\n",
    "\n",
    "class SmartPhone(Phone):\n",
    "    def buy(self):\n",
    "        print (\"Buying a smartphone\")\n",
    "\n",
    "s=SmartPhone(20000, \"Apple\", 13)\n",
    "\n",
    "s.buy()"
   ]
  },
  {
   "cell_type": "code",
   "execution_count": 21,
   "metadata": {},
   "outputs": [
    {
     "name": "stdout",
     "output_type": "stream",
     "text": [
      "Inside phone constructor\n",
      "Buying a smartphone\n",
      "Buying a phone\n"
     ]
    }
   ],
   "source": [
    "class Phone:\n",
    "    def __init__(self, price, brand, camera):\n",
    "        print (\"Inside phone constructor\")\n",
    "        self.__price = price\n",
    "        self.brand = brand\n",
    "        self.camera = camera\n",
    "\n",
    "    def buy(self):\n",
    "        print (\"Buying a phone\")\n",
    "\n",
    "    def return_phone(self):\n",
    "        print (\"Returning a phone\")\n",
    "\n",
    "class FeaturePhone(Phone):\n",
    "    pass\n",
    "\n",
    "class SmartPhone(Phone):\n",
    "    def buy(self):\n",
    "        print (\"Buying a smartphone\")\n",
    "        super().buy()\n",
    "\n",
    "s=SmartPhone(20000, \"Apple\", 13)\n",
    "\n",
    "s.buy()"
   ]
  },
  {
   "cell_type": "code",
   "execution_count": 22,
   "metadata": {},
   "outputs": [
    {
     "name": "stdout",
     "output_type": "stream",
     "text": [
      "Inside phone constructor\n",
      "Inside smartphone constructor\n",
      "Android\n",
      "Samsung\n"
     ]
    }
   ],
   "source": [
    "class Phone:\n",
    "    def __init__(self, price, brand, camera):\n",
    "        print (\"Inside phone constructor\")\n",
    "        self.__price = price\n",
    "        self.brand = brand\n",
    "        self.camera = camera\n",
    "\n",
    "    def buy(self):\n",
    "        print (\"Buying a phone\")\n",
    "\n",
    "    def return_phone(self):\n",
    "        print (\"Returning a phone\")\n",
    "\n",
    "class FeaturePhone(Phone):\n",
    "    pass\n",
    "\n",
    "class SmartPhone(Phone):\n",
    "    def __init__(self, price, brand, camera, os, ram):\n",
    "        super().__init__(price, brand, camera)\n",
    "        self.os = os\n",
    "        self.ram = ram\n",
    "        print (\"Inside smartphone constructor\")\n",
    "\n",
    "    def buy(self):\n",
    "        print (\"Buying a smartphone\")\n",
    "\n",
    "s=SmartPhone(20000, \"Samsung\", 12, \"Android\", 2)\n",
    "\n",
    "print(s.os)\n",
    "print(s.brand)"
   ]
  },
  {
   "cell_type": "code",
   "execution_count": 23,
   "metadata": {},
   "outputs": [],
   "source": [
    "from abc import ABCMeta\n",
    "class Product(metaclass=ABCMeta):\n",
    "    def return_policy(self):\n",
    "        pass\n",
    "\n",
    "class Furniture(Product):\n",
    "    pass\n",
    "\n",
    "class Mobile(Product):\n",
    "    def return_policy(self):\n",
    "        print(\"All mobiles must be returned within 10 days of purchase\")\n",
    "\n",
    "class Shoe(Product):\n",
    "    def return_policy(self):\n",
    "        print(\"All shoes must be returned within 7 days of purchase\")"
   ]
  },
  {
   "cell_type": "code",
   "execution_count": 24,
   "metadata": {},
   "outputs": [],
   "source": [
    "from abc import ABCMeta, abstractmethod\n",
    "class Product(metaclass=ABCMeta):\n",
    "    @abstractmethod\n",
    "    def return_policy(self):\n",
    "        pass"
   ]
  },
  {
   "cell_type": "markdown",
   "metadata": {},
   "source": [
    "If a method is abstract, then the Subclass must override the abstract method. Else we cannot instantiate the subclass also."
   ]
  },
  {
   "cell_type": "code",
   "execution_count": 25,
   "metadata": {},
   "outputs": [
    {
     "ename": "TypeError",
     "evalue": "Can't instantiate abstract class Furniture with abstract methods return_policy",
     "output_type": "error",
     "traceback": [
      "\u001b[1;31m---------------------------------------------------------------------------\u001b[0m",
      "\u001b[1;31mTypeError\u001b[0m                                 Traceback (most recent call last)",
      "\u001b[1;32m<ipython-input-25-a7612d4043d2>\u001b[0m in \u001b[0;36m<module>\u001b[1;34m\u001b[0m\n\u001b[0;32m      8\u001b[0m     \u001b[1;32mpass\u001b[0m\u001b[1;33m\u001b[0m\u001b[1;33m\u001b[0m\u001b[0m\n\u001b[0;32m      9\u001b[0m \u001b[1;33m\u001b[0m\u001b[0m\n\u001b[1;32m---> 10\u001b[1;33m \u001b[0mFurniture\u001b[0m\u001b[1;33m(\u001b[0m\u001b[1;33m)\u001b[0m\u001b[1;33m\u001b[0m\u001b[1;33m\u001b[0m\u001b[0m\n\u001b[0m",
      "\u001b[1;31mTypeError\u001b[0m: Can't instantiate abstract class Furniture with abstract methods return_policy"
     ]
    }
   ],
   "source": [
    "from abc import ABCMeta, abstractmethod\n",
    "class Product(metaclass=ABCMeta):\n",
    "    @abstractmethod\n",
    "    def return_policy(self):\n",
    "        pass\n",
    "\n",
    "class Furniture(Product):\n",
    "    pass\n",
    "\n",
    "Furniture()"
   ]
  },
  {
   "cell_type": "markdown",
   "metadata": {},
   "source": [
    "If a child class overrides the abstract method, then its own child classes need not override the abstract method"
   ]
  },
  {
   "cell_type": "code",
   "execution_count": 26,
   "metadata": {},
   "outputs": [
    {
     "data": {
      "text/plain": [
       "<__main__.Sofa at 0x99d8092e48>"
      ]
     },
     "execution_count": 26,
     "metadata": {},
     "output_type": "execute_result"
    }
   ],
   "source": [
    "from abc import ABCMeta, abstractmethod\n",
    "class Product(metaclass=ABCMeta):\n",
    "    @abstractmethod\n",
    "    def return_policy(self):\n",
    "        pass\n",
    "\n",
    "class Furniture(Product):\n",
    "    def return_policy(self):\n",
    "        print(\"Furnitures cannot be returned\")\n",
    "\n",
    "class Sofa(Furniture):\n",
    "    pass\n",
    "\n",
    "Sofa()"
   ]
  },
  {
   "cell_type": "markdown",
   "metadata": {},
   "source": [
    "# Exception"
   ]
  },
  {
   "cell_type": "code",
   "execution_count": null,
   "metadata": {},
   "outputs": [
    {
     "name": "stdout",
     "output_type": "stream",
     "text": [
      "Please enter a card number1234\n",
      "Something went wrong. \n",
      "Please enter a card number12\n",
      "Something went wrong. \n",
      "Please enter a card number123\n",
      "Something went wrong. \n",
      "Please enter a card number101\n",
      "Something went wrong. \n",
      "Please enter a card number800\n",
      "Something went wrong. \n"
     ]
    }
   ],
   "source": [
    "class CreditCard:\n",
    "    def __init__(self, card_no, balance):\n",
    "        self.card_no = card_no\n",
    "        self.balance = balance\n",
    "\n",
    "class Customer:\n",
    "    def __init__(self,cards):\n",
    "        self.cards=cards\n",
    "\n",
    "    def purchase_item(self, price, card_no):\n",
    "        if price < 0:\n",
    "            raise Exception()\n",
    "        if card_no not in self.cards:\n",
    "            raise Exception()\n",
    "        if price>self.cards[card_no].balance:\n",
    "            raise Exception()\n",
    "\n",
    "card1=CreditCard(101,800)\n",
    "card2=CreditCard(102,2000)\n",
    "cards={card1.card_no:card1,card2.card_no:card2}\n",
    "c=Customer(cards)\n",
    "\n",
    "while(True):\n",
    "    card_no=int(input(\"Please enter a card number\"))\n",
    "    try:\n",
    "        c.purchase_item(1200,card_no)\n",
    "        break\n",
    "    except Exception as e:\n",
    "        print(\"Something went wrong. \"+str(e))"
   ]
  },
  {
   "cell_type": "code",
   "execution_count": null,
   "metadata": {},
   "outputs": [],
   "source": [
    "class InvalidPrice(Exception):\n",
    "    pass\n",
    "\n",
    "class WrongCard(Exception):\n",
    "    pass\n",
    "\n",
    "class CreditCard:\n",
    "    def __init__(self, card_no, balance):\n",
    "        self.card_no=card_no\n",
    "        self.balance=balance\n",
    "\n",
    "class Customer:\n",
    "    def __init__(self,cards):\n",
    "        self.cards=cards\n",
    "    def purchase_item(self,price,card_no):\n",
    "        if price < 0:\n",
    "            raise InvalidPrice(\"The price is wrong\")\n",
    "        if card_no not in self.cards:\n",
    "            raise WrongCard(\"Card is invalid\")\n",
    "        if price>self.cards[card_no].balance:\n",
    "            raise WrongCard(\"Card has insufficient balance\")\n",
    "\n",
    "card1=CreditCard(101,800)\n",
    "card2=CreditCard(102,2000)\n",
    "cards={card1.card_no:card1,card2.card_no:card2}\n",
    "c=Customer(cards)\n",
    "\n",
    "while(True):\n",
    "    card_no=int(input(\"Please enter a card number\"))\n",
    "    try:\n",
    "        c.purchase_item(1200,card_no)\n",
    "        break\n",
    "    except InvalidPrice as e:\n",
    "        print(str(e))\n",
    "        break\n",
    "    except WrongCard as e:\n",
    "        print(str(e))\n",
    "        continue\n",
    "    except Exception as e:\n",
    "        print(\"Something went wrong. \"+str(e))"
   ]
  },
  {
   "cell_type": "code",
   "execution_count": null,
   "metadata": {},
   "outputs": [],
   "source": [
    "class InvalidPrice(Exception):\n",
    "    pass\n",
    "class WrongCard(Exception):\n",
    "    pass\n",
    "\n",
    "try:\n",
    "    raise InvalidPrice()\n",
    "except Exception as e:\n",
    "    print(\"Exception\")\n",
    "except InvalidPrice:\n",
    "    print(\"InvalidPrice\")\n",
    "except WrongCard:\n",
    "    print(\"WrongCard\")"
   ]
  },
  {
   "cell_type": "markdown",
   "metadata": {},
   "source": [
    "Here also we find the except block of Exception runs first. This is because internally all exceptions are subclasses of the Exception class. This is why we should always keep the except block of Exception as the last one"
   ]
  },
  {
   "cell_type": "code",
   "execution_count": 1,
   "metadata": {},
   "outputs": [
    {
     "name": "stdout",
     "output_type": "stream",
     "text": [
      "raising <class 'ValueError'>\n",
      "Caught a ValueError\n",
      "This cleanup code is always called\n"
     ]
    }
   ],
   "source": [
    "import random\n",
    "\n",
    "some_exceptions = [ValueError, TypeError, IndexError, None]\n",
    "\n",
    "try:\n",
    "    choice = random.choice(some_exceptions)\n",
    "    print(\"raising {}\".format(choice))\n",
    "    if choice:\n",
    "        raise choice(\"An error\")\n",
    "except ValueError:\n",
    "    print(\"Caught a ValueError\")\n",
    "except TypeError:\n",
    "    print(\"Caught a TypeError\")\n",
    "except Exception as e:\n",
    "    print(\"Caught some other error: %s\" % (e.__class__.__name__))\n",
    "else:\n",
    "    print(\"This code called if there is no exception\")\n",
    "finally:\n",
    "    print(\"This cleanup code is always called\")"
   ]
  },
  {
   "cell_type": "code",
   "execution_count": null,
   "metadata": {},
   "outputs": [],
   "source": []
  }
 ],
 "metadata": {
  "kernelspec": {
   "display_name": "Python 3",
   "language": "python",
   "name": "python3"
  },
  "language_info": {
   "codemirror_mode": {
    "name": "ipython",
    "version": 3
   },
   "file_extension": ".py",
   "mimetype": "text/x-python",
   "name": "python",
   "nbconvert_exporter": "python",
   "pygments_lexer": "ipython3",
   "version": "3.7.3"
  }
 },
 "nbformat": 4,
 "nbformat_minor": 2
}
