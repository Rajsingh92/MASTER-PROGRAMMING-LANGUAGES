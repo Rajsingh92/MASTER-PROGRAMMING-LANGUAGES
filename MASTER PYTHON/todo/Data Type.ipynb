{
 "cells": [
  {
   "cell_type": "code",
   "execution_count": 2,
   "metadata": {},
   "outputs": [
    {
     "name": "stdout",
     "output_type": "stream",
     "text": [
      "converting to integer base 2 : 21\n",
      "converting to float : 10101.0\n"
     ]
    }
   ],
   "source": [
    "num = \"10101\"\n",
    "\n",
    "i = int(num,2) \n",
    "print (\"converting to integer base 2 : \", end=\"\") \n",
    "print (i) \n",
    "\n",
    "\n",
    "f = float(num) \n",
    "print (\"converting to float : \", end=\"\") \n",
    "print (f) "
   ]
  },
  {
   "cell_type": "code",
   "execution_count": 3,
   "metadata": {},
   "outputs": [
    {
     "name": "stdout",
     "output_type": "stream",
     "text": [
      "converting string to tuple : ('r', 'a', 'j')\n",
      "converting string to set : {'r', 'a', 'j'}\n",
      "converting string to list : ['r', 'a', 'j']\n"
     ]
    }
   ],
   "source": [
    "string = 'raj'\n",
    "\n",
    "\n",
    "var = tuple(string) \n",
    "print (\"converting string to tuple : \",end=\"\") \n",
    "print (var) \n",
    "\n",
    "\n",
    "var = set(string) \n",
    "print (\"converting string to set : \",end=\"\") \n",
    "print (var) \n",
    "\n",
    "\n",
    "var = list(string) \n",
    "print (\"converting string to list : \",end=\"\") \n",
    "print (var)"
   ]
  },
  {
   "cell_type": "code",
   "execution_count": 6,
   "metadata": {},
   "outputs": [
    {
     "name": "stdout",
     "output_type": "stream",
     "text": [
      "converting character to integer : 116\n",
      "converting 56 to hexadecimal string : 0x1f\n",
      "converting 56 to octal string : 0o37\n"
     ]
    }
   ],
   "source": [
    "s = 't'\n",
    "\n",
    "var = ord(s) \n",
    "print (\"converting character to integer : \",end=\"\") \n",
    "print (var)\n",
    "\n",
    " \n",
    "var = hex(31) \n",
    "print (\"converting 56 to hexadecimal string : \",end=\"\") \n",
    "print (var)\n",
    "\n",
    "\n",
    "var = oct(31) \n",
    "print (\"converting 56 to octal string : \",end=\"\") \n",
    "print (var) "
   ]
  },
  {
   "cell_type": "code",
   "execution_count": 7,
   "metadata": {},
   "outputs": [
    {
     "name": "stdout",
     "output_type": "stream",
     "text": [
      "converting integer to complex number : (1+2j)\n",
      "converting integer to string : 1\n",
      "converting tuple to dictionary : {'a': 1, 'f': 2, 'g': 3}\n"
     ]
    }
   ],
   "source": [
    "a = 11\n",
    "b = 23\n",
    "\n",
    "\n",
    "var = complex(3,-1) \n",
    "print (\"converting integer to complex number : \",end=\"\") \n",
    "print (c) \n",
    "\n",
    " \n",
    "c = str(a) \n",
    "print (\"converting integer to string : \",end=\"\") \n",
    "print (c) \n",
    "\n",
    "tup = (('var1', 1) ,('var2', 2), ('var3', 3)) \n",
    "\n",
    "\n",
    "c = dict(tup) \n",
    "print (\"converting tuple to dictionary : \",end=\"\") \n",
    "print (c) "
   ]
  },
  {
   "cell_type": "code",
   "execution_count": null,
   "metadata": {},
   "outputs": [],
   "source": [
    "# https://realpython.com/python-data-types/"
   ]
  }
 ],
 "metadata": {
  "kernelspec": {
   "display_name": "Python 3 (ipykernel)",
   "language": "python",
   "name": "python3"
  },
  "language_info": {
   "codemirror_mode": {
    "name": "ipython",
    "version": 3
   },
   "file_extension": ".py",
   "mimetype": "text/x-python",
   "name": "python",
   "nbconvert_exporter": "python",
   "pygments_lexer": "ipython3",
   "version": "3.9.6"
  }
 },
 "nbformat": 4,
 "nbformat_minor": 2
}
