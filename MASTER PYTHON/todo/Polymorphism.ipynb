{
 "cells": [
  {
   "cell_type": "code",
   "execution_count": 1,
   "metadata": {},
   "outputs": [
    {
     "name": "stdout",
     "output_type": "stream",
     "text": [
      "5\n",
      "3\n"
     ]
    }
   ],
   "source": [
    "#polymorphism means same function name (but different signatures) being uses for different types.\n",
    "\n",
    "# Python program to demonstrate in-built poly- \n",
    "# morphic functions \n",
    "\n",
    "# len() being used for a string \n",
    "print(len(\"geeks\")) \n",
    "\n",
    "# len() being used for a list \n",
    "print(len([10, 20, 30])) "
   ]
  },
  {
   "cell_type": "code",
   "execution_count": 2,
   "metadata": {},
   "outputs": [
    {
     "name": "stdout",
     "output_type": "stream",
     "text": [
      "New Delhi is the capital of India.\n",
      "Hindi is the most widely spoken language of India.\n",
      "India is a developing country.\n",
      "Washington, D.C. is the capital of USA.\n",
      "English is the primary language of USA.\n",
      "USA is a developed country.\n"
     ]
    }
   ],
   "source": [
    "#Polymorphism with class methods:\n",
    "class India(): \n",
    "\tdef capital(self): \n",
    "\t\tprint(\"New Delhi is the capital of India.\") \n",
    "\n",
    "\tdef language(self): \n",
    "\t\tprint(\"Hindi is the most widely spoken language of India.\") \n",
    "\n",
    "\tdef type(self): \n",
    "\t\tprint(\"India is a developing country.\") \n",
    "\n",
    "class USA(): \n",
    "\tdef capital(self): \n",
    "\t\tprint(\"Washington, D.C. is the capital of USA.\") \n",
    "\n",
    "\tdef language(self): \n",
    "\t\tprint(\"English is the primary language of USA.\") \n",
    "\n",
    "\tdef type(self): \n",
    "\t\tprint(\"USA is a developed country.\") \n",
    "\n",
    "obj_ind = India() \n",
    "obj_usa = USA() \n",
    "for country in (obj_ind, obj_usa): \n",
    "\tcountry.capital() \n",
    "\tcountry.language() \n",
    "\tcountry.type()"
   ]
  },
  {
   "cell_type": "code",
   "execution_count": 3,
   "metadata": {},
   "outputs": [
    {
     "ename": "IndentationError",
     "evalue": "expected an indented block (<ipython-input-3-400ad4cbb9f7>, line 3)",
     "output_type": "error",
     "traceback": [
      "\u001b[1;36m  File \u001b[1;32m\"<ipython-input-3-400ad4cbb9f7>\"\u001b[1;36m, line \u001b[1;32m3\u001b[0m\n\u001b[1;33m    def intro(self):\u001b[0m\n\u001b[1;37m      ^\u001b[0m\n\u001b[1;31mIndentationError\u001b[0m\u001b[1;31m:\u001b[0m expected an indented block\n"
     ]
    }
   ],
   "source": [
    "#Polymorphism with Inheritance:\n",
    "class Bird: \n",
    "def intro(self): \n",
    "\tprint(\"There are many types of birds.\") \n",
    "\t\n",
    "def flight(self): \n",
    "\tprint(\"Most of the birds can fly but some cannot.\") \n",
    "\t\n",
    "class sparrow(Bird): \n",
    "def flight(self): \n",
    "\tprint(\"Sparrows can fly.\") \n",
    "\t\n",
    "class ostrich(Bird): \n",
    "def flight(self): \n",
    "\tprint(\"Ostriches cannot fly.\") \n",
    "\t\n",
    "obj_bird = Bird() \n",
    "obj_spr = sparrow() \n",
    "obj_ost = ostrich() \n",
    "\n",
    "obj_bird.intro() \n",
    "obj_bird.flight() \n",
    "\n",
    "obj_spr.intro() \n",
    "obj_spr.flight() \n",
    "\n",
    "obj_ost.intro() \n",
    "obj_ost.flight() "
   ]
  },
  {
   "cell_type": "code",
   "execution_count": 4,
   "metadata": {},
   "outputs": [
    {
     "name": "stdout",
     "output_type": "stream",
     "text": [
      "New Delhi is the capital of India.\n",
      "Hindi is the most widely spoken language of India.\n",
      "India is a developing country.\n",
      "Washington, D.C. is the capital of USA.\n",
      "English is the primary language of USA.\n",
      "USA is a developed country.\n"
     ]
    }
   ],
   "source": [
    "#Polymorphism with a Function and objects:\n",
    "class India(): \n",
    "\tdef capital(self): \n",
    "\t\tprint(\"New Delhi is the capital of India.\") \n",
    "\n",
    "\tdef language(self): \n",
    "\t\tprint(\"Hindi is the most widely spoken language of India.\") \n",
    "\n",
    "\tdef type(self): \n",
    "\t\tprint(\"India is a developing country.\") \n",
    "\n",
    "class USA(): \n",
    "\tdef capital(self): \n",
    "\t\tprint(\"Washington, D.C. is the capital of USA.\") \n",
    "\n",
    "\tdef language(self): \n",
    "\t\tprint(\"English is the primary language of USA.\") \n",
    "\n",
    "\tdef type(self): \n",
    "\t\tprint(\"USA is a developed country.\") \n",
    "\n",
    "def func(obj): \n",
    "\tobj.capital() \n",
    "\tobj.language() \n",
    "\tobj.type() \n",
    "\n",
    "obj_ind = India() \n",
    "obj_usa = USA() \n",
    "\n",
    "func(obj_ind) \n",
    "func(obj_usa) "
   ]
  },
  {
   "cell_type": "code",
   "execution_count": null,
   "metadata": {},
   "outputs": [],
   "source": []
  }
 ],
 "metadata": {
  "kernelspec": {
   "display_name": "Python 3",
   "language": "python",
   "name": "python3"
  },
  "language_info": {
   "codemirror_mode": {
    "name": "ipython",
    "version": 3
   },
   "file_extension": ".py",
   "mimetype": "text/x-python",
   "name": "python",
   "nbconvert_exporter": "python",
   "pygments_lexer": "ipython3",
   "version": "3.7.3"
  }
 },
 "nbformat": 4,
 "nbformat_minor": 2
}
