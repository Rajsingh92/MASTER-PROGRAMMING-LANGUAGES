{
 "cells": [
  {
   "cell_type": "code",
   "execution_count": 1,
   "metadata": {},
   "outputs": [
    {
     "name": "stdout",
     "output_type": "stream",
     "text": [
      "2\n",
      "7\n",
      "7\n"
     ]
    }
   ],
   "source": [
    "class MyClass: \n",
    "\n",
    "\t# Hidden member of MyClass \n",
    "\t__hiddenVariable = 0\n",
    "\t\n",
    "\t# A member method that changes \n",
    "\t# __hiddenVariable \n",
    "\tdef add(self, increment): \n",
    "\t\tself.__hiddenVariable += increment \n",
    "\t\tprint (self.__hiddenVariable) \n",
    "\n",
    "# Driver code \n",
    "myObject = MyClass()\t \n",
    "myObject.add(2) \n",
    "myObject.add(5) \n",
    "\n",
    "# This line causes error \n",
    "#print (myObject.__hiddenVariable) \n",
    "\n",
    "#write way\n",
    "print(myObject._MyClass__hiddenVariable) \n",
    "\n",
    "#Nothing in Python is truly private; internally"
   ]
  },
  {
   "cell_type": "code",
   "execution_count": null,
   "metadata": {},
   "outputs": [],
   "source": []
  }
 ],
 "metadata": {
  "kernelspec": {
   "display_name": "Python 3",
   "language": "python",
   "name": "python3"
  },
  "language_info": {
   "codemirror_mode": {
    "name": "ipython",
    "version": 3
   },
   "file_extension": ".py",
   "mimetype": "text/x-python",
   "name": "python",
   "nbconvert_exporter": "python",
   "pygments_lexer": "ipython3",
   "version": "3.7.3"
  }
 },
 "nbformat": 4,
 "nbformat_minor": 2
}
