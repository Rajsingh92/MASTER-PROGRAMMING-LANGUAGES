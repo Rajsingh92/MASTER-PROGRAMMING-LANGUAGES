{
 "cells": [
  {
   "cell_type": "code",
   "execution_count": 3,
   "metadata": {},
   "outputs": [
    {
     "name": "stdout",
     "output_type": "stream",
     "text": [
      "enter any thing:123\n",
      "123\n"
     ]
    }
   ],
   "source": [
    "var = input(\"enter any thing:\")\n",
    "print(var)"
   ]
  },
  {
   "cell_type": "code",
   "execution_count": 6,
   "metadata": {},
   "outputs": [
    {
     "name": "stdout",
     "output_type": "stream",
     "text": [
      "Enter number :2\n",
      "2\n",
      "Enter name : raj\n",
      "raj\n",
      "2raj\n",
      "type of number <class 'str'>\n",
      "type of name <class 'str'>\n"
     ]
    }
   ],
   "source": [
    "#Whatever you enter as input, input function convert it into a string..\n",
    "var1 = input (\"Enter number :\") \n",
    "print(var1) \n",
    "var2 = input(\"Enter name : \") \n",
    "print(var2) \n",
    "\n",
    "print(var1+var2)\n",
    " \n",
    "print (\"type of number\", type(var1)) \n",
    "print (\"type of name\", type(var2)) "
   ]
  },
  {
   "cell_type": "code",
   "execution_count": 7,
   "metadata": {},
   "outputs": [
    {
     "name": "stdout",
     "output_type": "stream",
     "text": [
      "Enter number :2\n",
      "2\n",
      "Enter number : 5\n",
      "5\n",
      "7\n",
      "type of number <class 'int'>\n",
      "type of name <class 'int'>\n"
     ]
    }
   ],
   "source": [
    "var1 = int(input (\"Enter number :\"))\n",
    "print(var1) \n",
    "var2 = int(input(\"Enter number : \"))\n",
    "print(var2)\n",
    "\n",
    "print(var1+var2)\n",
    "\n",
    "print (\"type of number\", type(var1)) \n",
    "print (\"type of name\", type(var2)) "
   ]
  },
  {
   "cell_type": "code",
   "execution_count": 8,
   "metadata": {},
   "outputs": [
    {
     "name": "stdout",
     "output_type": "stream",
     "text": [
      "Enter number :1.2\n",
      "1.2\n",
      "Enter number : 2.3\n",
      "2.3\n",
      "3.5\n",
      "type of number <class 'float'>\n",
      "type of name <class 'float'>\n"
     ]
    }
   ],
   "source": [
    "var1 = float(input (\"Enter number :\"))\n",
    "print(var1) \n",
    "var2 = float(input(\"Enter number : \"))\n",
    "print(var2)\n",
    "\n",
    "print(var1+var2)\n",
    "\n",
    "print (\"type of number\", type(var1)) \n",
    "print (\"type of name\", type(var2)) "
   ]
  },
  {
   "cell_type": "code",
   "execution_count": 14,
   "metadata": {},
   "outputs": [
    {
     "name": "stdout",
     "output_type": "stream",
     "text": [
      "Enter values: 1 2 3\n",
      "first number:  1\n",
      "second number :  2\n",
      "third number :  3\n",
      "\n",
      "First number  1 , second number 2 and third number 3 \n"
     ]
    }
   ],
   "source": [
    "x, y, z = map(int,input(\"Enter values: \").split())\n",
    "print(\"first number: \", x) \n",
    "print(\"second number : \", y) \n",
    "print(\"third number : \", z) \n",
    "print()\n",
    "print(\"First number  {} , second number {} and third number {} \".format(x,y,z))  "
   ]
  },
  {
   "cell_type": "code",
   "execution_count": 17,
   "metadata": {},
   "outputs": [
    {
     "name": "stdout",
     "output_type": "stream",
     "text": [
      "raj singh rajpoot\n"
     ]
    }
   ],
   "source": [
    "#the python print() function by default ends with newline\n",
    "print(\"raj singh\", end =\" \")\n",
    "print(\"rajpoot\")"
   ]
  },
  {
   "cell_type": "code",
   "execution_count": 21,
   "metadata": {},
   "outputs": [
    {
     "name": "stdout",
     "output_type": "stream",
     "text": [
      "raj singh : Hi, how are you ?\n"
     ]
    }
   ],
   "source": [
    "print(\"raj singh :\", end =\" Hi, \")\n",
    "print(\"how are you ?\")"
   ]
  },
  {
   "cell_type": "code",
   "execution_count": 26,
   "metadata": {},
   "outputs": [
    {
     "name": "stdout",
     "output_type": "stream",
     "text": [
      "r a j\n",
      "raj\n"
     ]
    }
   ],
   "source": [
    "print('r','a','j')\n",
    "print('r','a','j', sep='') "
   ]
  },
  {
   "cell_type": "code",
   "execution_count": 32,
   "metadata": {},
   "outputs": [
    {
     "name": "stdout",
     "output_type": "stream",
     "text": [
      "raj and singh\n",
      "singh and raj\n"
     ]
    }
   ],
   "source": [
    "print('{0} and {1}'.format('raj', 'singh')) \n",
    "print('{1} and {0}'.format('raj', 'singh')) "
   ]
  },
  {
   "cell_type": "code",
   "execution_count": null,
   "metadata": {},
   "outputs": [],
   "source": []
  }
 ],
 "metadata": {
  "kernelspec": {
   "display_name": "Python 3",
   "language": "python",
   "name": "python3"
  },
  "language_info": {
   "codemirror_mode": {
    "name": "ipython",
    "version": 3
   },
   "file_extension": ".py",
   "mimetype": "text/x-python",
   "name": "python",
   "nbconvert_exporter": "python",
   "pygments_lexer": "ipython3",
   "version": "3.7.3"
  }
 },
 "nbformat": 4,
 "nbformat_minor": 2
}
