{
 "cells": [
  {
   "cell_type": "code",
   "execution_count": 1,
   "metadata": {},
   "outputs": [
    {
     "name": "stdout",
     "output_type": "stream",
     "text": [
      "Geek1 False\n",
      "Geek2 True\n"
     ]
    }
   ],
   "source": [
    "class Person(object): \n",
    "\t\n",
    "\t# Constructor \n",
    "\tdef __init__(self, name): \n",
    "\t\tself.name = name \n",
    "\n",
    "\t# To get name \n",
    "\tdef getName(self): \n",
    "\t\treturn self.name \n",
    "\n",
    "\t# To check if this person is employee \n",
    "\tdef isEmployee(self): \n",
    "\t\treturn False\n",
    "\n",
    "\n",
    "# Inherited or Sub class (Note Person in bracket) \n",
    "class Employee(Person): \n",
    "\n",
    "\t# Here we return true \n",
    "\tdef isEmployee(self): \n",
    "\t\treturn True\n",
    "\n",
    "# Driver code \n",
    "emp = Person(\"Geek1\") # An Object of Person \n",
    "print(emp.getName(), emp.isEmployee()) \n",
    "\n",
    "emp = Employee(\"Geek2\") # An Object of Employee \n",
    "print(emp.getName(), emp.isEmployee()) "
   ]
  },
  {
   "cell_type": "code",
   "execution_count": 2,
   "metadata": {},
   "outputs": [
    {
     "name": "stdout",
     "output_type": "stream",
     "text": [
      "True\n",
      "False\n",
      "False\n",
      "True\n"
     ]
    }
   ],
   "source": [
    "# Python example to check if a class is \n",
    "# subclass of another \n",
    "\n",
    "class Base(object): \n",
    "\tpass # Empty Class \n",
    "\n",
    "class Derived(Base): \n",
    "\tpass # Empty Class \n",
    "\n",
    "# Driver Code \n",
    "print(issubclass(Derived, Base)) \n",
    "print(issubclass(Base, Derived)) \n",
    "\n",
    "d = Derived() \n",
    "b = Base() \n",
    "\n",
    "# b is not an instance of Derived \n",
    "print(isinstance(b, Derived)) \n",
    "\n",
    "# But d is an instance of Base \n",
    "print(isinstance(d, Base)) \n",
    "\n",
    "\n",
    "# object is root of all classes."
   ]
  },
  {
   "cell_type": "code",
   "execution_count": 4,
   "metadata": {},
   "outputs": [
    {
     "name": "stdout",
     "output_type": "stream",
     "text": [
      "Base1\n",
      "Base2\n",
      "Derived\n",
      "Geek1 Geek2\n"
     ]
    }
   ],
   "source": [
    "# Python example to show working of multiple \n",
    "# inheritance \n",
    "class Base1(object): \n",
    "\tdef __init__(self): \n",
    "\t\tself.str1 = \"Geek1\"\n",
    "\t\tprint(\"Base1\")\n",
    "\n",
    "class Base2(object): \n",
    "\tdef __init__(self): \n",
    "\t\tself.str2 = \"Geek2\"\t\t\n",
    "\t\tprint(\"Base2\")\n",
    "\n",
    "class Derived(Base1, Base2): \n",
    "\tdef __init__(self): \n",
    "\t\t\n",
    "\t\t# Calling constructors of Base1 \n",
    "\t\t# and Base2 classes \n",
    "\t\tBase1.__init__(self) \n",
    "\t\tBase2.__init__(self) \n",
    "\t\tprint(\"Derived\")\n",
    "\t\t\n",
    "\tdef printStrs(self): \n",
    "\t\tprint(self.str1, self.str2) \n",
    "\t\t\n",
    "\n",
    "ob = Derived() \n",
    "ob.printStrs()"
   ]
  },
  {
   "cell_type": "code",
   "execution_count": 12,
   "metadata": {},
   "outputs": [
    {
     "name": "stdout",
     "output_type": "stream",
     "text": [
      "10 20\n"
     ]
    }
   ],
   "source": [
    "# Python example to show that base \n",
    "# class members can be accessed in \n",
    "# derived class using base class name \n",
    "class Base(object): \n",
    "\n",
    "\t# Constructor \n",
    "\tdef __init__(self, x): \n",
    "\t\tself.x = x\t \n",
    "\n",
    "class Derived(Base): \n",
    "\n",
    "\t# Constructor \n",
    "\tdef __init__(self, x, y): \n",
    "\t\tBase.x = x \n",
    "\t\tself.y = y \n",
    "\n",
    "\tdef printXY(self): \n",
    "\t\tprint(Base.x, self.y)\n",
    "\t# print(self.x, self.y) will also work \n",
    "\t \n",
    "\n",
    "\n",
    "# Driver Code \n",
    "d = Derived(10, 20) \n",
    "d.printXY() \n"
   ]
  },
  {
   "cell_type": "code",
   "execution_count": 13,
   "metadata": {},
   "outputs": [
    {
     "name": "stdout",
     "output_type": "stream",
     "text": [
      "10 20\n"
     ]
    }
   ],
   "source": [
    "# Python example to show that base \n",
    "# class members can be accessed in \n",
    "# derived class using super() \n",
    "class Base(object): \n",
    "\n",
    "\t# Constructor \n",
    "\tdef __init__(self, x): \n",
    "\t\tself.x = x\t \n",
    "\n",
    "class Derived(Base): \n",
    "\n",
    "\t# Constructor \n",
    "\tdef __init__(self, x, y): \n",
    "\t\t\n",
    "\t\t''' In Python 3.x, \"super().__init__(name)\" \n",
    "\t\t\talso works'''\n",
    "\t\tsuper(Derived, self).__init__(x) \n",
    "\t\tself.y = y \n",
    "\n",
    "\tdef printXY(self): \n",
    "\n",
    "\t\tprint(self.x, self.y)# Note that Base.x won't work here \n",
    "\t# because super() is used in constructor \n",
    " \n",
    "\n",
    "\n",
    "# Driver Code \n",
    "d = Derived(10, 20) \n",
    "d.printXY() \n"
   ]
  },
  {
   "cell_type": "code",
   "execution_count": 14,
   "metadata": {},
   "outputs": [
    {
     "name": "stdout",
     "output_type": "stream",
     "text": [
      "4\n",
      "8\n",
      "24\n"
     ]
    }
   ],
   "source": [
    "#excercise \n",
    "#1\n",
    "\n",
    "class X(object): \n",
    "\tdef __init__(self, a): \n",
    "\t\tself.num = a \n",
    "\tdef doubleup(self): \n",
    "\t\tself.num *= 2\n",
    "\n",
    "class Y(X): \n",
    "\tdef __init__(self, a): \n",
    "\t\tX.__init__(self, a) \n",
    "\tdef tripleup(self): \n",
    "\t\tself.num *= 3\n",
    "\n",
    "obj = Y(4) \n",
    "print(obj.num) \n",
    "\n",
    "obj.doubleup() \n",
    "print(obj.num) \n",
    "\n",
    "obj.tripleup() \n",
    "print(obj.num) "
   ]
  },
  {
   "cell_type": "code",
   "execution_count": 15,
   "metadata": {},
   "outputs": [
    {
     "name": "stdout",
     "output_type": "stream",
     "text": [
      "Geek1 True E101\n"
     ]
    }
   ],
   "source": [
    "# 2\n",
    "class Person(object): \n",
    "\tdef __init__(self, name): \n",
    "\t\tself.name = name \n",
    "\t\t\n",
    "\tdef getName(self): \n",
    "\t\treturn self.name \n",
    "\t\n",
    "\tdef isEmployee(self): \n",
    "\t\treturn False\n",
    "\n",
    "# Inherited or Subclass (Note Person in bracket) \n",
    "class Employee(Person): \n",
    "\tdef __init__(self, name, eid): \n",
    "\n",
    "\t\t''' In Python 3.0+, \"super().__init__(name)\" \n",
    "\t\t\talso works'''\n",
    "\t\tsuper(Employee, self).__init__(name) \n",
    "\t\tself.empID = eid \n",
    "\t\t\n",
    "\tdef isEmployee(self): \n",
    "\t\treturn True\n",
    "\t\t\n",
    "\tdef getID(self): \n",
    "\t\treturn self.empID \n",
    "\n",
    "# Driver code \n",
    "emp = Employee(\"Geek1\", \"E101\") \n",
    "print(emp.getName(), emp.isEmployee(), emp.getID()) \n"
   ]
  },
  {
   "cell_type": "code",
   "execution_count": null,
   "metadata": {},
   "outputs": [],
   "source": []
  }
 ],
 "metadata": {
  "kernelspec": {
   "display_name": "Python 3",
   "language": "python",
   "name": "python3"
  },
  "language_info": {
   "codemirror_mode": {
    "name": "ipython",
    "version": 3
   },
   "file_extension": ".py",
   "mimetype": "text/x-python",
   "name": "python",
   "nbconvert_exporter": "python",
   "pygments_lexer": "ipython3",
   "version": "3.7.3"
  }
 },
 "nbformat": 4,
 "nbformat_minor": 2
}
