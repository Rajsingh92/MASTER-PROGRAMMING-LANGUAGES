{
 "cells": [
  {
   "cell_type": "code",
   "execution_count": 1,
   "metadata": {},
   "outputs": [
    {
     "name": "stdout",
     "output_type": "stream",
     "text": [
      "Calling Create_obj() function...\n",
      "Making Object...\n",
      "Employee created\n",
      "function end...\n",
      "Program End...\n"
     ]
    }
   ],
   "source": [
    "#Destructors are called when an object gets destroyed. In Python, destructors are not needed as much \n",
    "# needed in C++ because Python has a garbage collector that handles memory management automatically.\n",
    "\n",
    "#It is called when all references to the object have been deleted i.e when an object is garbage collected.\n",
    "\n",
    "\n",
    "# Python program to illustrate destructor \n",
    "\n",
    "class Employee: \n",
    "\n",
    "\t# Initializing \n",
    "\tdef __init__(self): \n",
    "\t\tprint('Employee created') \n",
    "\n",
    "\t# Calling destructor \n",
    "\tdef __del__(self): \n",
    "\t\tprint(\"Destructor called\") \n",
    "\n",
    "def Create_obj(): \n",
    "\tprint('Making Object...') \n",
    "\tobj = Employee() \n",
    "\tprint('function end...') \n",
    "\treturn obj \n",
    "\n",
    "print('Calling Create_obj() function...') \n",
    "obj = Create_obj() \n",
    "print('Program End...')"
   ]
  },
  {
   "cell_type": "code",
   "execution_count": 2,
   "metadata": {},
   "outputs": [],
   "source": [
    "#if your instances are involved in circular references they will live in memory for as long as the application run.\n",
    "\n",
    "# Python program to illustrate destructor \n",
    "\n",
    "class A: \n",
    "\tdef __init__(self, bb): \n",
    "\t\tself.b = bb \n",
    "\n",
    "class B: \n",
    "\tdef __init__(self): \n",
    "\t\tself.a = A(self) \n",
    "\tdef __del__(self): \n",
    "\t\tprint(\"die\") \n",
    "\n",
    "def fun(): \n",
    "\tb = B() \n",
    "\n",
    "fun() "
   ]
  },
  {
   "cell_type": "code",
   "execution_count": null,
   "metadata": {},
   "outputs": [],
   "source": []
  }
 ],
 "metadata": {
  "kernelspec": {
   "display_name": "Python 3",
   "language": "python",
   "name": "python3"
  },
  "language_info": {
   "codemirror_mode": {
    "name": "ipython",
    "version": 3
   },
   "file_extension": ".py",
   "mimetype": "text/x-python",
   "name": "python",
   "nbconvert_exporter": "python",
   "pygments_lexer": "ipython3",
   "version": "3.7.3"
  }
 },
 "nbformat": 4,
 "nbformat_minor": 2
}
