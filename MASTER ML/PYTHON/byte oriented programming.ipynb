{
 "cells": [
  {
   "cell_type": "code",
   "execution_count": 1,
   "id": "7386dfae",
   "metadata": {},
   "outputs": [
    {
     "data": {
      "text/plain": [
       "'0b11110000'"
      ]
     },
     "execution_count": 1,
     "metadata": {},
     "output_type": "execute_result"
    }
   ],
   "source": [
    "bin(240)"
   ]
  },
  {
   "cell_type": "code",
   "execution_count": 2,
   "id": "f0c08883",
   "metadata": {},
   "outputs": [
    {
     "data": {
      "text/plain": [
       "240"
      ]
     },
     "execution_count": 2,
     "metadata": {},
     "output_type": "execute_result"
    }
   ],
   "source": [
    "0b11110000"
   ]
  },
  {
   "cell_type": "code",
   "execution_count": 4,
   "id": "7fa7afc8",
   "metadata": {},
   "outputs": [
    {
     "data": {
      "text/plain": [
       "'0b11000011'"
      ]
     },
     "execution_count": 4,
     "metadata": {},
     "output_type": "execute_result"
    }
   ],
   "source": [
    "bin(0b11100100 ^ 0b00100111)"
   ]
  },
  {
   "cell_type": "code",
   "execution_count": null,
   "id": "fb97cb97",
   "metadata": {},
   "outputs": [],
   "source": []
  }
 ],
 "metadata": {
  "kernelspec": {
   "display_name": "Python 3 (ipykernel)",
   "language": "python",
   "name": "python3"
  },
  "language_info": {
   "codemirror_mode": {
    "name": "ipython",
    "version": 3
   },
   "file_extension": ".py",
   "mimetype": "text/x-python",
   "name": "python",
   "nbconvert_exporter": "python",
   "pygments_lexer": "ipython3",
   "version": "3.9.6"
  }
 },
 "nbformat": 4,
 "nbformat_minor": 5
}
