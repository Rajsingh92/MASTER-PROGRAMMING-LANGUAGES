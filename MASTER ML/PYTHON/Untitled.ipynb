{
 "cells": [
  {
   "cell_type": "code",
   "execution_count": 1,
   "id": "4feece6d",
   "metadata": {},
   "outputs": [
    {
     "name": "stdout",
     "output_type": "stream",
     "text": [
      "[(1, {'a': 'A', 'b': 'B', 'c': 'C', 'd': 'D'}),\n",
      " (2,\n",
      "  {'e': 'E',\n",
      "   'f': 'F',\n",
      "   'g': 'G',\n",
      "   'h': 'H',\n",
      "   'i': 'I',\n",
      "   'j': 'J',\n",
      "   'k': 'K',\n",
      "   'l': 'L'}),\n",
      " (3, ['m', 'n']),\n",
      " (4, ['o', 'p', 'q', 'r', 's', 't', 'u', 'v', 'w']),\n",
      " (5, ['x', 'y', 'z'])]\n"
     ]
    }
   ],
   "source": [
    "from pprint import pprint\n",
    "\n",
    "\n",
    "if __name__ == \"__main__\":\n",
    "\n",
    "    data = [(1, {'a': 'A', 'b': 'B', 'c': 'C', 'd': 'D'}),\n",
    "            (2, {'e': 'E', 'f': 'F', 'g': 'G', 'h': 'H', 'i': 'I', 'j': 'J', 'k': 'K', 'l': 'L'}), (3, ['m', 'n']),\n",
    "            (4, ['o', 'p', 'q', 'r', 's', 't', 'u', 'v', 'w']), (5, ['x', 'y', 'z']), ]\n",
    "    pprint(data)"
   ]
  },
  {
   "cell_type": "code",
   "execution_count": 2,
   "id": "0774de52",
   "metadata": {},
   "outputs": [
    {
     "name": "stdout",
     "output_type": "stream",
     "text": [
      "8\n",
      "0.5\n",
      "-8\n"
     ]
    }
   ],
   "source": [
    "def abs_():\n",
    "    print(abs(-2))\n",
    "    print(abs(-2.3))\n",
    "    print(abs(3-4j))\n",
    "\n",
    "\n",
    "def round_():\n",
    "    # floor if <5  , ceil if >=5\n",
    "    print(round(2.3456))\n",
    "    print(round(2.3456, 2))\n",
    "    print(round(2.676, 2))\n",
    "\n",
    "\n",
    "def maxmin_():\n",
    "    print(max(1, 2, 3), min(1, 2, 3))\n",
    "    print(max([1, 2, 3, 4]), min([1, 2, 3, 4]))\n",
    "    # lexicographically maximum/minimum string\n",
    "    print(max([\"raj\", \"singh\", \"raj\", \"poot\"]), min([\"raj\", \"singh\", \"raj\", \"poot\"]))\n",
    "    # longest/Smallest string\n",
    "    print(max([\"raj\", \"singh\", \"raj\", \"poot\"], key=len), min([\"raj\", \"singh\", \"raj\", \"poot\"], key=len))\n",
    "    print(max(\"abbcccd\"), min(\"abbcccd\"))  # lexicographically maximum character\n",
    "\n",
    "\n",
    "def sum_():\n",
    "    print(sum((1, 2, 3)))\n",
    "    print(sum((1, 2, 3), 2))  # 2 + (1,2,3)\n",
    "\n",
    "\n",
    "def frozenset_():\n",
    "    s = {1, 2, 3}\n",
    "    ns = frozenset(s)  # returns an unchangeable frozenset object\n",
    "    print(ns)\n",
    "\n",
    "\n",
    "# The enumerate() function adds a counter as the key of the enumerate object.\n",
    "def enumerate_():\n",
    "    print(list(enumerate((\"a\", \"b\", \"c\", \"d\", \"a\"))))\n",
    "    print(list(enumerate(\"abc\")))\n",
    "    print(list(enumerate(\"abc\", 3)))\n",
    "\n",
    "    for index, char in enumerate(\"abc\"):\n",
    "        print(str(index)+\" -> \"+char)\n",
    "\n",
    "\n",
    "def sorted_():\n",
    "    # Original list not modified\n",
    "    print(sorted([3, 5, 2]))\n",
    "    print(sorted([3, 5, 2], reverse=True))\n",
    "\n",
    "    # List/Tuple/Set/Frozenset/String\n",
    "    x = ['q', 'w', 'r', 'e', 't', 'y']\n",
    "    print(sorted(x))\n",
    "\n",
    "    # Dictionary\n",
    "    x = {'q': 1, 'w': 2, 'e': 3, 'r': 4, 't': 5, 'y': 6}\n",
    "    print(sorted(x))\n",
    "\n",
    "    def func(num):\n",
    "        return num % 7\n",
    "\n",
    "    print(sorted([15, 3, 11, 7], key=func))\n",
    "    print(sorted([\"cccc\", \"b\", \"dd\", \"aaa\"], key=len))\n",
    "\n",
    "\n",
    "def pow_():\n",
    "    print(pow(2, 3))\n",
    "    print(pow(2, -1))\n",
    "    print(pow(-2, 3))\n",
    "\n",
    "\n",
    "if __name__ == \"__main__\":\n",
    "    pow_()\n"
   ]
  },
  {
   "cell_type": "code",
   "execution_count": null,
   "id": "cb565f4b",
   "metadata": {},
   "outputs": [],
   "source": []
  },
  {
   "cell_type": "code",
   "execution_count": null,
   "id": "64675121",
   "metadata": {},
   "outputs": [],
   "source": [
    "# https://realpython.com/learning-paths/\n",
    "# https://realpython.com/learning-paths/functional-programming/\n",
    "# https://realpython.com/learning-paths/writing-pythonic-code/\n",
    "# https://realpython.com/python-program-structure/\n",
    "# https://realpython.com/python-conditional-statements/\n",
    "# https://realpython.com/python-while-loop/\n",
    "# https://realpython.com/python-for-loop/\n",
    "# https://realpython.com/python-namespaces-scope/\n",
    "# https://realpython.com/python-functional-programming/\n",
    "# https://realpython.com/learning-paths/object-oriented-programming-oop-python/"
   ]
  },
  {
   "cell_type": "code",
   "execution_count": null,
   "id": "3ff4b3c8",
   "metadata": {},
   "outputs": [],
   "source": []
  }
 ],
 "metadata": {
  "kernelspec": {
   "display_name": "Python 3 (ipykernel)",
   "language": "python",
   "name": "python3"
  },
  "language_info": {
   "codemirror_mode": {
    "name": "ipython",
    "version": 3
   },
   "file_extension": ".py",
   "mimetype": "text/x-python",
   "name": "python",
   "nbconvert_exporter": "python",
   "pygments_lexer": "ipython3",
   "version": "3.9.6"
  }
 },
 "nbformat": 4,
 "nbformat_minor": 5
}
