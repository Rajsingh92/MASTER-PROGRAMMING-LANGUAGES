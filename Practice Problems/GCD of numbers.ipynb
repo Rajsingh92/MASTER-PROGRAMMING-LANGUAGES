{
 "cells": [
  {
   "cell_type": "code",
   "execution_count": 4,
   "metadata": {},
   "outputs": [
    {
     "name": "stdout",
     "output_type": "stream",
     "text": [
      "Enter first number:60\n",
      "Enter first number:48\n",
      "The gcd of 60 and 48  is : 12\n"
     ]
    }
   ],
   "source": [
    "num1 = int(input(\"Enter first number:\"))\n",
    "num2 = int(input(\"Enter first number:\"))\n",
    "\n",
    "#recursion\n",
    "def computeGCD1(a,b): \n",
    "    if(b==0): \n",
    "        return a \n",
    "    else: \n",
    "        return computeGCD1(b,a%b) \n",
    "\n",
    "print (\"The gcd of {} and {}  is : \".format(num1,num2),end=\"\") \n",
    "print(computeGCD1(num1,num2))"
   ]
  },
  {
   "cell_type": "code",
   "execution_count": 5,
   "metadata": {},
   "outputs": [
    {
     "name": "stdout",
     "output_type": "stream",
     "text": [
      "The gcd of 60 and 48  is : 12\n"
     ]
    }
   ],
   "source": [
    "#loops\n",
    "def computeGCD2(x, y): \n",
    "\n",
    "    if x > y: \n",
    "        small = y \n",
    "    else: \n",
    "        small = x \n",
    "    for i in range(1, small+1): \n",
    "        if((x % i == 0) and (y % i == 0)): \n",
    "            gcd = i \n",
    "            \n",
    "    return gcd \n",
    "\n",
    "print (\"The gcd of {} and {}  is : \".format(num1,num2),end=\"\") \n",
    "print(computeGCD2(num1,num2))"
   ]
  },
  {
   "cell_type": "code",
   "execution_count": 6,
   "metadata": {},
   "outputs": [
    {
     "name": "stdout",
     "output_type": "stream",
     "text": [
      "The gcd of 60 and 48  is : 12\n"
     ]
    }
   ],
   "source": [
    "#Euclidean Algorithm\n",
    "def computeGCD3(x, y):\n",
    "    while(y): \n",
    "        x, y = y, x % y \n",
    "    return x \n",
    "\n",
    "print (\"The gcd of {} and {}  is : \".format(num1,num2),end=\"\") \n",
    "print(computeGCD3(num1,num2))"
   ]
  },
  {
   "cell_type": "code",
   "execution_count": 7,
   "metadata": {},
   "outputs": [
    {
     "name": "stdout",
     "output_type": "stream",
     "text": [
      "The gcd of 60 and 48  is : 12\n"
     ]
    }
   ],
   "source": [
    "#math function\n",
    "import math \n",
    "\n",
    "print (\"The gcd of {} and {}  is : \".format(num1,num2),end=\"\") \n",
    "print (math.gcd(num1,num2))"
   ]
  },
  {
   "cell_type": "code",
   "execution_count": null,
   "metadata": {},
   "outputs": [],
   "source": []
  }
 ],
 "metadata": {
  "kernelspec": {
   "display_name": "Python 3",
   "language": "python",
   "name": "python3"
  },
  "language_info": {
   "codemirror_mode": {
    "name": "ipython",
    "version": 3
   },
   "file_extension": ".py",
   "mimetype": "text/x-python",
   "name": "python",
   "nbconvert_exporter": "python",
   "pygments_lexer": "ipython3",
   "version": "3.7.3"
  }
 },
 "nbformat": 4,
 "nbformat_minor": 2
}
