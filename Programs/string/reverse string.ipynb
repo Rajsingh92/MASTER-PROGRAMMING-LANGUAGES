{
 "cells": [
  {
   "cell_type": "code",
   "execution_count": 1,
   "metadata": {},
   "outputs": [
    {
     "name": "stdout",
     "output_type": "stream",
     "text": [
      "jaR\n"
     ]
    }
   ],
   "source": [
    "str =\"Raj\"\n",
    "print(str[::-1])"
   ]
  },
  {
   "cell_type": "code",
   "execution_count": 4,
   "metadata": {},
   "outputs": [
    {
     "name": "stdout",
     "output_type": "stream",
     "text": [
      "[]\n",
      "['j']\n",
      "['j', 'a']\n",
      "['j', 'a', 'r']\n"
     ]
    }
   ],
   "source": [
    "str =\"raj\"\n",
    "reversedStr = []\n",
    "strlen = len(str)\n",
    "\n",
    "while strlen>0:\n",
    "    print(reversedStr)\n",
    "    reversedStr+=str[strlen-1]\n",
    "    strlen-=1\n",
    "    \n",
    "print(reversedStr)"
   ]
  },
  {
   "cell_type": "code",
   "execution_count": null,
   "metadata": {},
   "outputs": [],
   "source": []
  }
 ],
 "metadata": {
  "kernelspec": {
   "display_name": "Python 3",
   "language": "python",
   "name": "python3"
  },
  "language_info": {
   "codemirror_mode": {
    "name": "ipython",
    "version": 3
   },
   "file_extension": ".py",
   "mimetype": "text/x-python",
   "name": "python",
   "nbconvert_exporter": "python",
   "pygments_lexer": "ipython3",
   "version": "3.7.3"
  }
 },
 "nbformat": 4,
 "nbformat_minor": 2
}
